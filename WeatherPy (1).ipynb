{
 "cells": [
  {
   "cell_type": "markdown",
   "metadata": {},
   "source": [
    "# WeatherPy\n",
    "----\n",
    "\n",
    "#### Note\n",
    "* Instructions have been included for each segment. You do not have to follow them exactly, but they are included to help you think through the steps."
   ]
  },
  {
   "cell_type": "code",
   "execution_count": 3,
   "metadata": {
    "scrolled": true
   },
   "outputs": [],
   "source": [
    "# Dependencies and Setup\n",
    "import matplotlib.pyplot as plt\n",
    "import pandas as pd\n",
    "import numpy as np\n",
    "import requests\n",
    "import time\n",
    "from scipy.stats import linregress\n",
    "\n",
    "# Import API key\n",
    "from api_keys import api_key\n",
    "\n",
    "# Incorporated citipy to determine city based on latitude and longitude\n",
    "from citipy import citipy\n",
    "\n",
    "# Output File (CSV)\n",
    "output_data_file = \"output_data/cities.csv\"\n",
    "\n",
    "# Range of latitudes and longitudes\n",
    "lat_range = (-90, 90)\n",
    "lng_range = (-180, 180)"
   ]
  },
  {
   "cell_type": "markdown",
   "metadata": {},
   "source": [
    "## Generate Cities List"
   ]
  },
  {
   "cell_type": "code",
   "execution_count": 4,
   "metadata": {},
   "outputs": [
    {
     "data": {
      "text/plain": [
       "632"
      ]
     },
     "execution_count": 4,
     "metadata": {},
     "output_type": "execute_result"
    }
   ],
   "source": [
    "# List for holding lat_lngs and cities\n",
    "lat_lngs = []\n",
    "cities = []\n",
    "\n",
    "# Create a set of random lat and lng combinations\n",
    "lats = np.random.uniform(lat_range[0], lat_range[1], size=1500)\n",
    "lngs = np.random.uniform(lng_range[0], lng_range[1], size=1500)\n",
    "lat_lngs = zip(lats, lngs)\n",
    "\n",
    "# Identify nearest city for each lat, lng combination\n",
    "for lat_lng in lat_lngs:\n",
    "    city = citipy.nearest_city(lat_lng[0], lat_lng[1]).city_name\n",
    "    \n",
    "    # If the city is unique, then add it to a our cities list\n",
    "    if city not in cities:\n",
    "        cities.append(city)\n",
    "\n",
    "# Print the city count to confirm sufficient count\n",
    "len(cities)"
   ]
  },
  {
   "cell_type": "markdown",
   "metadata": {},
   "source": [
    "### Perform API Calls\n",
    "* Perform a weather check on each city using a series of successive API calls.\n",
    "* Include a print log of each city as it'sbeing processed (with the city number and city name).\n"
   ]
  },
  {
   "cell_type": "code",
   "execution_count": 5,
   "metadata": {},
   "outputs": [
    {
     "name": "stdout",
     "output_type": "stream",
     "text": [
      "No city found here, skipping to next city\n",
      "Processing Record 1 of Set 1 | busselton\n",
      "Processing Record 2 of Set 1 | nikolskoye\n",
      "Processing Record 3 of Set 1 | iqaluit\n",
      "Processing Record 4 of Set 1 | mataura\n",
      "Processing Record 5 of Set 1 | ust-karsk\n",
      "Processing Record 6 of Set 1 | mehamn\n",
      "Processing Record 7 of Set 1 | sampit\n",
      "Processing Record 8 of Set 1 | chingirlau\n",
      "Processing Record 9 of Set 1 | puerto ayora\n",
      "Processing Record 10 of Set 1 | ushuaia\n",
      "Processing Record 11 of Set 1 | albany\n",
      "Processing Record 12 of Set 1 | san pedro\n",
      "Processing Record 13 of Set 1 | bengkulu\n",
      "Processing Record 14 of Set 1 | kokopo\n",
      "Processing Record 15 of Set 1 | nishihara\n",
      "Processing Record 16 of Set 1 | hualmay\n",
      "Processing Record 17 of Set 1 | husavik\n",
      "Processing Record 18 of Set 1 | rikitea\n",
      "No city found here, skipping to next city\n",
      "Processing Record 19 of Set 1 | vestmannaeyjar\n",
      "Processing Record 20 of Set 1 | jamestown\n",
      "Processing Record 21 of Set 1 | mingaora\n",
      "Processing Record 22 of Set 1 | krasnoborsk\n",
      "Processing Record 23 of Set 1 | qaanaaq\n",
      "Processing Record 24 of Set 1 | sinnamary\n",
      "Processing Record 25 of Set 1 | carnarvon\n",
      "Processing Record 26 of Set 1 | chokurdakh\n",
      "Processing Record 27 of Set 1 | pisco\n",
      "Processing Record 28 of Set 1 | coahuayana\n",
      "Processing Record 29 of Set 1 | tura\n",
      "Processing Record 30 of Set 1 | thai binh\n",
      "Processing Record 31 of Set 1 | luena\n",
      "Processing Record 32 of Set 1 | mackenzie\n",
      "Processing Record 33 of Set 1 | nizwa\n",
      "Processing Record 34 of Set 1 | lavrentiya\n",
      "Processing Record 35 of Set 1 | lewiston\n",
      "Processing Record 36 of Set 1 | sistranda\n",
      "Processing Record 37 of Set 1 | sekoma\n",
      "Processing Record 38 of Set 1 | usolye\n",
      "Processing Record 39 of Set 1 | brenham\n",
      "Processing Record 40 of Set 1 | hermanus\n",
      "Processing Record 41 of Set 1 | yerbogachen\n",
      "Processing Record 42 of Set 1 | marawi\n",
      "Processing Record 43 of Set 1 | provideniya\n",
      "Processing Record 44 of Set 1 | port alfred\n",
      "Processing Record 45 of Set 1 | ostersund\n",
      "Processing Record 46 of Set 1 | charters towers\n",
      "Processing Record 47 of Set 1 | cape town\n",
      "No city found here, skipping to next city\n",
      "Processing Record 48 of Set 1 | punta arenas\n",
      "Processing Record 49 of Set 1 | hithadhoo\n",
      "Processing Record 50 of Set 1 | mongo\n",
      "No city found here, skipping to next city\n",
      "Processing Record 0 of Set 2 | te anau\n",
      "Processing Record 1 of Set 2 | mormugao\n",
      "Processing Record 2 of Set 2 | xuchang\n",
      "Processing Record 3 of Set 2 | pozo colorado\n",
      "Processing Record 4 of Set 2 | vallenar\n",
      "Processing Record 5 of Set 2 | collie\n",
      "Processing Record 6 of Set 2 | letterkenny\n",
      "Processing Record 7 of Set 2 | bluff\n",
      "Processing Record 8 of Set 2 | batagay\n",
      "Processing Record 9 of Set 2 | hendek\n",
      "Processing Record 10 of Set 2 | kodiak\n",
      "Processing Record 11 of Set 2 | kidal\n",
      "Processing Record 12 of Set 2 | lethem\n",
      "Processing Record 13 of Set 2 | zachary\n",
      "Processing Record 14 of Set 2 | abay\n",
      "Processing Record 15 of Set 2 | cidreira\n",
      "Processing Record 16 of Set 2 | deputatskiy\n",
      "Processing Record 17 of Set 2 | yellowknife\n",
      "Processing Record 18 of Set 2 | rocha\n",
      "Processing Record 19 of Set 2 | moranbah\n",
      "Processing Record 20 of Set 2 | port elizabeth\n",
      "No city found here, skipping to next city\n",
      "Processing Record 21 of Set 2 | gao\n",
      "Processing Record 22 of Set 2 | petropavlovsk-kamchatskiy\n",
      "Processing Record 23 of Set 2 | kipini\n",
      "Processing Record 24 of Set 2 | lithgow\n",
      "Processing Record 25 of Set 2 | flin flon\n",
      "No city found here, skipping to next city\n",
      "Processing Record 26 of Set 2 | bossangoa\n",
      "Processing Record 27 of Set 2 | xudat\n",
      "Processing Record 28 of Set 2 | kapaa\n",
      "Processing Record 29 of Set 2 | whitehorse\n",
      "Processing Record 30 of Set 2 | pangody\n",
      "Processing Record 31 of Set 2 | bredasdorp\n",
      "No city found here, skipping to next city\n",
      "Processing Record 32 of Set 2 | sucua\n",
      "Processing Record 33 of Set 2 | fortuna\n",
      "Processing Record 34 of Set 2 | georgetown\n",
      "Processing Record 35 of Set 2 | pevek\n",
      "Processing Record 36 of Set 2 | aklavik\n",
      "Processing Record 37 of Set 2 | berlevag\n",
      "Processing Record 38 of Set 2 | sur\n",
      "No city found here, skipping to next city\n",
      "Processing Record 39 of Set 2 | tasiilaq\n",
      "Processing Record 40 of Set 2 | huarmey\n",
      "Processing Record 41 of Set 2 | komsomolskiy\n",
      "Processing Record 42 of Set 2 | la romana\n",
      "Processing Record 43 of Set 2 | constitucion\n",
      "Processing Record 44 of Set 2 | adrar\n",
      "Processing Record 45 of Set 2 | atuona\n",
      "Processing Record 46 of Set 2 | tondano\n",
      "No city found here, skipping to next city\n",
      "Processing Record 47 of Set 2 | sao joao da barra\n",
      "Processing Record 48 of Set 2 | vyazma\n",
      "Processing Record 49 of Set 2 | turukhansk\n",
      "Processing Record 50 of Set 2 | lensk\n",
      "Processing Record 0 of Set 3 | bethel\n",
      "Processing Record 1 of Set 3 | dikson\n",
      "Processing Record 2 of Set 3 | vaini\n",
      "Processing Record 3 of Set 3 | algiers\n",
      "Processing Record 4 of Set 3 | aranos\n",
      "Processing Record 5 of Set 3 | hobart\n",
      "Processing Record 6 of Set 3 | shahe\n",
      "Processing Record 7 of Set 3 | samarai\n",
      "No city found here, skipping to next city\n",
      "Processing Record 8 of Set 3 | pouebo\n",
      "Processing Record 9 of Set 3 | uray\n",
      "Processing Record 10 of Set 3 | saint george\n",
      "Processing Record 11 of Set 3 | callaway\n",
      "Processing Record 12 of Set 3 | otaru\n",
      "Processing Record 13 of Set 3 | jining\n",
      "No city found here, skipping to next city\n",
      "Processing Record 14 of Set 3 | fountain hills\n",
      "Processing Record 15 of Set 3 | oksfjord\n",
      "Processing Record 16 of Set 3 | castro\n",
      "Processing Record 17 of Set 3 | santiago de cao\n",
      "Processing Record 18 of Set 3 | khatanga\n",
      "Processing Record 19 of Set 3 | gorontalo\n",
      "Processing Record 20 of Set 3 | coihaique\n",
      "Processing Record 21 of Set 3 | butaritari\n",
      "Processing Record 22 of Set 3 | port townsend\n",
      "Processing Record 23 of Set 3 | beyneu\n",
      "Processing Record 24 of Set 3 | erenhot\n",
      "Processing Record 25 of Set 3 | saucillo\n",
      "Processing Record 26 of Set 3 | richards bay\n",
      "Processing Record 27 of Set 3 | kaitangata\n",
      "Processing Record 28 of Set 3 | ponta do sol\n",
      "Processing Record 29 of Set 3 | deming\n",
      "Processing Record 30 of Set 3 | bom jesus\n",
      "Processing Record 31 of Set 3 | tuktoyaktuk\n",
      "Processing Record 32 of Set 3 | southbridge\n",
      "Processing Record 33 of Set 3 | ambilobe\n",
      "Processing Record 34 of Set 3 | mahebourg\n",
      "Processing Record 35 of Set 3 | fare\n",
      "Processing Record 36 of Set 3 | panorama\n",
      "Processing Record 37 of Set 3 | avarua\n",
      "Processing Record 38 of Set 3 | narsaq\n",
      "Processing Record 39 of Set 3 | bambous virieux\n",
      "Processing Record 40 of Set 3 | havre-saint-pierre\n",
      "Processing Record 41 of Set 3 | covington\n",
      "Processing Record 42 of Set 3 | grand gaube\n",
      "Processing Record 43 of Set 3 | wajir\n",
      "No city found here, skipping to next city\n",
      "Processing Record 44 of Set 3 | torbay\n",
      "Processing Record 45 of Set 3 | lipari\n",
      "Processing Record 46 of Set 3 | hayden\n",
      "Processing Record 47 of Set 3 | luderitz\n",
      "Processing Record 48 of Set 3 | saldanha\n",
      "Processing Record 49 of Set 3 | meulaboh\n",
      "Processing Record 50 of Set 3 | agua buena\n",
      "No city found here, skipping to next city\n",
      "Processing Record 0 of Set 4 | kualakapuas\n",
      "Processing Record 1 of Set 4 | tuatapere\n",
      "Processing Record 2 of Set 4 | nanakuli\n",
      "Processing Record 3 of Set 4 | sitka\n",
      "Processing Record 4 of Set 4 | naze\n",
      "No city found here, skipping to next city\n",
      "Processing Record 5 of Set 4 | warrnambool\n",
      "Processing Record 6 of Set 4 | praia\n",
      "Processing Record 7 of Set 4 | touros\n",
      "Processing Record 8 of Set 4 | koraput\n",
      "No city found here, skipping to next city\n",
      "Processing Record 9 of Set 4 | evensk\n",
      "Processing Record 10 of Set 4 | hobyo\n",
      "No city found here, skipping to next city\n",
      "No city found here, skipping to next city\n",
      "Processing Record 11 of Set 4 | barrow\n",
      "Processing Record 12 of Set 4 | elat\n",
      "Processing Record 13 of Set 4 | faya\n",
      "Processing Record 14 of Set 4 | victoria\n",
      "Processing Record 15 of Set 4 | olinda\n",
      "No city found here, skipping to next city\n",
      "Processing Record 16 of Set 4 | tiksi\n",
      "Processing Record 17 of Set 4 | jurado\n",
      "Processing Record 18 of Set 4 | hit\n",
      "Processing Record 19 of Set 4 | whitianga\n",
      "Processing Record 20 of Set 4 | kahului\n",
      "Processing Record 21 of Set 4 | buala\n",
      "Processing Record 22 of Set 4 | carmen\n",
      "Processing Record 23 of Set 4 | maralal\n",
      "Processing Record 24 of Set 4 | yokadouma\n",
      "Processing Record 25 of Set 4 | perth\n",
      "Processing Record 26 of Set 4 | dingle\n",
      "Processing Record 27 of Set 4 | kastamonu\n",
      "Processing Record 28 of Set 4 | thompson\n",
      "Processing Record 29 of Set 4 | son la\n",
      "Processing Record 30 of Set 4 | itaituba\n",
      "Processing Record 31 of Set 4 | maumere\n",
      "Processing Record 32 of Set 4 | taylorville\n",
      "Processing Record 33 of Set 4 | severo-kurilsk\n",
      "Processing Record 34 of Set 4 | chuy\n",
      "Processing Record 35 of Set 4 | padang\n",
      "Processing Record 36 of Set 4 | vung tau\n",
      "Processing Record 37 of Set 4 | caxito\n",
      "No city found here, skipping to next city\n",
      "Processing Record 38 of Set 4 | hambantota\n",
      "No city found here, skipping to next city\n",
      "Processing Record 39 of Set 4 | coquimbo\n",
      "Processing Record 40 of Set 4 | palmer\n",
      "Processing Record 41 of Set 4 | vao\n",
      "Processing Record 42 of Set 4 | codrington\n",
      "Processing Record 43 of Set 4 | mar del plata\n",
      "Processing Record 44 of Set 4 | otradnoye\n",
      "Processing Record 45 of Set 4 | hasaki\n",
      "No city found here, skipping to next city\n",
      "Processing Record 46 of Set 4 | ribeira grande\n",
      "Processing Record 47 of Set 4 | ugoofaaru\n",
      "No city found here, skipping to next city\n",
      "Processing Record 48 of Set 4 | atar\n",
      "Processing Record 49 of Set 4 | bonavista\n",
      "Processing Record 50 of Set 4 | moron\n",
      "Processing Record 0 of Set 5 | airai\n",
      "Processing Record 1 of Set 5 | alexandria\n",
      "Processing Record 2 of Set 5 | fairbanks\n",
      "Processing Record 3 of Set 5 | burnie\n",
      "Processing Record 4 of Set 5 | geraldton\n",
      "No city found here, skipping to next city\n",
      "Processing Record 5 of Set 5 | marsh harbour\n",
      "No city found here, skipping to next city\n",
      "Processing Record 6 of Set 5 | nushki\n",
      "No city found here, skipping to next city\n",
      "Processing Record 7 of Set 5 | america dourada\n",
      "No city found here, skipping to next city\n",
      "Processing Record 8 of Set 5 | kaeo\n",
      "Processing Record 9 of Set 5 | cabo san lucas\n",
      "No city found here, skipping to next city\n",
      "Processing Record 10 of Set 5 | svetlyy\n",
      "Processing Record 11 of Set 5 | barabinsk\n",
      "Processing Record 12 of Set 5 | broome\n",
      "Processing Record 13 of Set 5 | ahipara\n",
      "Processing Record 14 of Set 5 | kavieng\n",
      "Processing Record 15 of Set 5 | shingu\n",
      "Processing Record 16 of Set 5 | east london\n",
      "Processing Record 17 of Set 5 | rupert\n",
      "Processing Record 18 of Set 5 | pedernales\n",
      "Processing Record 19 of Set 5 | norman wells\n",
      "Processing Record 20 of Set 5 | baraboo\n",
      "Processing Record 21 of Set 5 | sorong\n",
      "Processing Record 22 of Set 5 | boende\n",
      "Processing Record 23 of Set 5 | cairns\n",
      "Processing Record 24 of Set 5 | pecos\n",
      "Processing Record 25 of Set 5 | katsuura\n",
      "Processing Record 26 of Set 5 | yulara\n",
      "Processing Record 27 of Set 5 | yankton\n",
      "Processing Record 28 of Set 5 | oranjemund\n",
      "Processing Record 29 of Set 5 | new norfolk\n",
      "Processing Record 30 of Set 5 | chapais\n",
      "Processing Record 31 of Set 5 | mayumba\n",
      "Processing Record 32 of Set 5 | khandyga\n",
      "Processing Record 33 of Set 5 | san roque\n",
      "Processing Record 34 of Set 5 | avera\n",
      "Processing Record 35 of Set 5 | hilo\n",
      "No city found here, skipping to next city\n",
      "Processing Record 36 of Set 5 | the valley\n",
      "Processing Record 37 of Set 5 | abonnema\n",
      "Processing Record 38 of Set 5 | takoradi\n",
      "Processing Record 39 of Set 5 | namatanai\n",
      "Processing Record 40 of Set 5 | todos santos\n",
      "Processing Record 41 of Set 5 | quatre cocos\n",
      "Processing Record 42 of Set 5 | peruibe\n",
      "Processing Record 43 of Set 5 | camana\n",
      "No city found here, skipping to next city\n",
      "Processing Record 44 of Set 5 | nenjiang\n",
      "No city found here, skipping to next city\n",
      "Processing Record 45 of Set 5 | sergeyevka\n",
      "Processing Record 46 of Set 5 | alofi\n",
      "Processing Record 47 of Set 5 | belyy yar\n",
      "Processing Record 48 of Set 5 | mount gambier\n",
      "Processing Record 49 of Set 5 | ilulissat\n",
      "Processing Record 50 of Set 5 | margate\n",
      "Processing Record 0 of Set 6 | kununurra\n",
      "Processing Record 1 of Set 6 | okhotsk\n",
      "Processing Record 2 of Set 6 | hailar\n",
      "Processing Record 3 of Set 6 | fenoarivo\n",
      "Processing Record 4 of Set 6 | sharan\n",
      "Processing Record 5 of Set 6 | saskylakh\n",
      "Processing Record 6 of Set 6 | jiaocheng\n",
      "No city found here, skipping to next city\n",
      "No city found here, skipping to next city\n",
      "Processing Record 7 of Set 6 | vila franca do campo\n",
      "Processing Record 8 of Set 6 | bairiki\n",
      "No city found here, skipping to next city\n",
      "Processing Record 9 of Set 6 | laguna\n",
      "Processing Record 10 of Set 6 | khani\n",
      "Processing Record 11 of Set 6 | santa comba\n",
      "No city found here, skipping to next city\n",
      "Processing Record 12 of Set 6 | slave lake\n",
      "Processing Record 13 of Set 6 | gwanda\n",
      "Processing Record 14 of Set 6 | leningradskiy\n",
      "Processing Record 15 of Set 6 | tabuk\n",
      "Processing Record 16 of Set 6 | kerema\n",
      "Processing Record 17 of Set 6 | bandar\n",
      "Processing Record 18 of Set 6 | maryborough\n",
      "Processing Record 19 of Set 6 | manggar\n",
      "Processing Record 20 of Set 6 | arraial do cabo\n",
      "Processing Record 21 of Set 6 | tahta\n",
      "Processing Record 22 of Set 6 | chegdomyn\n",
      "No city found here, skipping to next city\n",
      "Processing Record 23 of Set 6 | saint-philippe\n",
      "Processing Record 24 of Set 6 | yar-sale\n",
      "Processing Record 25 of Set 6 | vardo\n",
      "Processing Record 26 of Set 6 | bay roberts\n",
      "Processing Record 27 of Set 6 | carutapera\n",
      "Processing Record 28 of Set 6 | tezu\n",
      "Processing Record 29 of Set 6 | acapulco\n",
      "Processing Record 30 of Set 6 | mujiayingzi\n",
      "Processing Record 31 of Set 6 | boralday\n",
      "Processing Record 32 of Set 6 | haines junction\n",
      "Processing Record 33 of Set 6 | bilma\n",
      "Processing Record 34 of Set 6 | yablonovo\n",
      "Processing Record 35 of Set 6 | mecca\n",
      "Processing Record 36 of Set 6 | guadalupe y calvo\n",
      "Processing Record 37 of Set 6 | russell\n",
      "Processing Record 38 of Set 6 | okha\n",
      "Processing Record 39 of Set 6 | umm lajj\n",
      "Processing Record 40 of Set 6 | copiapo\n",
      "Processing Record 41 of Set 6 | klaksvik\n",
      "Processing Record 42 of Set 6 | ariogala\n",
      "No city found here, skipping to next city\n",
      "Processing Record 43 of Set 6 | sulangan\n",
      "Processing Record 44 of Set 6 | rawson\n",
      "Processing Record 45 of Set 6 | nelson bay\n",
      "Processing Record 46 of Set 6 | half moon bay\n",
      "Processing Record 47 of Set 6 | altamira\n",
      "Processing Record 48 of Set 6 | areka\n",
      "Processing Record 49 of Set 6 | najran\n",
      "Processing Record 50 of Set 6 | baykit\n",
      "Processing Record 0 of Set 7 | santa cruz do rio pardo\n",
      "Processing Record 1 of Set 7 | brodowski\n",
      "Processing Record 2 of Set 7 | souillac\n",
      "Processing Record 3 of Set 7 | jalu\n",
      "Processing Record 4 of Set 7 | poum\n",
      "Processing Record 5 of Set 7 | lorengau\n",
      "Processing Record 6 of Set 7 | teknaf\n",
      "Processing Record 7 of Set 7 | muros\n",
      "Processing Record 8 of Set 7 | karagay\n",
      "Processing Record 9 of Set 7 | saint-pierre\n",
      "Processing Record 10 of Set 7 | trapani\n",
      "Processing Record 11 of Set 7 | beringovskiy\n",
      "Processing Record 12 of Set 7 | lebu\n",
      "Processing Record 13 of Set 7 | maningrida\n",
      "Processing Record 14 of Set 7 | cockburn town\n",
      "Processing Record 15 of Set 7 | sosnovo-ozerskoye\n",
      "Processing Record 16 of Set 7 | faanui\n",
      "Processing Record 17 of Set 7 | nanortalik\n",
      "Processing Record 18 of Set 7 | verkhnyaya inta\n",
      "Processing Record 19 of Set 7 | pangnirtung\n",
      "Processing Record 20 of Set 7 | san vicente\n",
      "No city found here, skipping to next city\n",
      "Processing Record 21 of Set 7 | samsun\n",
      "Processing Record 22 of Set 7 | goba\n",
      "Processing Record 23 of Set 7 | broken hill\n",
      "Processing Record 24 of Set 7 | sept-iles\n",
      "Processing Record 25 of Set 7 | cayenne\n",
      "Processing Record 26 of Set 7 | krosno odrzanskie\n",
      "Processing Record 27 of Set 7 | garowe\n",
      "Processing Record 28 of Set 7 | rincon\n",
      "Processing Record 29 of Set 7 | aykhal\n",
      "Processing Record 30 of Set 7 | laramie\n",
      "Processing Record 31 of Set 7 | zhigansk\n",
      "Processing Record 32 of Set 7 | port blair\n",
      "Processing Record 33 of Set 7 | kurchum\n",
      "Processing Record 34 of Set 7 | waiouru\n",
      "Processing Record 35 of Set 7 | kemijarvi\n",
      "Processing Record 36 of Set 7 | ngunguru\n",
      "Processing Record 37 of Set 7 | pacific grove\n",
      "Processing Record 38 of Set 7 | cherskiy\n",
      "Processing Record 39 of Set 7 | druzhba\n",
      "Processing Record 40 of Set 7 | kieta\n",
      "Processing Record 41 of Set 7 | ust-nera\n",
      "Processing Record 42 of Set 7 | waddan\n",
      "Processing Record 43 of Set 7 | sirsi\n",
      "Processing Record 44 of Set 7 | port-gentil\n",
      "Processing Record 45 of Set 7 | parati\n",
      "Processing Record 46 of Set 7 | huilong\n",
      "Processing Record 47 of Set 7 | shimoda\n",
      "Processing Record 48 of Set 7 | alice springs\n",
      "Processing Record 49 of Set 7 | zelenoborskiy\n",
      "Processing Record 50 of Set 7 | santa maria\n",
      "Processing Record 0 of Set 8 | yermolayevo\n",
      "Processing Record 1 of Set 8 | fort nelson\n",
      "Processing Record 2 of Set 8 | santa fe\n",
      "Processing Record 3 of Set 8 | garden city\n",
      "Processing Record 4 of Set 8 | westport\n",
      "Processing Record 5 of Set 8 | talnakh\n",
      "Processing Record 6 of Set 8 | severomuysk\n",
      "Processing Record 7 of Set 8 | bumba\n",
      "Processing Record 8 of Set 8 | taltal\n",
      "Processing Record 9 of Set 8 | barraute\n",
      "Processing Record 10 of Set 8 | sambava\n",
      "Processing Record 11 of Set 8 | saint-georges\n",
      "No city found here, skipping to next city\n",
      "Processing Record 12 of Set 8 | tessalit\n",
      "Processing Record 13 of Set 8 | sisimiut\n",
      "Processing Record 14 of Set 8 | ishim\n",
      "Processing Record 15 of Set 8 | neiafu\n",
      "Processing Record 16 of Set 8 | ponta delgada\n",
      "Processing Record 17 of Set 8 | sao filipe\n",
      "No city found here, skipping to next city\n",
      "Processing Record 18 of Set 8 | lebowakgomo\n",
      "Processing Record 19 of Set 8 | fukue\n",
      "Processing Record 20 of Set 8 | salalah\n",
      "Processing Record 21 of Set 8 | nome\n",
      "Processing Record 22 of Set 8 | zaysan\n",
      "Processing Record 23 of Set 8 | takestan\n",
      "Processing Record 24 of Set 8 | esperance\n",
      "Processing Record 25 of Set 8 | homer\n",
      "Processing Record 26 of Set 8 | sidi ali\n",
      "Processing Record 27 of Set 8 | soubre\n",
      "Processing Record 28 of Set 8 | sao miguel do araguaia\n",
      "Processing Record 29 of Set 8 | tianpeng\n",
      "Processing Record 30 of Set 8 | vanimo\n",
      "Processing Record 31 of Set 8 | noumea\n",
      "Processing Record 32 of Set 8 | rio gallegos\n",
      "Processing Record 33 of Set 8 | kruisfontein\n",
      "No city found here, skipping to next city\n",
      "Processing Record 34 of Set 8 | iskateley\n",
      "Processing Record 35 of Set 8 | nuuk\n",
      "Processing Record 36 of Set 8 | selje\n",
      "Processing Record 37 of Set 8 | luganville\n",
      "Processing Record 38 of Set 8 | atherton\n",
      "Processing Record 39 of Set 8 | yumen\n",
      "Processing Record 40 of Set 8 | skalica\n",
      "Processing Record 41 of Set 8 | enshi\n",
      "Processing Record 42 of Set 8 | gallup\n",
      "Processing Record 43 of Set 8 | iralaya\n",
      "Processing Record 44 of Set 8 | platanos\n",
      "Processing Record 45 of Set 8 | parvatipuram\n",
      "Processing Record 46 of Set 8 | arya\n",
      "Processing Record 47 of Set 8 | beloha\n",
      "No city found here, skipping to next city\n",
      "Processing Record 48 of Set 8 | vila velha\n",
      "Processing Record 49 of Set 8 | san quintin\n",
      "Processing Record 50 of Set 8 | san patricio\n",
      "No city found here, skipping to next city\n",
      "Processing Record 0 of Set 9 | red bluff\n",
      "Processing Record 1 of Set 9 | east millcreek\n",
      "Processing Record 2 of Set 9 | rotherham\n",
      "Processing Record 3 of Set 9 | midyat\n",
      "Processing Record 4 of Set 9 | yenagoa\n",
      "Processing Record 5 of Set 9 | lahaina\n",
      "Processing Record 6 of Set 9 | mizan teferi\n",
      "Processing Record 7 of Set 9 | kodinar\n",
      "Processing Record 8 of Set 9 | thinadhoo\n",
      "Processing Record 9 of Set 9 | plouzane\n",
      "No city found here, skipping to next city\n",
      "Processing Record 10 of Set 9 | kuala terengganu\n",
      "Processing Record 11 of Set 9 | tiarei\n",
      "Processing Record 12 of Set 9 | kapuskasing\n",
      "Processing Record 13 of Set 9 | villa guerrero\n",
      "Processing Record 14 of Set 9 | dutlwe\n",
      "Processing Record 15 of Set 9 | aranda de duero\n",
      "Processing Record 16 of Set 9 | privas\n",
      "Processing Record 17 of Set 9 | aracati\n",
      "Processing Record 18 of Set 9 | hami\n",
      "Processing Record 19 of Set 9 | severodvinsk\n",
      "Processing Record 20 of Set 9 | lakatoro\n",
      "Processing Record 21 of Set 9 | scicli\n",
      "Processing Record 22 of Set 9 | troitskoye\n",
      "Processing Record 23 of Set 9 | henties bay\n",
      "Processing Record 24 of Set 9 | price\n",
      "Processing Record 25 of Set 9 | oktyabrskiy\n",
      "No city found here, skipping to next city\n",
      "Processing Record 26 of Set 9 | trujillo\n",
      "No city found here, skipping to next city\n",
      "Processing Record 27 of Set 9 | americana\n",
      "Processing Record 28 of Set 9 | lydenburg\n",
      "Processing Record 29 of Set 9 | vestmanna\n",
      "Processing Record 30 of Set 9 | la ronge\n",
      "Processing Record 31 of Set 9 | pinega\n",
      "Processing Record 32 of Set 9 | khandagayty\n",
      "Processing Record 33 of Set 9 | cooma\n",
      "Processing Record 34 of Set 9 | eureka\n",
      "Processing Record 35 of Set 9 | awbari\n",
      "Processing Record 36 of Set 9 | hofn\n",
      "Processing Record 37 of Set 9 | vadum\n",
      "Processing Record 38 of Set 9 | scottsbluff\n",
      "Processing Record 39 of Set 9 | polunochnoye\n",
      "Processing Record 40 of Set 9 | callaguip\n",
      "Processing Record 41 of Set 9 | dubbo\n",
      "Processing Record 42 of Set 9 | flinders\n",
      "Processing Record 43 of Set 9 | upernavik\n",
      "Processing Record 44 of Set 9 | ostrovnoy\n",
      "Processing Record 45 of Set 9 | lompoc\n",
      "Processing Record 46 of Set 9 | bacungan\n",
      "Processing Record 47 of Set 9 | sola\n",
      "Processing Record 48 of Set 9 | hervey bay\n",
      "Processing Record 49 of Set 9 | montbrison\n",
      "Processing Record 50 of Set 9 | loveland\n",
      "No city found here, skipping to next city\n",
      "Processing Record 0 of Set 10 | mahanje\n",
      "Processing Record 1 of Set 10 | limbe\n",
      "Processing Record 2 of Set 10 | salaga\n",
      "Processing Record 3 of Set 10 | omboue\n",
      "Processing Record 4 of Set 10 | aktau\n",
      "Processing Record 5 of Set 10 | creel\n",
      "Processing Record 6 of Set 10 | solone\n",
      "Processing Record 7 of Set 10 | puerto padre\n",
      "Processing Record 8 of Set 10 | antofagasta\n",
      "Processing Record 9 of Set 10 | hoa binh\n",
      "Processing Record 10 of Set 10 | sioux lookout\n",
      "Processing Record 11 of Set 10 | shaowu\n",
      "Processing Record 12 of Set 10 | changli\n",
      "No city found here, skipping to next city\n",
      "Processing Record 13 of Set 10 | varese\n",
      "Processing Record 14 of Set 10 | usinsk\n",
      "No city found here, skipping to next city\n",
      "Processing Record 15 of Set 10 | solnechnyy\n",
      "Processing Record 16 of Set 10 | dicabisagan\n",
      "Processing Record 17 of Set 10 | necochea\n",
      "Processing Record 18 of Set 10 | awjilah\n",
      "Processing Record 19 of Set 10 | tateyama\n",
      "Processing Record 20 of Set 10 | mnogovershinnyy\n",
      "Processing Record 21 of Set 10 | alegrete\n",
      "Processing Record 22 of Set 10 | san-pedro\n",
      "Processing Record 23 of Set 10 | mende\n",
      "Processing Record 24 of Set 10 | mezen\n",
      "Processing Record 25 of Set 10 | pitimbu\n",
      "Processing Record 26 of Set 10 | inirida\n",
      "Processing Record 27 of Set 10 | hay river\n",
      "Processing Record 28 of Set 10 | el carmen de bolivar\n",
      "Processing Record 29 of Set 10 | rafaela\n",
      "No city found here, skipping to next city\n",
      "Processing Record 30 of Set 10 | turinskaya sloboda\n",
      "Processing Record 31 of Set 10 | chulym\n",
      "Processing Record 32 of Set 10 | palmas bellas\n",
      "Processing Record 33 of Set 10 | maiduguri\n",
      "Processing Record 34 of Set 10 | vila\n",
      "Processing Record 35 of Set 10 | ban phai\n",
      "Processing Record 36 of Set 10 | ritchie\n",
      "Processing Record 37 of Set 10 | killybegs\n",
      "Processing Record 38 of Set 10 | eirunepe\n",
      "Processing Record 39 of Set 10 | lagoa\n",
      "Processing Record 40 of Set 10 | namibe\n",
      "No city found here, skipping to next city\n",
      "Processing Record 41 of Set 10 | el tigre\n",
      "No city found here, skipping to next city\n",
      "Processing Record 42 of Set 10 | srednekolymsk\n",
      "Processing Record 43 of Set 10 | rawlins\n",
      "No city found here, skipping to next city\n",
      "Processing Record 44 of Set 10 | mersing\n",
      "No city found here, skipping to next city\n",
      "No city found here, skipping to next city\n",
      "Processing Record 45 of Set 10 | gigmoto\n",
      "Processing Record 46 of Set 10 | schwalmstadt\n",
      "Processing Record 47 of Set 10 | bandrele\n",
      "Processing Record 48 of Set 10 | namsos\n",
      "Processing Record 49 of Set 10 | viransehir\n",
      "Processing Record 50 of Set 10 | jos\n",
      "No city found here, skipping to next city\n",
      "Processing Record 0 of Set 11 | riyadh\n",
      "Processing Record 1 of Set 11 | uthal\n",
      "Processing Record 2 of Set 11 | maceio\n",
      "Processing Record 3 of Set 11 | labelle\n",
      "Processing Record 4 of Set 11 | partizanske\n",
      "Processing Record 5 of Set 11 | yaring\n",
      "Processing Record 6 of Set 11 | kanel\n",
      "No city found here, skipping to next city\n",
      "Processing Record 7 of Set 11 | guerrero negro\n",
      "No city found here, skipping to next city\n",
      "Processing Record 8 of Set 11 | dobsina\n",
      "Processing Record 9 of Set 11 | port hedland\n",
      "Processing Record 10 of Set 11 | udarnyy\n",
      "Processing Record 11 of Set 11 | clyde river\n",
      "Processing Record 12 of Set 11 | pimentel\n",
      "No city found here, skipping to next city\n",
      "No city found here, skipping to next city\n",
      "Processing Record 13 of Set 11 | viedma\n",
      "Processing Record 14 of Set 11 | umm kaddadah\n",
      "Processing Record 15 of Set 11 | owatonna\n",
      "Processing Record 16 of Set 11 | malinovoye ozero\n",
      "Processing Record 17 of Set 11 | katiola\n",
      "Processing Record 18 of Set 11 | zelenets\n",
      "Processing Record 19 of Set 11 | anadyr\n",
      "No city found here, skipping to next city\n",
      "Processing Record 20 of Set 11 | dongsheng\n",
      "Processing Record 21 of Set 11 | kinsale\n",
      "Processing Record 22 of Set 11 | mao\n",
      "Processing Record 23 of Set 11 | dunmore east\n",
      "Processing Record 24 of Set 11 | jacmel\n",
      "Processing Record 25 of Set 11 | aljezur\n",
      "Processing Record 26 of Set 11 | saint-augustin\n",
      "Processing Record 27 of Set 11 | la union\n",
      "Processing Record 28 of Set 11 | itarema\n",
      "Processing Record 29 of Set 11 | kavaratti\n",
      "Processing Record 30 of Set 11 | tilichiki\n",
      "Processing Record 31 of Set 11 | banjar\n",
      "No city found here, skipping to next city\n",
      "Processing Record 32 of Set 11 | vostok\n",
      "Processing Record 33 of Set 11 | rio grande\n",
      "Processing Record 34 of Set 11 | kirakira\n",
      "Processing Record 35 of Set 11 | port hardy\n",
      "Processing Record 36 of Set 11 | ketchikan\n",
      "Processing Record 37 of Set 11 | longyearbyen\n",
      "Processing Record 38 of Set 11 | acarau\n",
      "Processing Record 39 of Set 11 | kaz\n",
      "Processing Record 40 of Set 11 | urubicha\n",
      "Processing Record 41 of Set 11 | aquidauana\n",
      "Processing Record 42 of Set 11 | mariestad\n",
      "Processing Record 43 of Set 11 | porto santo\n",
      "No city found here, skipping to next city\n",
      "Processing Record 44 of Set 11 | tukrah\n",
      "Processing Record 45 of Set 11 | san cristobal\n",
      "Processing Record 46 of Set 11 | wanaka\n",
      "Processing Record 47 of Set 11 | college\n",
      "Processing Record 48 of Set 11 | osmena\n",
      "Processing Record 49 of Set 11 | smithers\n",
      "Processing Record 50 of Set 11 | west plains\n",
      "Processing Record 0 of Set 12 | shenjiamen\n",
      "Processing Record 1 of Set 12 | eufaula\n",
      "Processing Record 2 of Set 12 | anloga\n",
      "Processing Record 3 of Set 12 | saint-francois\n",
      "Processing Record 4 of Set 12 | montes claros\n",
      "Processing Record 5 of Set 12 | vernon\n",
      "Processing Record 6 of Set 12 | florida\n",
      "Processing Record 7 of Set 12 | chumikan\n",
      "Processing Record 8 of Set 12 | caravelas\n",
      "No city found here, skipping to next city\n",
      "-------------------------\n",
      "Data Retrieval Complete\n",
      "-------------------------\n"
     ]
    }
   ],
   "source": [
    "# API url and units\n",
    "url = \"http://api.openweathermap.org/data/2.5/weather?\"\n",
    "units = \"imperial\"\n",
    "\n",
    "# URL used for query\n",
    "query_url = url + \"appid=\" + api_key + \"&units=\" + units + \"&q=\"\n",
    "\n",
    "# Loop to gather weather data\n",
    "set_count = 1\n",
    "record_count = 1\n",
    "weather_data = {\"City\":[],\"Cloudiness\":[],\"Country\":[],\"Date\":[],\"Humidity\":[],\"Lat\":[],\"Lng\":[],\"Max Temp\":[],\"Wind Speed\": []}\n",
    "for city in cities:\n",
    "    weather_response = requests.get(query_url + city)\n",
    "    weather_response_json = weather_response.json()\n",
    "    \n",
    "    if weather_response.status_code == 200:\n",
    "        weather_data[\"City\"].append(city)\n",
    "        weather_data[\"Cloudiness\"].append(weather_response_json['clouds']['all'])\n",
    "        weather_data[\"Country\"].append(weather_response_json['sys']['country'])\n",
    "        weather_data[\"Date\"].append(weather_response_json['dt'])\n",
    "        weather_data[\"Humidity\"].append(weather_response_json['main']['humidity'])\n",
    "        weather_data[\"Lat\"].append(weather_response_json['coord']['lat'])\n",
    "        weather_data[\"Lng\"].append(weather_response_json['coord']['lon'])\n",
    "        weather_data[\"Max Temp\"].append(weather_response_json['main']['temp_max'])\n",
    "        weather_data[\"Wind Speed\"].append(weather_response_json['wind']['speed'])\n",
    "        if record_count <= 50:\n",
    "            print(f\"Processing Record {record_count} of Set {set_count} | {city}\")\n",
    "            record_count += 1 \n",
    "        else:\n",
    "            record_count = 0\n",
    "            set_count += 1\n",
    "            print(f\"Processing Record {record_count} of Set {set_count} | {city}\")\n",
    "            record_count += 1\n",
    "    else:\n",
    "        print(\"No city found here, skipping to next city\")\n",
    "print(\"-------------------------\")\n",
    "print(\"Data Retrieval Complete\")\n",
    "print(\"-------------------------\")\n",
    "        "
   ]
  },
  {
   "cell_type": "markdown",
   "metadata": {},
   "source": [
    "### Convert Raw Data to DataFrame\n",
    "* Export the city data into a .csv.\n",
    "* Display the DataFrame"
   ]
  },
  {
   "cell_type": "code",
   "execution_count": 6,
   "metadata": {},
   "outputs": [],
   "source": [
    "weather_df = pd.DataFrame(weather_data)\n",
    "weather_df.to_csv(\"weather_df.csv\", index=False)"
   ]
  },
  {
   "cell_type": "code",
   "execution_count": 7,
   "metadata": {},
   "outputs": [
    {
     "data": {
      "text/html": [
       "<div>\n",
       "<style scoped>\n",
       "    .dataframe tbody tr th:only-of-type {\n",
       "        vertical-align: middle;\n",
       "    }\n",
       "\n",
       "    .dataframe tbody tr th {\n",
       "        vertical-align: top;\n",
       "    }\n",
       "\n",
       "    .dataframe thead th {\n",
       "        text-align: right;\n",
       "    }\n",
       "</style>\n",
       "<table border=\"1\" class=\"dataframe\">\n",
       "  <thead>\n",
       "    <tr style=\"text-align: right;\">\n",
       "      <th></th>\n",
       "      <th>City</th>\n",
       "      <th>Cloudiness</th>\n",
       "      <th>Country</th>\n",
       "      <th>Date</th>\n",
       "      <th>Humidity</th>\n",
       "      <th>Lat</th>\n",
       "      <th>Lng</th>\n",
       "      <th>Max Temp</th>\n",
       "      <th>Wind Speed</th>\n",
       "    </tr>\n",
       "  </thead>\n",
       "  <tbody>\n",
       "    <tr>\n",
       "      <th>0</th>\n",
       "      <td>busselton</td>\n",
       "      <td>88</td>\n",
       "      <td>AU</td>\n",
       "      <td>1594606594</td>\n",
       "      <td>66</td>\n",
       "      <td>-33.65</td>\n",
       "      <td>115.33</td>\n",
       "      <td>64.00</td>\n",
       "      <td>14.63</td>\n",
       "    </tr>\n",
       "    <tr>\n",
       "      <th>1</th>\n",
       "      <td>nikolskoye</td>\n",
       "      <td>0</td>\n",
       "      <td>RU</td>\n",
       "      <td>1594606763</td>\n",
       "      <td>87</td>\n",
       "      <td>59.70</td>\n",
       "      <td>30.79</td>\n",
       "      <td>52.00</td>\n",
       "      <td>2.24</td>\n",
       "    </tr>\n",
       "    <tr>\n",
       "      <th>2</th>\n",
       "      <td>iqaluit</td>\n",
       "      <td>75</td>\n",
       "      <td>CA</td>\n",
       "      <td>1594606756</td>\n",
       "      <td>76</td>\n",
       "      <td>63.75</td>\n",
       "      <td>-68.51</td>\n",
       "      <td>53.60</td>\n",
       "      <td>9.17</td>\n",
       "    </tr>\n",
       "    <tr>\n",
       "      <th>3</th>\n",
       "      <td>mataura</td>\n",
       "      <td>83</td>\n",
       "      <td>NZ</td>\n",
       "      <td>1594606764</td>\n",
       "      <td>83</td>\n",
       "      <td>-46.19</td>\n",
       "      <td>168.86</td>\n",
       "      <td>45.00</td>\n",
       "      <td>4.92</td>\n",
       "    </tr>\n",
       "    <tr>\n",
       "      <th>4</th>\n",
       "      <td>ust-karsk</td>\n",
       "      <td>55</td>\n",
       "      <td>RU</td>\n",
       "      <td>1594606764</td>\n",
       "      <td>27</td>\n",
       "      <td>52.70</td>\n",
       "      <td>118.81</td>\n",
       "      <td>92.57</td>\n",
       "      <td>1.41</td>\n",
       "    </tr>\n",
       "  </tbody>\n",
       "</table>\n",
       "</div>"
      ],
      "text/plain": [
       "         City  Cloudiness Country        Date  Humidity    Lat     Lng  \\\n",
       "0   busselton          88      AU  1594606594        66 -33.65  115.33   \n",
       "1  nikolskoye           0      RU  1594606763        87  59.70   30.79   \n",
       "2     iqaluit          75      CA  1594606756        76  63.75  -68.51   \n",
       "3     mataura          83      NZ  1594606764        83 -46.19  168.86   \n",
       "4   ust-karsk          55      RU  1594606764        27  52.70  118.81   \n",
       "\n",
       "   Max Temp  Wind Speed  \n",
       "0     64.00       14.63  \n",
       "1     52.00        2.24  \n",
       "2     53.60        9.17  \n",
       "3     45.00        4.92  \n",
       "4     92.57        1.41  "
      ]
     },
     "execution_count": 7,
     "metadata": {},
     "output_type": "execute_result"
    }
   ],
   "source": [
    "weather_df.head()"
   ]
  },
  {
   "cell_type": "markdown",
   "metadata": {},
   "source": [
    "## Inspect the data and remove the cities where the humidity > 100%.\n",
    "----\n",
    "Skip this step if there are no cities that have humidity > 100%. "
   ]
  },
  {
   "cell_type": "code",
   "execution_count": 6,
   "metadata": {},
   "outputs": [
    {
     "data": {
      "text/html": [
       "<div>\n",
       "<style scoped>\n",
       "    .dataframe tbody tr th:only-of-type {\n",
       "        vertical-align: middle;\n",
       "    }\n",
       "\n",
       "    .dataframe tbody tr th {\n",
       "        vertical-align: top;\n",
       "    }\n",
       "\n",
       "    .dataframe thead th {\n",
       "        text-align: right;\n",
       "    }\n",
       "</style>\n",
       "<table border=\"1\" class=\"dataframe\">\n",
       "  <thead>\n",
       "    <tr style=\"text-align: right;\">\n",
       "      <th></th>\n",
       "      <th>Lat</th>\n",
       "      <th>Lng</th>\n",
       "      <th>Max Temp</th>\n",
       "      <th>Humidity</th>\n",
       "      <th>Cloudiness</th>\n",
       "      <th>Wind Speed</th>\n",
       "      <th>Date</th>\n",
       "    </tr>\n",
       "  </thead>\n",
       "  <tbody>\n",
       "    <tr>\n",
       "      <th>count</th>\n",
       "      <td>550.000000</td>\n",
       "      <td>550.000000</td>\n",
       "      <td>550.000000</td>\n",
       "      <td>550.000000</td>\n",
       "      <td>550.000000</td>\n",
       "      <td>550.000000</td>\n",
       "      <td>5.500000e+02</td>\n",
       "    </tr>\n",
       "    <tr>\n",
       "      <th>mean</th>\n",
       "      <td>19.973545</td>\n",
       "      <td>17.124400</td>\n",
       "      <td>58.331400</td>\n",
       "      <td>67.890909</td>\n",
       "      <td>52.141818</td>\n",
       "      <td>8.544800</td>\n",
       "      <td>1.585764e+09</td>\n",
       "    </tr>\n",
       "    <tr>\n",
       "      <th>std</th>\n",
       "      <td>33.284840</td>\n",
       "      <td>91.595451</td>\n",
       "      <td>25.795297</td>\n",
       "      <td>20.864881</td>\n",
       "      <td>35.766469</td>\n",
       "      <td>6.078869</td>\n",
       "      <td>5.539674e+01</td>\n",
       "    </tr>\n",
       "    <tr>\n",
       "      <th>min</th>\n",
       "      <td>-54.800000</td>\n",
       "      <td>-179.170000</td>\n",
       "      <td>-11.340000</td>\n",
       "      <td>9.000000</td>\n",
       "      <td>0.000000</td>\n",
       "      <td>0.160000</td>\n",
       "      <td>1.585764e+09</td>\n",
       "    </tr>\n",
       "    <tr>\n",
       "      <th>25%</th>\n",
       "      <td>-8.077500</td>\n",
       "      <td>-64.627500</td>\n",
       "      <td>42.800000</td>\n",
       "      <td>55.000000</td>\n",
       "      <td>20.000000</td>\n",
       "      <td>4.525000</td>\n",
       "      <td>1.585764e+09</td>\n",
       "    </tr>\n",
       "    <tr>\n",
       "      <th>50%</th>\n",
       "      <td>23.630000</td>\n",
       "      <td>19.635000</td>\n",
       "      <td>64.940000</td>\n",
       "      <td>72.000000</td>\n",
       "      <td>57.000000</td>\n",
       "      <td>7.325000</td>\n",
       "      <td>1.585764e+09</td>\n",
       "    </tr>\n",
       "    <tr>\n",
       "      <th>75%</th>\n",
       "      <td>48.672500</td>\n",
       "      <td>97.350000</td>\n",
       "      <td>78.800000</td>\n",
       "      <td>83.000000</td>\n",
       "      <td>86.750000</td>\n",
       "      <td>11.410000</td>\n",
       "      <td>1.585764e+09</td>\n",
       "    </tr>\n",
       "    <tr>\n",
       "      <th>max</th>\n",
       "      <td>78.220000</td>\n",
       "      <td>179.320000</td>\n",
       "      <td>102.200000</td>\n",
       "      <td>100.000000</td>\n",
       "      <td>100.000000</td>\n",
       "      <td>46.080000</td>\n",
       "      <td>1.585764e+09</td>\n",
       "    </tr>\n",
       "  </tbody>\n",
       "</table>\n",
       "</div>"
      ],
      "text/plain": [
       "              Lat         Lng    Max Temp    Humidity  Cloudiness  Wind Speed  \\\n",
       "count  550.000000  550.000000  550.000000  550.000000  550.000000  550.000000   \n",
       "mean    19.973545   17.124400   58.331400   67.890909   52.141818    8.544800   \n",
       "std     33.284840   91.595451   25.795297   20.864881   35.766469    6.078869   \n",
       "min    -54.800000 -179.170000  -11.340000    9.000000    0.000000    0.160000   \n",
       "25%     -8.077500  -64.627500   42.800000   55.000000   20.000000    4.525000   \n",
       "50%     23.630000   19.635000   64.940000   72.000000   57.000000    7.325000   \n",
       "75%     48.672500   97.350000   78.800000   83.000000   86.750000   11.410000   \n",
       "max     78.220000  179.320000  102.200000  100.000000  100.000000   46.080000   \n",
       "\n",
       "               Date  \n",
       "count  5.500000e+02  \n",
       "mean   1.585764e+09  \n",
       "std    5.539674e+01  \n",
       "min    1.585764e+09  \n",
       "25%    1.585764e+09  \n",
       "50%    1.585764e+09  \n",
       "75%    1.585764e+09  \n",
       "max    1.585764e+09  "
      ]
     },
     "execution_count": 6,
     "metadata": {},
     "output_type": "execute_result"
    }
   ],
   "source": [
    "#### I HAVE NO CITIES THAT QUALIFY FOR THIS EXERCISE"
   ]
  },
  {
   "cell_type": "code",
   "execution_count": 8,
   "metadata": {},
   "outputs": [],
   "source": [
    "#  Get the indices of cities that have humidity over 100%.\n",
    "#### I HAVE NO CITIES THAT QUALIFY FOR THIS EXERCISE"
   ]
  },
  {
   "cell_type": "code",
   "execution_count": 9,
   "metadata": {},
   "outputs": [],
   "source": [
    "# Make a new DataFrame equal to the city data to drop all humidity outliers by index.\n",
    "# Passing \"inplace=False\" will make a copy of the city_data DataFrame, which we call \"clean_city_data\".\n",
    "#### I HAVE NO CITIES THAT QUALIFY FOR THIS EXERCISE"
   ]
  },
  {
   "cell_type": "code",
   "execution_count": 9,
   "metadata": {},
   "outputs": [],
   "source": [
    "# Extract relevant fields from the data frame\n",
    "#### I HAVE NO CITIES THAT QUALIFY FOR THIS EXERCISE\n",
    "\n",
    "# Export the City_Data into a csv\n"
   ]
  },
  {
   "cell_type": "markdown",
   "metadata": {},
   "source": [
    "## Plotting the Data\n",
    "* Use proper labeling of the plots using plot titles (including date of analysis) and axes labels.\n",
    "* Save the plotted figures as .pngs."
   ]
  },
  {
   "cell_type": "markdown",
   "metadata": {},
   "source": [
    "## Latitude vs. Temperature Plot"
   ]
  },
  {
   "cell_type": "code",
   "execution_count": 10,
   "metadata": {
    "scrolled": true
   },
   "outputs": [
    {
     "data": {
      "image/png": "[encoded data removed]",
      "text/plain": [
       "<Figure size 432x288 with 1 Axes>"
      ]
     },
     "metadata": {
      "needs_background": "light"
     },
     "output_type": "display_data"
    }
   ],
   "source": [
    "\n",
    "# Scatter Plot\n",
    "plt.scatter(weather_df[\"Lat\"], weather_df[\"Max Temp\"], s=15, c=\"red\", edgecolors=\"black\")\n",
    "plt.title(\"City Latitude vs. Max Temperature (04/22/20)\")\n",
    "plt.xlabel(\"Latitude\")\n",
    "plt.ylabel(\"Max Temperature (F)\")\n",
    "plt.grid(True)\n",
    "plt.savefig(\"Lat_vs_Max_Temp.png\")\n",
    "plt.show()"
   ]
  },
  {
   "cell_type": "markdown",
   "metadata": {},
   "source": [
    "## Latitude vs. Humidity Plot"
   ]
  },
  {
   "cell_type": "code",
   "execution_count": 11,
   "metadata": {},
   "outputs": [
    {
     "data": {
      "image/png": "[encoded data removed]",
      "text/plain": [
       "<Figure size 432x288 with 1 Axes>"
      ]
     },
     "metadata": {
      "needs_background": "light"
     },
     "output_type": "display_data"
    }
   ],
   "source": [
    "\n",
    "# Scatter Plot\n",
    "plt.scatter(weather_df[\"Lat\"], weather_df[\"Humidity\"], s=15, c=\"red\", edgecolors=\"black\")\n",
    "plt.title(\"City Latitude vs. Humidity (04/22/20)\")\n",
    "plt.xlabel(\"Latitude\")\n",
    "plt.ylabel(\"Humidity (%)\")\n",
    "plt.grid(True)\n",
    "plt.savefig(\"Lat_vs_Humidity.png\")\n",
    "plt.show()"
   ]
  },
  {
   "cell_type": "markdown",
   "metadata": {},
   "source": [
    "## Latitude vs. Cloudiness Plot"
   ]
  },
  {
   "cell_type": "code",
   "execution_count": 12,
   "metadata": {},
   "outputs": [
    {
     "data": {
      "image/png": "[encoded data removed]",
      "text/plain": [
       "<Figure size 432x288 with 1 Axes>"
      ]
     },
     "metadata": {
      "needs_background": "light"
     },
     "output_type": "display_data"
    }
   ],
   "source": [
    "# Scatter Plot\n",
    "plt.scatter(weather_df[\"Lat\"], weather_df[\"Cloudiness\"], s=15, c=\"red\", edgecolors=\"black\")\n",
    "plt.title(\"City Latitude vs. Cloudiness (04/22/20)\")\n",
    "plt.xlabel(\"Latitude\")\n",
    "plt.ylabel(\"Cloudiness (%)\")\n",
    "plt.grid(True)\n",
    "plt.savefig(\"Lat_vs_Cloudiness.png\")\n",
    "plt.show()"
   ]
  },
  {
   "cell_type": "markdown",
   "metadata": {},
   "source": [
    "## Latitude vs. Wind Speed Plot"
   ]
  },
  {
   "cell_type": "code",
   "execution_count": 13,
   "metadata": {},
   "outputs": [
    {
     "data": {
      "image/png": "[encoded data removed]",
      "text/plain": [
       "<Figure size 432x288 with 1 Axes>"
      ]
     },
     "metadata": {
      "needs_background": "light"
     },
     "output_type": "display_data"
    }
   ],
   "source": [
    "# Scatter Plot\n",
    "plt.scatter(weather_df[\"Lat\"], weather_df[\"Wind Speed\"], s=15, c=\"red\", edgecolors=\"black\")\n",
    "plt.title(\"City Latitude vs. Wind Speed (04/22/20)\")\n",
    "plt.xlabel(\"Latitude\")\n",
    "plt.ylabel(\"Wind Speed (mph)\")\n",
    "plt.grid(True)\n",
    "plt.savefig(\"Lat_vs_Wind.png\")\n",
    "plt.show()"
   ]
  },
  {
   "cell_type": "markdown",
   "metadata": {},
   "source": [
    "## Linear Regression"
   ]
  },
  {
   "cell_type": "code",
   "execution_count": 14,
   "metadata": {},
   "outputs": [],
   "source": [
    "# OPTIONAL: Create a function to create Linear Regression plots"
   ]
  },
  {
   "cell_type": "code",
   "execution_count": 14,
   "metadata": {},
   "outputs": [
    {
     "data": {
      "text/html": [
       "<div>\n",
       "<style scoped>\n",
       "    .dataframe tbody tr th:only-of-type {\n",
       "        vertical-align: middle;\n",
       "    }\n",
       "\n",
       "    .dataframe tbody tr th {\n",
       "        vertical-align: top;\n",
       "    }\n",
       "\n",
       "    .dataframe thead th {\n",
       "        text-align: right;\n",
       "    }\n",
       "</style>\n",
       "<table border=\"1\" class=\"dataframe\">\n",
       "  <thead>\n",
       "    <tr style=\"text-align: right;\">\n",
       "      <th></th>\n",
       "      <th>City</th>\n",
       "      <th>Cloudiness</th>\n",
       "      <th>Country</th>\n",
       "      <th>Date</th>\n",
       "      <th>Humidity</th>\n",
       "      <th>Lat</th>\n",
       "      <th>Lng</th>\n",
       "      <th>Max Temp</th>\n",
       "      <th>Wind Speed</th>\n",
       "    </tr>\n",
       "  </thead>\n",
       "  <tbody>\n",
       "    <tr>\n",
       "      <th>1</th>\n",
       "      <td>nikolskoye</td>\n",
       "      <td>0</td>\n",
       "      <td>RU</td>\n",
       "      <td>1594606763</td>\n",
       "      <td>87</td>\n",
       "      <td>59.70</td>\n",
       "      <td>30.79</td>\n",
       "      <td>52.00</td>\n",
       "      <td>2.24</td>\n",
       "    </tr>\n",
       "    <tr>\n",
       "      <th>2</th>\n",
       "      <td>iqaluit</td>\n",
       "      <td>75</td>\n",
       "      <td>CA</td>\n",
       "      <td>1594606756</td>\n",
       "      <td>76</td>\n",
       "      <td>63.75</td>\n",
       "      <td>-68.51</td>\n",
       "      <td>53.60</td>\n",
       "      <td>9.17</td>\n",
       "    </tr>\n",
       "    <tr>\n",
       "      <th>4</th>\n",
       "      <td>ust-karsk</td>\n",
       "      <td>55</td>\n",
       "      <td>RU</td>\n",
       "      <td>1594606764</td>\n",
       "      <td>27</td>\n",
       "      <td>52.70</td>\n",
       "      <td>118.81</td>\n",
       "      <td>92.57</td>\n",
       "      <td>1.41</td>\n",
       "    </tr>\n",
       "    <tr>\n",
       "      <th>5</th>\n",
       "      <td>mehamn</td>\n",
       "      <td>0</td>\n",
       "      <td>NO</td>\n",
       "      <td>1594606764</td>\n",
       "      <td>81</td>\n",
       "      <td>71.04</td>\n",
       "      <td>27.85</td>\n",
       "      <td>48.22</td>\n",
       "      <td>4.05</td>\n",
       "    </tr>\n",
       "    <tr>\n",
       "      <th>7</th>\n",
       "      <td>chingirlau</td>\n",
       "      <td>100</td>\n",
       "      <td>KZ</td>\n",
       "      <td>1594606764</td>\n",
       "      <td>51</td>\n",
       "      <td>51.09</td>\n",
       "      <td>54.08</td>\n",
       "      <td>78.60</td>\n",
       "      <td>8.46</td>\n",
       "    </tr>\n",
       "  </tbody>\n",
       "</table>\n",
       "</div>"
      ],
      "text/plain": [
       "         City  Cloudiness Country        Date  Humidity    Lat     Lng  \\\n",
       "1  nikolskoye           0      RU  1594606763        87  59.70   30.79   \n",
       "2     iqaluit          75      CA  1594606756        76  63.75  -68.51   \n",
       "4   ust-karsk          55      RU  1594606764        27  52.70  118.81   \n",
       "5      mehamn           0      NO  1594606764        81  71.04   27.85   \n",
       "7  chingirlau         100      KZ  1594606764        51  51.09   54.08   \n",
       "\n",
       "   Max Temp  Wind Speed  \n",
       "1     52.00        2.24  \n",
       "2     53.60        9.17  \n",
       "4     92.57        1.41  \n",
       "5     48.22        4.05  \n",
       "7     78.60        8.46  "
      ]
     },
     "execution_count": 14,
     "metadata": {},
     "output_type": "execute_result"
    }
   ],
   "source": [
    "# Create Northern and Southern Hemisphere DataFrames\n",
    "north_df = weather_df.loc[weather_df[\"Lat\"]>=0.01]\n",
    "south_df = weather_df.loc[weather_df[\"Lat\"]<=-0.01]\n",
    "north_df.head()"
   ]
  },
  {
   "cell_type": "markdown",
   "metadata": {},
   "source": [
    "####  Northern Hemisphere - Max Temp vs. Latitude Linear Regression"
   ]
  },
  {
   "cell_type": "code",
   "execution_count": 15,
   "metadata": {},
   "outputs": [
    {
     "name": "stdout",
     "output_type": "stream",
     "text": [
      "The r-squared is: 0.402654133026821\n"
     ]
    },
    {
     "data": {
      "image/png": "[encoded data removed]",
      "text/plain": [
       "<Figure size 432x288 with 1 Axes>"
      ]
     },
     "metadata": {
      "needs_background": "light"
     },
     "output_type": "display_data"
    }
   ],
   "source": [
    "# Add the linear regression equation and line to plot\n",
    "x_values = north_df[\"Lat\"]\n",
    "y_values = north_df[\"Max Temp\"]\n",
    "(slope, intercept, rvalue, pvalue, stderr) = linregress(x_values, y_values)\n",
    "regress_values = x_values * slope + intercept\n",
    "line_eq = \"y = \" + str(round(slope,2)) + \"x + \" + str(round(intercept,2))\n",
    "plt.scatter(x_values,y_values)\n",
    "plt.plot(x_values,regress_values,\"r-\")\n",
    "plt.annotate(line_eq,(0,10),fontsize=15,color=\"red\")\n",
    "plt.xlabel(\"Latitude\")\n",
    "plt.ylabel(\"Max Temp\")\n",
    "plt.savefig(\"Lat_vs_Max_Temp_North.png\")\n",
    "print(f\"The r-squared is: {rvalue**2}\")\n",
    "plt.show()"
   ]
  },
  {
   "cell_type": "markdown",
   "metadata": {},
   "source": [
    "####  Southern Hemisphere - Max Temp vs. Latitude Linear Regression"
   ]
  },
  {
   "cell_type": "code",
   "execution_count": 16,
   "metadata": {},
   "outputs": [
    {
     "name": "stdout",
     "output_type": "stream",
     "text": [
      "The r-squared is: 0.5951673989791016\n"
     ]
    },
    {
     "data": {
      "image/png": "[encoded data removed]",
      "text/plain": [
       "<Figure size 432x288 with 1 Axes>"
      ]
     },
     "metadata": {
      "needs_background": "light"
     },
     "output_type": "display_data"
    }
   ],
   "source": [
    "# Add the linear regression equation and line to plot\n",
    "x_values = south_df[\"Lat\"]\n",
    "y_values = south_df[\"Max Temp\"]\n",
    "(slope, intercept, rvalue, pvalue, stderr) = linregress(x_values, y_values)\n",
    "regress_values = x_values * slope + intercept\n",
    "line_eq = \"y = \" + str(round(slope,2)) + \"x + \" + str(round(intercept,2))\n",
    "plt.scatter(x_values,y_values)\n",
    "plt.plot(x_values,regress_values,\"r-\")\n",
    "plt.annotate(line_eq,(-30,45),fontsize=15,color=\"red\")\n",
    "plt.xlabel(\"Latitude\")\n",
    "plt.ylabel(\"Max Temp\")\n",
    "plt.savefig(\"Lat_vs_Max_Temp_South.png\")\n",
    "print(f\"The r-squared is: {rvalue**2}\")\n",
    "plt.show()"
   ]
  },
  {
   "cell_type": "markdown",
   "metadata": {},
   "source": [
    "####  Northern Hemisphere - Humidity (%) vs. Latitude Linear Regression"
   ]
  },
  {
   "cell_type": "code",
   "execution_count": 17,
   "metadata": {},
   "outputs": [
    {
     "name": "stdout",
     "output_type": "stream",
     "text": [
      "The r-squared is: 0.0040310246380732264\n"
     ]
    },
    {
     "data": {
      "image/png": "[encoded data removed]",
      "text/plain": [
       "<Figure size 432x288 with 1 Axes>"
      ]
     },
     "metadata": {
      "needs_background": "light"
     },
     "output_type": "display_data"
    }
   ],
   "source": [
    "# Add the linear regression equation and line to plot\n",
    "x_values = north_df[\"Lat\"]\n",
    "y_values = north_df[\"Humidity\"]\n",
    "(slope, intercept, rvalue, pvalue, stderr) = linregress(x_values, y_values)\n",
    "regress_values = x_values * slope + intercept\n",
    "line_eq = \"y = \" + str(round(slope,2)) + \"x + \" + str(round(intercept,2))\n",
    "plt.scatter(x_values,y_values)\n",
    "plt.plot(x_values,regress_values,\"r-\")\n",
    "plt.annotate(line_eq,(45,10),fontsize=15,color=\"red\")\n",
    "plt.xlabel(\"Latitude\")\n",
    "plt.ylabel(\"Humidity (%)\")\n",
    "plt.savefig(\"Lat_vs_Humidity_North.png\")\n",
    "print(f\"The r-squared is: {rvalue**2}\")\n",
    "plt.show()"
   ]
  },
  {
   "cell_type": "markdown",
   "metadata": {},
   "source": [
    "####  Southern Hemisphere - Humidity (%) vs. Latitude Linear Regression"
   ]
  },
  {
   "cell_type": "code",
   "execution_count": 18,
   "metadata": {},
   "outputs": [
    {
     "name": "stdout",
     "output_type": "stream",
     "text": [
      "The r-squared is: 0.019202482287096822\n"
     ]
    },
    {
     "data": {
      "image/png": "[encoded data removed]",
      "text/plain": [
       "<Figure size 432x288 with 1 Axes>"
      ]
     },
     "metadata": {
      "needs_background": "light"
     },
     "output_type": "display_data"
    }
   ],
   "source": [
    "# Add the linear regression equation and line to plot\n",
    "x_values = south_df[\"Lat\"]\n",
    "y_values = south_df[\"Humidity\"]\n",
    "(slope, intercept, rvalue, pvalue, stderr) = linregress(x_values, y_values)\n",
    "regress_values = x_values * slope + intercept\n",
    "line_eq = \"y = \" + str(round(slope,2)) + \"x + \" + str(round(intercept,2))\n",
    "plt.scatter(x_values,y_values)\n",
    "plt.plot(x_values,regress_values,\"r-\")\n",
    "plt.annotate(line_eq,(-25,7),fontsize=15,color=\"red\")\n",
    "plt.ylim(0,120)\n",
    "plt.xlabel(\"Latitude\")\n",
    "plt.ylabel(\"Humidity (%)\")\n",
    "plt.savefig(\"Lat_vs_Humidity_South.png\")\n",
    "print(f\"The r-squared is: {rvalue**2}\")\n",
    "plt.show()"
   ]
  },
  {
   "cell_type": "markdown",
   "metadata": {},
   "source": [
    "####  Northern Hemisphere - Cloudiness (%) vs. Latitude Linear Regression"
   ]
  },
  {
   "cell_type": "code",
   "execution_count": 19,
   "metadata": {},
   "outputs": [
    {
     "name": "stdout",
     "output_type": "stream",
     "text": [
      "The r-squared is: 0.0003626088778564356\n"
     ]
    },
    {
     "data": {
      "image/png": "[encoded data removed]",
      "text/plain": [
       "<Figure size 432x288 with 1 Axes>"
      ]
     },
     "metadata": {
      "needs_background": "light"
     },
     "output_type": "display_data"
    }
   ],
   "source": [
    "\n",
    "# Add the linear regression equation and line to plot\n",
    "x_values = north_df[\"Lat\"]\n",
    "y_values = north_df[\"Cloudiness\"]\n",
    "(slope, intercept, rvalue, pvalue, stderr) = linregress(x_values, y_values)\n",
    "regress_values = x_values * slope + intercept\n",
    "line_eq = \"y = \" + str(round(slope,2)) + \"x + \" + str(round(intercept,2))\n",
    "plt.scatter(x_values,y_values)\n",
    "plt.plot(x_values,regress_values,\"r-\")\n",
    "plt.annotate(line_eq,(0,110),fontsize=15,color=\"red\")\n",
    "plt.ylim(-5,120)\n",
    "plt.xlabel(\"Latitude\")\n",
    "plt.ylabel(\"Cloudiness (%)\")\n",
    "plt.savefig(\"Lat_vs_Cloudiness_North.png\")\n",
    "print(f\"The r-squared is: {rvalue**2}\")\n",
    "plt.show()"
   ]
  },
  {
   "cell_type": "markdown",
   "metadata": {},
   "source": [
    "####  Southern Hemisphere - Cloudiness (%) vs. Latitude Linear Regression"
   ]
  },
  {
   "cell_type": "code",
   "execution_count": 20,
   "metadata": {},
   "outputs": [
    {
     "name": "stdout",
     "output_type": "stream",
     "text": [
      "The r-squared is: 0.034454424566134734\n"
     ]
    },
    {
     "data": {
      "image/png": "[encoded data removed]",
      "text/plain": [
       "<Figure size 432x288 with 1 Axes>"
      ]
     },
     "metadata": {
      "needs_background": "light"
     },
     "output_type": "display_data"
    }
   ],
   "source": [
    "# Add the linear regression equation and line to plot\n",
    "x_values = south_df[\"Lat\"]\n",
    "y_values = south_df[\"Cloudiness\"]\n",
    "(slope, intercept, rvalue, pvalue, stderr) = linregress(x_values, y_values)\n",
    "regress_values = x_values * slope + intercept\n",
    "line_eq = \"y = \" + str(round(slope,2)) + \"x + \" + str(round(intercept,2))\n",
    "plt.scatter(x_values,y_values)\n",
    "plt.plot(x_values,regress_values,\"r-\")\n",
    "plt.annotate(line_eq,(-55,110),fontsize=15,color=\"red\")\n",
    "plt.ylim(-5,120)\n",
    "plt.xlabel(\"Latitude\")\n",
    "plt.ylabel(\"Cloudiness (%)\")\n",
    "plt.savefig(\"Lat_vs_Cloudiness_South.png\")\n",
    "print(f\"The r-squared is: {rvalue**2}\")\n",
    "plt.show()"
   ]
  },
  {
   "cell_type": "markdown",
   "metadata": {},
   "source": [
    "####  Northern Hemisphere - Wind Speed (mph) vs. Latitude Linear Regression"
   ]
  },
  {
   "cell_type": "code",
   "execution_count": 21,
   "metadata": {},
   "outputs": [
    {
     "name": "stdout",
     "output_type": "stream",
     "text": [
      "The r-squared is: 0.002746439808673691\n"
     ]
    },
    {
     "data": {
      "image/png": "[encoded data removed]",
      "text/plain": [
       "<Figure size 432x288 with 1 Axes>"
      ]
     },
     "metadata": {
      "needs_background": "light"
     },
     "output_type": "display_data"
    }
   ],
   "source": [
    "# Add the linear regression equation and line to plot\n",
    "x_values = north_df[\"Lat\"]\n",
    "y_values = north_df[\"Wind Speed\"]\n",
    "(slope, intercept, rvalue, pvalue, stderr) = linregress(x_values, y_values)\n",
    "regress_values = x_values * slope + intercept\n",
    "line_eq = \"y = \" + str(round(slope,2)) + \"x + \" + str(round(intercept,2))\n",
    "plt.scatter(x_values,y_values)\n",
    "plt.plot(x_values,regress_values,\"r-\")\n",
    "plt.annotate(line_eq,(0,40),fontsize=15,color=\"red\")\n",
    "plt.xlabel(\"Latitude\")\n",
    "plt.ylabel(\"Wind Speed (mph)\")\n",
    "plt.savefig(\"Lat_vs_Wind_North.png\")\n",
    "print(f\"The r-squared is: {rvalue**2}\")\n",
    "plt.show()"
   ]
  },
  {
   "cell_type": "markdown",
   "metadata": {},
   "source": [
    "####  Southern Hemisphere - Wind Speed (mph) vs. Latitude Linear Regression"
   ]
  },
  {
   "cell_type": "code",
   "execution_count": 22,
   "metadata": {},
   "outputs": [
    {
     "name": "stdout",
     "output_type": "stream",
     "text": [
      "The r-squared is: 0.022034183949232695\n"
     ]
    },
    {
     "data": {
      "image/png": "[encoded data removed]",
      "text/plain": [
       "<Figure size 432x288 with 1 Axes>"
      ]
     },
     "metadata": {
      "needs_background": "light"
     },
     "output_type": "display_data"
    }
   ],
   "source": [
    "# Add the linear regression equation and line to plot\n",
    "x_values = south_df[\"Lat\"]\n",
    "y_values = south_df[\"Wind Speed\"]\n",
    "(slope, intercept, rvalue, pvalue, stderr) = linregress(x_values, y_values)\n",
    "regress_values = x_values * slope + intercept\n",
    "line_eq = \"y = \" + str(round(slope,2)) + \"x + \" + str(round(intercept,2))\n",
    "plt.scatter(x_values,y_values)\n",
    "plt.plot(x_values,regress_values,\"r-\")\n",
    "plt.annotate(line_eq,(-22,19),fontsize=15,color=\"red\")\n",
    "plt.xlabel(\"Latitude\")\n",
    "plt.ylabel(\"Wind Speed (mph)\")\n",
    "plt.savefig(\"Lat_vs_Wind_South.png\")\n",
    "print(f\"The r-squared is: {rvalue**2}\")\n",
    "plt.show()"
   ]
  },
  {
   "cell_type": "code",
   "execution_count": null,
   "metadata": {},
   "outputs": [],
   "source": []
  }
 ],
 "metadata": {
  "anaconda-cloud": {},
  "kernel_info": {
   "name": "python3"
  },
  "kernelspec": {
   "display_name": "Python [conda env:PythonData] *",
   "language": "python",
   "name": "conda-env-PythonData-py"
  },
  "language_info": {
   "codemirror_mode": {
    "name": "ipython",
    "version": 3
   },
   "file_extension": ".py",
   "mimetype": "text/x-python",
   "name": "python",
   "nbconvert_exporter": "python",
   "pygments_lexer": "ipython3",
   "version": "3.6.10"
  },
  "latex_envs": {
   "LaTeX_envs_menu_present": true,
   "autoclose": false,
   "autocomplete": true,
   "bibliofile": "biblio.bib",
   "cite_by": "apalike",
   "current_citInitial": 1,
   "eqLabelWithNumbers": true,
   "eqNumInitial": 1,
   "hotkeys": {
    "equation": "Ctrl-E",
    "itemize": "Ctrl-I"
   },
   "labels_anchors": false,
   "latex_user_defs": false,
   "report_style_numbering": false,
   "user_envs_cfg": false
  },
  "nteract": {
   "version": "0.12.3"
  }
 },
 "nbformat": 4,
 "nbformat_minor": 2
}
