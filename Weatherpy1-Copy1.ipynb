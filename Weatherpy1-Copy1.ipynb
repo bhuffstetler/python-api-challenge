{
 "cells": [
  {
   "cell_type": "markdown",
   "metadata": {},
   "source": [
    "# WeatherPy\n",
    "----\n",
    "\n",
    "#### Note\n",
    "* Instructions have been included for each segment. You do not have to follow them exactly, but they are included to help you think through the steps."
   ]
  },
  {
   "cell_type": "code",
   "execution_count": 8,
   "metadata": {
    "scrolled": true
   },
   "outputs": [],
   "source": [
    "# Dependencies and Setup\n",
    "import matplotlib.pyplot as plt\n",
    "import pandas as pd\n",
    "import numpy as np\n",
    "import requests\n",
    "import time\n",
    "from scipy.stats import linregress\n",
    "\n",
    "# Import API key\n",
    "from api_keys import api_key\n",
    "\n",
    "# Incorporated citipy to determine city based on latitude and longitude\n",
    "from citipy import citipy\n",
    "\n",
    "# Output File (CSV)\n",
    "output_data_file = \"output_data/cities.csv\"\n",
    "\n",
    "# Range of latitudes and longitudes\n",
    "lat_range = (-90, 90)\n",
    "lng_range = (-180, 180)"
   ]
  },
  {
   "cell_type": "markdown",
   "metadata": {},
   "source": [
    "## Generate Cities List"
   ]
  },
  {
   "cell_type": "code",
   "execution_count": 9,
   "metadata": {},
   "outputs": [
    {
     "data": {
      "text/plain": [
       "631"
      ]
     },
     "execution_count": 9,
     "metadata": {},
     "output_type": "execute_result"
    }
   ],
   "source": [
    "# List for holding lat_lngs and cities\n",
    "lat_lngs = []\n",
    "cities = []\n",
    "\n",
    "# Create a set of random lat and lng combinations\n",
    "lats = np.random.uniform(lat_range[0], lat_range[1], size=1500)\n",
    "lngs = np.random.uniform(lng_range[0], lng_range[1], size=1500)\n",
    "lat_lngs = zip(lats, lngs)\n",
    "\n",
    "# Identify nearest city for each lat, lng combination\n",
    "for lat_lng in lat_lngs:\n",
    "    city = citipy.nearest_city(lat_lng[0], lat_lng[1]).city_name\n",
    "    \n",
    "    # If the city is unique, then add it to a our cities list\n",
    "    if city not in cities:\n",
    "        cities.append(city)\n",
    "\n",
    "# Print the city count to confirm sufficient count\n",
    "len(cities)"
   ]
  },
  {
   "cell_type": "markdown",
   "metadata": {},
   "source": [
    "### Perform API Calls\n",
    "* Perform a weather check on each city using a series of successive API calls.\n",
    "* Include a print log of each city as it'sbeing processed (with the city number and city name).\n"
   ]
  },
  {
   "cell_type": "code",
   "execution_count": 10,
   "metadata": {},
   "outputs": [
    {
     "name": "stdout",
     "output_type": "stream",
     "text": [
      "Processing Record 1 of Set 1 | grand gaube\n",
      "Processing Record 2 of Set 1 | inverell\n",
      "Processing Record 3 of Set 1 | ushuaia\n",
      "Processing Record 4 of Set 1 | alice springs\n",
      "Processing Record 5 of Set 1 | isangel\n",
      "Processing Record 6 of Set 1 | husavik\n",
      "Processing Record 7 of Set 1 | padang\n",
      "Processing Record 8 of Set 1 | eskil\n",
      "Processing Record 9 of Set 1 | ambon\n",
      "Processing Record 10 of Set 1 | ahipara\n",
      "Processing Record 11 of Set 1 | jamestown\n",
      "Processing Record 12 of Set 1 | hobart\n",
      "Processing Record 13 of Set 1 | atuona\n",
      "Processing Record 14 of Set 1 | cape town\n",
      "Processing Record 15 of Set 1 | yellowknife\n",
      "Processing Record 16 of Set 1 | kapaa\n",
      "Processing Record 17 of Set 1 | gizo\n",
      "Processing Record 18 of Set 1 | selje\n",
      "Processing Record 19 of Set 1 | torbay\n",
      "Processing Record 20 of Set 1 | georgetown\n",
      "Processing Record 21 of Set 1 | albany\n",
      "Processing Record 22 of Set 1 | puerto ayora\n",
      "Processing Record 23 of Set 1 | vanimo\n",
      "Processing Record 24 of Set 1 | sistranda\n",
      "Processing Record 25 of Set 1 | caicedo\n",
      "No city found here, skipping to next city\n",
      "Processing Record 26 of Set 1 | mehamn\n",
      "Processing Record 27 of Set 1 | lompoc\n",
      "Processing Record 28 of Set 1 | buchanan\n",
      "Processing Record 29 of Set 1 | victoria\n",
      "Processing Record 30 of Set 1 | vaini\n",
      "Processing Record 31 of Set 1 | cuiluan\n",
      "Processing Record 32 of Set 1 | medicine hat\n",
      "Processing Record 33 of Set 1 | rikitea\n",
      "Processing Record 34 of Set 1 | kamaishi\n",
      "Processing Record 35 of Set 1 | nabire\n",
      "Processing Record 36 of Set 1 | mataura\n",
      "Processing Record 37 of Set 1 | hermanus\n",
      "Processing Record 38 of Set 1 | paamiut\n",
      "Processing Record 39 of Set 1 | bambous virieux\n",
      "Processing Record 40 of Set 1 | gimli\n",
      "Processing Record 41 of Set 1 | dartford\n",
      "Processing Record 42 of Set 1 | new norfolk\n",
      "Processing Record 43 of Set 1 | pangnirtung\n",
      "Processing Record 44 of Set 1 | abakaliki\n",
      "Processing Record 45 of Set 1 | taft\n",
      "Processing Record 46 of Set 1 | namibe\n",
      "Processing Record 47 of Set 1 | praia da vitoria\n",
      "Processing Record 48 of Set 1 | barrow\n",
      "No city found here, skipping to next city\n",
      "Processing Record 49 of Set 1 | saskylakh\n",
      "Processing Record 50 of Set 1 | hamilton\n",
      "Processing Record 0 of Set 2 | college\n",
      "Processing Record 1 of Set 2 | katsuura\n",
      "Processing Record 2 of Set 2 | lakes entrance\n",
      "No city found here, skipping to next city\n",
      "Processing Record 3 of Set 2 | strelka\n",
      "Processing Record 4 of Set 2 | kodiak\n",
      "No city found here, skipping to next city\n",
      "Processing Record 5 of Set 2 | port alfred\n",
      "Processing Record 6 of Set 2 | comodoro rivadavia\n",
      "No city found here, skipping to next city\n",
      "Processing Record 7 of Set 2 | kolosovka\n",
      "No city found here, skipping to next city\n",
      "Processing Record 8 of Set 2 | turan\n",
      "Processing Record 9 of Set 2 | fortuna\n",
      "Processing Record 10 of Set 2 | olinda\n",
      "Processing Record 11 of Set 2 | acari\n",
      "Processing Record 12 of Set 2 | buin\n",
      "No city found here, skipping to next city\n",
      "Processing Record 13 of Set 2 | port hardy\n",
      "Processing Record 14 of Set 2 | tasiilaq\n",
      "Processing Record 15 of Set 2 | sitka\n",
      "Processing Record 16 of Set 2 | panaba\n",
      "Processing Record 17 of Set 2 | saint-joseph\n",
      "Processing Record 18 of Set 2 | butaritari\n",
      "Processing Record 19 of Set 2 | saint george\n",
      "Processing Record 20 of Set 2 | cairns\n",
      "Processing Record 21 of Set 2 | faanui\n",
      "Processing Record 22 of Set 2 | bairiki\n",
      "Processing Record 23 of Set 2 | zhangye\n",
      "Processing Record 24 of Set 2 | cockburn town\n",
      "Processing Record 25 of Set 2 | bradford\n",
      "Processing Record 26 of Set 2 | antofagasta\n",
      "Processing Record 27 of Set 2 | weligama\n",
      "Processing Record 28 of Set 2 | avarua\n",
      "Processing Record 29 of Set 2 | chuy\n",
      "Processing Record 30 of Set 2 | busselton\n",
      "Processing Record 31 of Set 2 | carnarvon\n",
      "Processing Record 32 of Set 2 | novobirilyussy\n",
      "Processing Record 33 of Set 2 | castro\n",
      "Processing Record 34 of Set 2 | punta arenas\n",
      "Processing Record 35 of Set 2 | mahibadhoo\n",
      "No city found here, skipping to next city\n",
      "Processing Record 36 of Set 2 | thompson\n",
      "Processing Record 37 of Set 2 | tambun\n",
      "Processing Record 38 of Set 2 | tetouan\n",
      "Processing Record 39 of Set 2 | muisne\n",
      "Processing Record 40 of Set 2 | cidreira\n",
      "No city found here, skipping to next city\n",
      "Processing Record 41 of Set 2 | ilulissat\n",
      "Processing Record 42 of Set 2 | bondoukou\n",
      "Processing Record 43 of Set 2 | bethel\n",
      "Processing Record 44 of Set 2 | prince rupert\n",
      "Processing Record 45 of Set 2 | ribeira grande\n",
      "Processing Record 46 of Set 2 | temir\n",
      "No city found here, skipping to next city\n",
      "Processing Record 47 of Set 2 | pevek\n",
      "Processing Record 48 of Set 2 | lebu\n",
      "Processing Record 49 of Set 2 | chokurdakh\n",
      "Processing Record 50 of Set 2 | inta\n",
      "Processing Record 0 of Set 3 | semnan\n",
      "Processing Record 1 of Set 3 | hambantota\n",
      "Processing Record 2 of Set 3 | florida\n",
      "No city found here, skipping to next city\n",
      "Processing Record 3 of Set 3 | bluff\n",
      "No city found here, skipping to next city\n",
      "Processing Record 4 of Set 3 | bowen\n",
      "Processing Record 5 of Set 3 | san cristobal\n",
      "Processing Record 6 of Set 3 | qaanaaq\n",
      "Processing Record 7 of Set 3 | halifax\n",
      "Processing Record 8 of Set 3 | minatitlan\n",
      "Processing Record 9 of Set 3 | arraial do cabo\n",
      "Processing Record 10 of Set 3 | codrington\n",
      "Processing Record 11 of Set 3 | terrasini\n",
      "Processing Record 12 of Set 3 | atikokan\n",
      "Processing Record 13 of Set 3 | kudat\n",
      "Processing Record 14 of Set 3 | ostrovnoy\n",
      "Processing Record 15 of Set 3 | adrar\n",
      "Processing Record 16 of Set 3 | rettikhovka\n",
      "Processing Record 17 of Set 3 | kaitangata\n",
      "Processing Record 18 of Set 3 | provideniya\n",
      "Processing Record 19 of Set 3 | necochea\n",
      "Processing Record 20 of Set 3 | leningradskiy\n",
      "Processing Record 21 of Set 3 | kirakira\n",
      "Processing Record 22 of Set 3 | isabela\n",
      "Processing Record 23 of Set 3 | parrita\n",
      "Processing Record 24 of Set 3 | kimbe\n",
      "Processing Record 25 of Set 3 | danbury\n",
      "No city found here, skipping to next city\n",
      "Processing Record 26 of Set 3 | narsaq\n",
      "Processing Record 27 of Set 3 | sitrah\n",
      "Processing Record 28 of Set 3 | la primavera\n",
      "No city found here, skipping to next city\n",
      "Processing Record 29 of Set 3 | karlskrona\n",
      "Processing Record 30 of Set 3 | petatlan\n",
      "Processing Record 31 of Set 3 | meadow lake\n",
      "Processing Record 32 of Set 3 | mlonggo\n",
      "Processing Record 33 of Set 3 | bredasdorp\n",
      "Processing Record 34 of Set 3 | bardiyah\n",
      "Processing Record 35 of Set 3 | kidal\n",
      "Processing Record 36 of Set 3 | sorong\n",
      "Processing Record 37 of Set 3 | hobyo\n",
      "Processing Record 38 of Set 3 | puerto escondido\n",
      "Processing Record 39 of Set 3 | nantucket\n",
      "Processing Record 40 of Set 3 | te anau\n",
      "Processing Record 41 of Set 3 | yumen\n",
      "Processing Record 42 of Set 3 | lagoa\n",
      "Processing Record 43 of Set 3 | constitucion\n",
      "Processing Record 44 of Set 3 | wyndham\n",
      "Processing Record 45 of Set 3 | saint-georges\n",
      "Processing Record 46 of Set 3 | kupang\n",
      "Processing Record 47 of Set 3 | bokoro\n",
      "Processing Record 48 of Set 3 | saint-philippe\n",
      "Processing Record 49 of Set 3 | port elizabeth\n",
      "Processing Record 50 of Set 3 | san juan\n",
      "Processing Record 0 of Set 4 | otane\n",
      "Processing Record 1 of Set 4 | laguna\n",
      "Processing Record 2 of Set 4 | grand island\n",
      "Processing Record 3 of Set 4 | bedesa\n",
      "Processing Record 4 of Set 4 | tadine\n",
      "Processing Record 5 of Set 4 | ancud\n",
      "Processing Record 6 of Set 4 | tiksi\n",
      "Processing Record 7 of Set 4 | tateyama\n",
      "Processing Record 8 of Set 4 | lata\n",
      "Processing Record 9 of Set 4 | wote\n",
      "Processing Record 10 of Set 4 | weiser\n",
      "Processing Record 11 of Set 4 | roma\n",
      "Processing Record 12 of Set 4 | taoudenni\n",
      "Processing Record 13 of Set 4 | quatre cocos\n",
      "No city found here, skipping to next city\n",
      "Processing Record 14 of Set 4 | sao filipe\n",
      "Processing Record 15 of Set 4 | gazanjyk\n",
      "Processing Record 16 of Set 4 | esperance\n",
      "Processing Record 17 of Set 4 | kimparana\n",
      "Processing Record 18 of Set 4 | margate\n",
      "No city found here, skipping to next city\n",
      "Processing Record 19 of Set 4 | kerur\n",
      "No city found here, skipping to next city\n",
      "Processing Record 20 of Set 4 | joshimath\n",
      "Processing Record 21 of Set 4 | wewak\n",
      "Processing Record 22 of Set 4 | souillac\n",
      "Processing Record 23 of Set 4 | port-gentil\n",
      "Processing Record 24 of Set 4 | namatanai\n",
      "Processing Record 25 of Set 4 | khorramshahr\n",
      "Processing Record 26 of Set 4 | east london\n",
      "Processing Record 27 of Set 4 | gat\n",
      "Processing Record 28 of Set 4 | nikolskoye\n",
      "Processing Record 29 of Set 4 | asfi\n",
      "No city found here, skipping to next city\n",
      "Processing Record 30 of Set 4 | aban\n",
      "Processing Record 31 of Set 4 | siparia\n",
      "Processing Record 32 of Set 4 | ponta do sol\n",
      "Processing Record 33 of Set 4 | hami\n",
      "Processing Record 34 of Set 4 | mar del plata\n",
      "Processing Record 35 of Set 4 | okhotsk\n",
      "Processing Record 36 of Set 4 | george town\n",
      "Processing Record 37 of Set 4 | berea\n",
      "Processing Record 38 of Set 4 | dikson\n",
      "Processing Record 39 of Set 4 | qianguo\n",
      "Processing Record 40 of Set 4 | seguin\n",
      "Processing Record 41 of Set 4 | starosubkhangulovo\n",
      "Processing Record 42 of Set 4 | norman wells\n",
      "No city found here, skipping to next city\n",
      "Processing Record 43 of Set 4 | davila\n",
      "Processing Record 44 of Set 4 | aklavik\n",
      "Processing Record 45 of Set 4 | salinopolis\n",
      "Processing Record 46 of Set 4 | upernavik\n",
      "Processing Record 47 of Set 4 | vulcan\n",
      "Processing Record 48 of Set 4 | sorgun\n",
      "Processing Record 49 of Set 4 | verkhoyansk\n",
      "Processing Record 50 of Set 4 | matara\n",
      "Processing Record 0 of Set 5 | shingu\n",
      "Processing Record 1 of Set 5 | severo-kurilsk\n",
      "Processing Record 2 of Set 5 | muros\n",
      "Processing Record 3 of Set 5 | naples\n",
      "Processing Record 4 of Set 5 | fairbanks\n",
      "Processing Record 5 of Set 5 | jijiang\n",
      "Processing Record 6 of Set 5 | genhe\n",
      "No city found here, skipping to next city\n",
      "Processing Record 7 of Set 5 | port hedland\n",
      "Processing Record 8 of Set 5 | evensk\n",
      "Processing Record 9 of Set 5 | aginskoye\n",
      "Processing Record 10 of Set 5 | sisimiut\n",
      "Processing Record 11 of Set 5 | vao\n",
      "Processing Record 12 of Set 5 | honolulu\n",
      "Processing Record 13 of Set 5 | blackwater\n",
      "Processing Record 14 of Set 5 | cap malheureux\n",
      "Processing Record 15 of Set 5 | camana\n",
      "Processing Record 16 of Set 5 | banda aceh\n",
      "Processing Record 17 of Set 5 | saldanha\n",
      "Processing Record 18 of Set 5 | cabo san lucas\n",
      "Processing Record 19 of Set 5 | bengkulu\n",
      "Processing Record 20 of Set 5 | jackson\n",
      "Processing Record 21 of Set 5 | nemuro\n",
      "Processing Record 22 of Set 5 | arman\n",
      "Processing Record 23 of Set 5 | egvekinot\n",
      "Processing Record 24 of Set 5 | pali\n",
      "Processing Record 25 of Set 5 | hervey bay\n",
      "Processing Record 26 of Set 5 | kieta\n",
      "Processing Record 27 of Set 5 | venezuela\n",
      "Processing Record 28 of Set 5 | bilma\n",
      "Processing Record 29 of Set 5 | san patricio\n",
      "Processing Record 30 of Set 5 | aykhal\n",
      "No city found here, skipping to next city\n",
      "Processing Record 31 of Set 5 | broome\n",
      "Processing Record 32 of Set 5 | thalassery\n",
      "No city found here, skipping to next city\n",
      "Processing Record 33 of Set 5 | vila velha\n",
      "Processing Record 34 of Set 5 | alyangula\n",
      "Processing Record 35 of Set 5 | calamar\n",
      "Processing Record 36 of Set 5 | nishihara\n",
      "Processing Record 37 of Set 5 | masuguru\n",
      "Processing Record 38 of Set 5 | kaeo\n",
      "No city found here, skipping to next city\n",
      "Processing Record 39 of Set 5 | nicolas bravo\n",
      "Processing Record 40 of Set 5 | khatanga\n",
      "No city found here, skipping to next city\n",
      "Processing Record 41 of Set 5 | xapuri\n",
      "Processing Record 42 of Set 5 | karasjok\n",
      "Processing Record 43 of Set 5 | broken hill\n",
      "Processing Record 44 of Set 5 | todos santos\n",
      "Processing Record 45 of Set 5 | tricase\n",
      "Processing Record 46 of Set 5 | moose factory\n",
      "Processing Record 47 of Set 5 | lufilufi\n",
      "Processing Record 48 of Set 5 | kindu\n",
      "Processing Record 49 of Set 5 | takoradi\n",
      "Processing Record 50 of Set 5 | cherskiy\n",
      "Processing Record 0 of Set 6 | popondetta\n",
      "Processing Record 1 of Set 6 | luderitz\n",
      "Processing Record 2 of Set 6 | marfino\n",
      "No city found here, skipping to next city\n",
      "Processing Record 3 of Set 6 | revda\n",
      "Processing Record 4 of Set 6 | mahebourg\n",
      "Processing Record 5 of Set 6 | mount gambier\n",
      "Processing Record 6 of Set 6 | abu samrah\n",
      "Processing Record 7 of Set 6 | rantepao\n",
      "Processing Record 8 of Set 6 | antanifotsy\n",
      "Processing Record 9 of Set 6 | atar\n",
      "Processing Record 10 of Set 6 | avera\n",
      "Processing Record 11 of Set 6 | kurilsk\n",
      "Processing Record 12 of Set 6 | kawalu\n",
      "Processing Record 13 of Set 6 | barra patuca\n",
      "Processing Record 14 of Set 6 | dingle\n",
      "Processing Record 15 of Set 6 | sabya\n",
      "Processing Record 16 of Set 6 | inhambane\n",
      "Processing Record 17 of Set 6 | pavlysh\n",
      "Processing Record 18 of Set 6 | lysyanka\n",
      "Processing Record 19 of Set 6 | malindi\n",
      "Processing Record 20 of Set 6 | hoa binh\n",
      "Processing Record 21 of Set 6 | port lincoln\n",
      "Processing Record 22 of Set 6 | tuktoyaktuk\n",
      "Processing Record 23 of Set 6 | umm kaddadah\n",
      "No city found here, skipping to next city\n",
      "Processing Record 24 of Set 6 | lake havasu city\n",
      "Processing Record 25 of Set 6 | itarema\n",
      "Processing Record 26 of Set 6 | kamenskiy\n",
      "Processing Record 27 of Set 6 | mareeba\n",
      "Processing Record 28 of Set 6 | acajutla\n",
      "Processing Record 29 of Set 6 | pisco\n",
      "Processing Record 30 of Set 6 | crailsheim\n",
      "Processing Record 31 of Set 6 | papetoai\n",
      "Processing Record 32 of Set 6 | dondo\n",
      "Processing Record 33 of Set 6 | itoman\n",
      "No city found here, skipping to next city\n",
      "No city found here, skipping to next city\n",
      "Processing Record 34 of Set 6 | xining\n",
      "Processing Record 35 of Set 6 | dong hoi\n",
      "Processing Record 36 of Set 6 | olafsvik\n",
      "Processing Record 37 of Set 6 | marigot\n",
      "No city found here, skipping to next city\n",
      "Processing Record 38 of Set 6 | sambava\n",
      "Processing Record 39 of Set 6 | vardo\n",
      "No city found here, skipping to next city\n",
      "Processing Record 40 of Set 6 | kishanganj\n",
      "Processing Record 41 of Set 6 | salalah\n",
      "Processing Record 42 of Set 6 | coracora\n",
      "Processing Record 43 of Set 6 | hofn\n",
      "Processing Record 44 of Set 6 | asau\n",
      "Processing Record 45 of Set 6 | caravelas\n",
      "Processing Record 46 of Set 6 | hilo\n",
      "Processing Record 47 of Set 6 | mitsamiouli\n",
      "No city found here, skipping to next city\n",
      "Processing Record 48 of Set 6 | alegrete\n",
      "Processing Record 49 of Set 6 | harper\n",
      "Processing Record 50 of Set 6 | sheridan\n",
      "Processing Record 0 of Set 7 | leirvik\n",
      "Processing Record 1 of Set 7 | ubatuba\n",
      "Processing Record 2 of Set 7 | kahului\n",
      "Processing Record 3 of Set 7 | middelburg\n",
      "Processing Record 4 of Set 7 | san lazaro\n",
      "Processing Record 5 of Set 7 | tocopilla\n",
      "Processing Record 6 of Set 7 | ambilobe\n",
      "Processing Record 7 of Set 7 | sangar\n",
      "Processing Record 8 of Set 7 | hatfield\n",
      "Processing Record 9 of Set 7 | vanavara\n",
      "Processing Record 10 of Set 7 | hithadhoo\n",
      "Processing Record 11 of Set 7 | anadyr\n",
      "No city found here, skipping to next city\n",
      "Processing Record 12 of Set 7 | russell\n",
      "Processing Record 13 of Set 7 | clyde river\n",
      "Processing Record 14 of Set 7 | dukat\n",
      "Processing Record 15 of Set 7 | pau brasil\n",
      "Processing Record 16 of Set 7 | hasaki\n",
      "Processing Record 17 of Set 7 | samarai\n",
      "Processing Record 18 of Set 7 | saint-pierre\n",
      "Processing Record 19 of Set 7 | petawawa\n",
      "No city found here, skipping to next city\n",
      "No city found here, skipping to next city\n",
      "Processing Record 20 of Set 7 | jishou\n",
      "Processing Record 21 of Set 7 | ballina\n",
      "Processing Record 22 of Set 7 | nome\n",
      "Processing Record 23 of Set 7 | helena\n",
      "Processing Record 24 of Set 7 | singureni\n",
      "Processing Record 25 of Set 7 | airai\n",
      "Processing Record 26 of Set 7 | dogondoutchi\n",
      "Processing Record 27 of Set 7 | marsa matruh\n",
      "Processing Record 28 of Set 7 | la paz\n",
      "Processing Record 29 of Set 7 | shihezi\n",
      "Processing Record 30 of Set 7 | arica\n",
      "Processing Record 31 of Set 7 | tera\n",
      "No city found here, skipping to next city\n",
      "Processing Record 32 of Set 7 | crvenka\n",
      "Processing Record 33 of Set 7 | vila franca do campo\n",
      "Processing Record 34 of Set 7 | tazovskiy\n",
      "Processing Record 35 of Set 7 | nanortalik\n",
      "Processing Record 36 of Set 7 | brae\n",
      "Processing Record 37 of Set 7 | seoul\n",
      "No city found here, skipping to next city\n",
      "Processing Record 38 of Set 7 | qasigiannguit\n",
      "Processing Record 39 of Set 7 | yeppoon\n",
      "Processing Record 40 of Set 7 | portland\n",
      "Processing Record 41 of Set 7 | eau claire\n",
      "Processing Record 42 of Set 7 | lorengau\n",
      "Processing Record 43 of Set 7 | marinette\n",
      "Processing Record 44 of Set 7 | manzhouli\n",
      "Processing Record 45 of Set 7 | havre-saint-pierre\n",
      "Processing Record 46 of Set 7 | touros\n",
      "Processing Record 47 of Set 7 | awassa\n",
      "Processing Record 48 of Set 7 | sterling\n",
      "Processing Record 49 of Set 7 | tshela\n",
      "Processing Record 50 of Set 7 | opuwo\n",
      "Processing Record 0 of Set 8 | marsh harbour\n",
      "Processing Record 1 of Set 8 | walvis bay\n",
      "Processing Record 2 of Set 8 | romilly-sur-seine\n",
      "Processing Record 3 of Set 8 | palmer\n",
      "Processing Record 4 of Set 8 | haines junction\n",
      "Processing Record 5 of Set 8 | sampit\n",
      "Processing Record 6 of Set 8 | gort\n",
      "Processing Record 7 of Set 8 | pochutla\n",
      "Processing Record 8 of Set 8 | khandyga\n",
      "No city found here, skipping to next city\n",
      "Processing Record 9 of Set 8 | ramgarh\n",
      "Processing Record 10 of Set 8 | billings\n",
      "Processing Record 11 of Set 8 | vallenar\n",
      "Processing Record 12 of Set 8 | nikolsk\n",
      "Processing Record 13 of Set 8 | luangwa\n",
      "Processing Record 14 of Set 8 | benghazi\n",
      "Processing Record 15 of Set 8 | umm lajj\n",
      "Processing Record 16 of Set 8 | nuuk\n",
      "Processing Record 17 of Set 8 | general roca\n",
      "Processing Record 18 of Set 8 | san-pedro\n",
      "Processing Record 19 of Set 8 | florianopolis\n",
      "Processing Record 20 of Set 8 | sovetskaya gavan\n",
      "Processing Record 21 of Set 8 | manokwari\n",
      "Processing Record 22 of Set 8 | sosnovo-ozerskoye\n",
      "Processing Record 23 of Set 8 | chardara\n",
      "Processing Record 24 of Set 8 | hauterive\n",
      "Processing Record 25 of Set 8 | kerema\n",
      "Processing Record 26 of Set 8 | los llanos de aridane\n",
      "Processing Record 27 of Set 8 | half moon bay\n",
      "Processing Record 28 of Set 8 | alofi\n",
      "Processing Record 29 of Set 8 | saint-alexandre\n",
      "Processing Record 30 of Set 8 | katherine\n",
      "Processing Record 31 of Set 8 | talcahuano\n",
      "Processing Record 32 of Set 8 | zambezi\n",
      "Processing Record 33 of Set 8 | udachnyy\n",
      "Processing Record 34 of Set 8 | jumla\n",
      "Processing Record 35 of Set 8 | erenhot\n",
      "Processing Record 36 of Set 8 | yatou\n",
      "Processing Record 37 of Set 8 | deputatskiy\n",
      "Processing Record 38 of Set 8 | kota kinabalu\n",
      "Processing Record 39 of Set 8 | thai binh\n",
      "Processing Record 40 of Set 8 | dois vizinhos\n",
      "Processing Record 41 of Set 8 | teguldet\n",
      "Processing Record 42 of Set 8 | lincoln\n",
      "Processing Record 43 of Set 8 | karratha\n",
      "Processing Record 44 of Set 8 | nipawin\n",
      "Processing Record 45 of Set 8 | kijang\n",
      "Processing Record 46 of Set 8 | tabou\n",
      "Processing Record 47 of Set 8 | tanout\n",
      "Processing Record 48 of Set 8 | port keats\n",
      "Processing Record 49 of Set 8 | ladson\n",
      "Processing Record 50 of Set 8 | isla mujeres\n",
      "Processing Record 0 of Set 9 | klaksvik\n",
      "Processing Record 1 of Set 9 | baykit\n",
      "Processing Record 2 of Set 9 | aitape\n",
      "Processing Record 3 of Set 9 | semirom\n",
      "Processing Record 4 of Set 9 | sept-iles\n",
      "Processing Record 5 of Set 9 | fray bentos\n",
      "Processing Record 6 of Set 9 | ariano irpino\n",
      "Processing Record 7 of Set 9 | sinazongwe\n",
      "Processing Record 8 of Set 9 | lakatoro\n",
      "Processing Record 9 of Set 9 | tuatapere\n",
      "Processing Record 10 of Set 9 | honningsvag\n",
      "Processing Record 11 of Set 9 | felanitx\n",
      "Processing Record 12 of Set 9 | huautla\n",
      "Processing Record 13 of Set 9 | yuanping\n",
      "Processing Record 14 of Set 9 | tingi\n",
      "Processing Record 15 of Set 9 | kununurra\n",
      "Processing Record 16 of Set 9 | yaguajay\n",
      "Processing Record 17 of Set 9 | san jeronimo\n",
      "Processing Record 18 of Set 9 | staunton\n",
      "Processing Record 19 of Set 9 | encantado\n",
      "Processing Record 20 of Set 9 | dalbandin\n",
      "Processing Record 21 of Set 9 | iskateley\n",
      "Processing Record 22 of Set 9 | kamenka\n",
      "Processing Record 23 of Set 9 | nelson bay\n",
      "Processing Record 24 of Set 9 | petropavlovsk-kamchatskiy\n",
      "Processing Record 25 of Set 9 | oriximina\n",
      "No city found here, skipping to next city\n",
      "Processing Record 26 of Set 9 | korla\n",
      "Processing Record 27 of Set 9 | vila\n",
      "Processing Record 28 of Set 9 | dryden\n",
      "Processing Record 29 of Set 9 | elliot lake\n",
      "Processing Record 30 of Set 9 | pangai\n",
      "Processing Record 31 of Set 9 | hirara\n",
      "No city found here, skipping to next city\n",
      "No city found here, skipping to next city\n",
      "Processing Record 32 of Set 9 | liverpool\n",
      "Processing Record 33 of Set 9 | baracoa\n",
      "Processing Record 34 of Set 9 | bergen\n",
      "Processing Record 35 of Set 9 | sarkand\n",
      "Processing Record 36 of Set 9 | itaiba\n",
      "Processing Record 37 of Set 9 | deming\n",
      "Processing Record 38 of Set 9 | abadan\n",
      "Processing Record 39 of Set 9 | mandali\n",
      "Processing Record 40 of Set 9 | tlmace\n",
      "Processing Record 41 of Set 9 | bealanana\n",
      "Processing Record 42 of Set 9 | balkanabat\n",
      "Processing Record 43 of Set 9 | marienburg\n",
      "Processing Record 44 of Set 9 | ayan\n",
      "Processing Record 45 of Set 9 | longyearbyen\n",
      "Processing Record 46 of Set 9 | verkh-chebula\n",
      "Processing Record 47 of Set 9 | pascagoula\n",
      "Processing Record 48 of Set 9 | tilichiki\n",
      "Processing Record 49 of Set 9 | conde\n",
      "Processing Record 50 of Set 9 | sainte-maxime\n",
      "Processing Record 0 of Set 10 | bachaquero\n",
      "Processing Record 1 of Set 10 | songjianghe\n",
      "Processing Record 2 of Set 10 | ugoofaaru\n",
      "Processing Record 3 of Set 10 | marawi\n",
      "Processing Record 4 of Set 10 | coruripe\n",
      "Processing Record 5 of Set 10 | noshiro\n",
      "Processing Record 6 of Set 10 | progreso\n",
      "Processing Record 7 of Set 10 | bubaque\n",
      "Processing Record 8 of Set 10 | tianpeng\n",
      "Processing Record 9 of Set 10 | hay river\n",
      "Processing Record 10 of Set 10 | sioux lookout\n",
      "Processing Record 11 of Set 10 | juneau\n",
      "Processing Record 12 of Set 10 | vanderhoof\n",
      "Processing Record 13 of Set 10 | victor harbor\n",
      "Processing Record 14 of Set 10 | casper\n",
      "Processing Record 15 of Set 10 | north branch\n",
      "Processing Record 16 of Set 10 | north bend\n",
      "Processing Record 17 of Set 10 | coquimbo\n",
      "Processing Record 18 of Set 10 | haverfordwest\n",
      "No city found here, skipping to next city\n",
      "Processing Record 19 of Set 10 | bandarbeyla\n",
      "Processing Record 20 of Set 10 | kavaratti\n",
      "Processing Record 21 of Set 10 | longhua\n",
      "Processing Record 22 of Set 10 | wadi maliz\n",
      "Processing Record 23 of Set 10 | amahai\n",
      "Processing Record 24 of Set 10 | sinnamary\n",
      "Processing Record 25 of Set 10 | oussouye\n",
      "Processing Record 26 of Set 10 | coolum beach\n",
      "Processing Record 27 of Set 10 | khovu-aksy\n",
      "Processing Record 28 of Set 10 | grindavik\n",
      "No city found here, skipping to next city\n",
      "Processing Record 29 of Set 10 | eisenach\n",
      "Processing Record 30 of Set 10 | albert lea\n",
      "Processing Record 31 of Set 10 | guantanamo\n",
      "Processing Record 32 of Set 10 | belaya gora\n",
      "Processing Record 33 of Set 10 | mnogovershinnyy\n",
      "Processing Record 34 of Set 10 | kargasok\n",
      "Processing Record 35 of Set 10 | vangaindrano\n",
      "Processing Record 36 of Set 10 | pasco\n",
      "Processing Record 37 of Set 10 | fomboni\n",
      "Processing Record 38 of Set 10 | kamina\n",
      "Processing Record 39 of Set 10 | yenagoa\n",
      "Processing Record 40 of Set 10 | port moresby\n",
      "Processing Record 41 of Set 10 | sinop\n",
      "Processing Record 42 of Set 10 | san pedro\n",
      "Processing Record 43 of Set 10 | tubuala\n",
      "Processing Record 44 of Set 10 | sudzha\n",
      "Processing Record 45 of Set 10 | chivolo\n",
      "Processing Record 46 of Set 10 | pavilosta\n",
      "Processing Record 47 of Set 10 | kargopol\n",
      "Processing Record 48 of Set 10 | taitung\n",
      "Processing Record 49 of Set 10 | siddipet\n",
      "Processing Record 50 of Set 10 | serenje\n",
      "Processing Record 0 of Set 11 | srandakan\n",
      "Processing Record 1 of Set 11 | anaconda\n",
      "Processing Record 2 of Set 11 | bar harbor\n",
      "Processing Record 3 of Set 11 | calama\n",
      "Processing Record 4 of Set 11 | ikornnes\n",
      "Processing Record 5 of Set 11 | port hawkesbury\n",
      "Processing Record 6 of Set 11 | westport\n",
      "Processing Record 7 of Set 11 | jorochito\n",
      "Processing Record 8 of Set 11 | vestmannaeyjar\n",
      "Processing Record 9 of Set 11 | tyler\n",
      "Processing Record 10 of Set 11 | nouadhibou\n",
      "Processing Record 11 of Set 11 | lamesa\n",
      "Processing Record 12 of Set 11 | cayenne\n",
      "Processing Record 13 of Set 11 | mount isa\n",
      "Processing Record 14 of Set 11 | conakry\n",
      "Processing Record 15 of Set 11 | geraldton\n",
      "Processing Record 16 of Set 11 | dunedin\n",
      "Processing Record 17 of Set 11 | makakilo city\n",
      "Processing Record 18 of Set 11 | naze\n",
      "Processing Record 19 of Set 11 | ciudad bolivar\n",
      "Processing Record 20 of Set 11 | samana\n",
      "Processing Record 21 of Set 11 | araouane\n",
      "Processing Record 22 of Set 11 | ilhabela\n",
      "Processing Record 23 of Set 11 | camacari\n",
      "Processing Record 24 of Set 11 | baruun-urt\n",
      "Processing Record 25 of Set 11 | talnakh\n",
      "Processing Record 26 of Set 11 | matagami\n",
      "Processing Record 27 of Set 11 | wattegama\n",
      "Processing Record 28 of Set 11 | fare\n",
      "Processing Record 29 of Set 11 | sibolga\n",
      "Processing Record 30 of Set 11 | moa\n",
      "Processing Record 31 of Set 11 | vostok\n",
      "Processing Record 32 of Set 11 | stornoway\n",
      "No city found here, skipping to next city\n",
      "Processing Record 33 of Set 11 | pacific grove\n",
      "Processing Record 34 of Set 11 | sungaipenuh\n",
      "Processing Record 35 of Set 11 | miles city\n",
      "Processing Record 36 of Set 11 | seymchan\n",
      "Processing Record 37 of Set 11 | aranos\n",
      "Processing Record 38 of Set 11 | teya\n",
      "Processing Record 39 of Set 11 | viedma\n",
      "Processing Record 40 of Set 11 | boa vista\n",
      "Processing Record 41 of Set 11 | nhlangano\n",
      "Processing Record 42 of Set 11 | richards bay\n",
      "Processing Record 43 of Set 11 | buala\n",
      "Processing Record 44 of Set 11 | yongan\n",
      "Processing Record 45 of Set 11 | tambovka\n",
      "Processing Record 46 of Set 11 | dossor\n",
      "No city found here, skipping to next city\n",
      "Processing Record 47 of Set 11 | waipawa\n",
      "Processing Record 48 of Set 11 | kavieng\n",
      "Processing Record 49 of Set 11 | dudinka\n",
      "No city found here, skipping to next city\n",
      "Processing Record 50 of Set 11 | cabo rojo\n",
      "Processing Record 0 of Set 12 | kasongo-lunda\n",
      "Processing Record 1 of Set 12 | carlagan\n",
      "Processing Record 2 of Set 12 | taos\n",
      "Processing Record 3 of Set 12 | springbok\n",
      "Processing Record 4 of Set 12 | meulaboh\n",
      "Processing Record 5 of Set 12 | majene\n",
      "Processing Record 6 of Set 12 | lensk\n",
      "No city found here, skipping to next city\n",
      "Processing Record 7 of Set 12 | yugorsk\n",
      "Processing Record 8 of Set 12 | bilibino\n",
      "Processing Record 9 of Set 12 | griffith\n",
      "No city found here, skipping to next city\n",
      "Processing Record 10 of Set 12 | nazarovo\n",
      "Processing Record 11 of Set 12 | saint pete beach\n",
      "Processing Record 12 of Set 12 | rovaniemi\n",
      "Processing Record 13 of Set 12 | porto santo\n",
      "Processing Record 14 of Set 12 | mana\n",
      "No city found here, skipping to next city\n",
      "Processing Record 15 of Set 12 | tatarsk\n",
      "Processing Record 16 of Set 12 | singaraja\n",
      "Processing Record 17 of Set 12 | irbeyskoye\n",
      "Processing Record 18 of Set 12 | manacapuru\n",
      "Processing Record 19 of Set 12 | swan hill\n",
      "No city found here, skipping to next city\n",
      "Processing Record 20 of Set 12 | bagdarin\n",
      "Processing Record 21 of Set 12 | odweyne\n",
      "-------------------------\n",
      "Data Retrieval Complete\n",
      "-------------------------\n"
     ]
    }
   ],
   "source": [
    "# API url and units\n",
    "url = \"http://api.openweathermap.org/data/2.5/weather?\"\n",
    "units = \"imperial\"\n",
    "\n",
    "# URL used for query\n",
    "query_url = url + \"appid=\" + api_key + \"&units=\" + units + \"&q=\"\n",
    "\n",
    "# Loop to gather weather data\n",
    "set_count = 1\n",
    "record_count = 1\n",
    "weather_data = {\"City\":[],\"Cloudiness\":[],\"Country\":[],\"Date\":[],\"Humidity\":[],\"Lat\":[],\"Lng\":[],\"Max Temp\":[],\"Wind Speed\": []}\n",
    "for city in cities:\n",
    "    weather_response = requests.get(query_url + city)\n",
    "    weather_response_json = weather_response.json()\n",
    "    \n",
    "    if weather_response.status_code == 200:\n",
    "        weather_data[\"City\"].append(city)\n",
    "        weather_data[\"Cloudiness\"].append(weather_response_json['clouds']['all'])\n",
    "        weather_data[\"Country\"].append(weather_response_json['sys']['country'])\n",
    "        weather_data[\"Date\"].append(weather_response_json['dt'])\n",
    "        weather_data[\"Humidity\"].append(weather_response_json['main']['humidity'])\n",
    "        weather_data[\"Lat\"].append(weather_response_json['coord']['lat'])\n",
    "        weather_data[\"Lng\"].append(weather_response_json['coord']['lon'])\n",
    "        weather_data[\"Max Temp\"].append(weather_response_json['main']['temp_max'])\n",
    "        weather_data[\"Wind Speed\"].append(weather_response_json['wind']['speed'])\n",
    "        if record_count <= 50:\n",
    "            print(f\"Processing Record {record_count} of Set {set_count} | {city}\")\n",
    "            record_count += 1 \n",
    "        else:\n",
    "            record_count = 0\n",
    "            set_count += 1\n",
    "            print(f\"Processing Record {record_count} of Set {set_count} | {city}\")\n",
    "            record_count += 1\n",
    "    else:\n",
    "        print(\"No city found here, skipping to next city\")\n",
    "print(\"-------------------------\")\n",
    "print(\"Data Retrieval Complete\")\n",
    "print(\"-------------------------\")"
   ]
  },
  {
   "cell_type": "markdown",
   "metadata": {},
   "source": [
    "### Convert Raw Data to DataFrame\n",
    "* Export the city data into a .csv.\n",
    "* Display the DataFrame"
   ]
  },
  {
   "cell_type": "code",
   "execution_count": 11,
   "metadata": {},
   "outputs": [],
   "source": [
    "weather_df = pd.DataFrame(weather_data)\n",
    "weather_df.to_csv(\"weather_df.csv\", index=False)"
   ]
  },
  {
   "cell_type": "code",
   "execution_count": 12,
   "metadata": {},
   "outputs": [
    {
     "data": {
      "text/html": [
       "<div>\n",
       "<style scoped>\n",
       "    .dataframe tbody tr th:only-of-type {\n",
       "        vertical-align: middle;\n",
       "    }\n",
       "\n",
       "    .dataframe tbody tr th {\n",
       "        vertical-align: top;\n",
       "    }\n",
       "\n",
       "    .dataframe thead th {\n",
       "        text-align: right;\n",
       "    }\n",
       "</style>\n",
       "<table border=\"1\" class=\"dataframe\">\n",
       "  <thead>\n",
       "    <tr style=\"text-align: right;\">\n",
       "      <th></th>\n",
       "      <th>City</th>\n",
       "      <th>Cloudiness</th>\n",
       "      <th>Country</th>\n",
       "      <th>Date</th>\n",
       "      <th>Humidity</th>\n",
       "      <th>Lat</th>\n",
       "      <th>Lng</th>\n",
       "      <th>Max Temp</th>\n",
       "      <th>Wind Speed</th>\n",
       "    </tr>\n",
       "  </thead>\n",
       "  <tbody>\n",
       "    <tr>\n",
       "      <th>0</th>\n",
       "      <td>grand gaube</td>\n",
       "      <td>8</td>\n",
       "      <td>MU</td>\n",
       "      <td>1594592714</td>\n",
       "      <td>75</td>\n",
       "      <td>-20.01</td>\n",
       "      <td>57.66</td>\n",
       "      <td>72.00</td>\n",
       "      <td>7.00</td>\n",
       "    </tr>\n",
       "    <tr>\n",
       "      <th>1</th>\n",
       "      <td>inverell</td>\n",
       "      <td>0</td>\n",
       "      <td>AU</td>\n",
       "      <td>1594592920</td>\n",
       "      <td>90</td>\n",
       "      <td>-29.78</td>\n",
       "      <td>151.12</td>\n",
       "      <td>44.01</td>\n",
       "      <td>1.01</td>\n",
       "    </tr>\n",
       "    <tr>\n",
       "      <th>2</th>\n",
       "      <td>ushuaia</td>\n",
       "      <td>40</td>\n",
       "      <td>AR</td>\n",
       "      <td>1594592920</td>\n",
       "      <td>93</td>\n",
       "      <td>-54.80</td>\n",
       "      <td>-68.30</td>\n",
       "      <td>35.60</td>\n",
       "      <td>17.22</td>\n",
       "    </tr>\n",
       "    <tr>\n",
       "      <th>3</th>\n",
       "      <td>alice springs</td>\n",
       "      <td>0</td>\n",
       "      <td>AU</td>\n",
       "      <td>1594592781</td>\n",
       "      <td>74</td>\n",
       "      <td>-23.70</td>\n",
       "      <td>133.88</td>\n",
       "      <td>33.80</td>\n",
       "      <td>4.70</td>\n",
       "    </tr>\n",
       "    <tr>\n",
       "      <th>4</th>\n",
       "      <td>isangel</td>\n",
       "      <td>75</td>\n",
       "      <td>VU</td>\n",
       "      <td>1594592707</td>\n",
       "      <td>69</td>\n",
       "      <td>-19.55</td>\n",
       "      <td>169.27</td>\n",
       "      <td>77.00</td>\n",
       "      <td>9.17</td>\n",
       "    </tr>\n",
       "  </tbody>\n",
       "</table>\n",
       "</div>"
      ],
      "text/plain": [
       "            City  Cloudiness Country        Date  Humidity    Lat     Lng  \\\n",
       "0    grand gaube           8      MU  1594592714        75 -20.01   57.66   \n",
       "1       inverell           0      AU  1594592920        90 -29.78  151.12   \n",
       "2        ushuaia          40      AR  1594592920        93 -54.80  -68.30   \n",
       "3  alice springs           0      AU  1594592781        74 -23.70  133.88   \n",
       "4        isangel          75      VU  1594592707        69 -19.55  169.27   \n",
       "\n",
       "   Max Temp  Wind Speed  \n",
       "0     72.00        7.00  \n",
       "1     44.01        1.01  \n",
       "2     35.60       17.22  \n",
       "3     33.80        4.70  \n",
       "4     77.00        9.17  "
      ]
     },
     "execution_count": 12,
     "metadata": {},
     "output_type": "execute_result"
    }
   ],
   "source": [
    "\n",
    "weather_df.head()"
   ]
  },
  {
   "cell_type": "markdown",
   "metadata": {},
   "source": [
    "## Inspect the data and remove the cities where the humidity > 100%.\n",
    "----\n",
    "Skip this step if there are no cities that have humidity > 100%. "
   ]
  },
  {
   "cell_type": "code",
   "execution_count": 6,
   "metadata": {},
   "outputs": [
    {
     "data": {
      "text/html": [
       "<div>\n",
       "<style scoped>\n",
       "    .dataframe tbody tr th:only-of-type {\n",
       "        vertical-align: middle;\n",
       "    }\n",
       "\n",
       "    .dataframe tbody tr th {\n",
       "        vertical-align: top;\n",
       "    }\n",
       "\n",
       "    .dataframe thead th {\n",
       "        text-align: right;\n",
       "    }\n",
       "</style>\n",
       "<table border=\"1\" class=\"dataframe\">\n",
       "  <thead>\n",
       "    <tr style=\"text-align: right;\">\n",
       "      <th></th>\n",
       "      <th>Lat</th>\n",
       "      <th>Lng</th>\n",
       "      <th>Max Temp</th>\n",
       "      <th>Humidity</th>\n",
       "      <th>Cloudiness</th>\n",
       "      <th>Wind Speed</th>\n",
       "      <th>Date</th>\n",
       "    </tr>\n",
       "  </thead>\n",
       "  <tbody>\n",
       "    <tr>\n",
       "      <th>count</th>\n",
       "      <td>550.000000</td>\n",
       "      <td>550.000000</td>\n",
       "      <td>550.000000</td>\n",
       "      <td>550.000000</td>\n",
       "      <td>550.000000</td>\n",
       "      <td>550.000000</td>\n",
       "      <td>5.500000e+02</td>\n",
       "    </tr>\n",
       "    <tr>\n",
       "      <th>mean</th>\n",
       "      <td>19.973545</td>\n",
       "      <td>17.124400</td>\n",
       "      <td>58.331400</td>\n",
       "      <td>67.890909</td>\n",
       "      <td>52.141818</td>\n",
       "      <td>8.544800</td>\n",
       "      <td>1.585764e+09</td>\n",
       "    </tr>\n",
       "    <tr>\n",
       "      <th>std</th>\n",
       "      <td>33.284840</td>\n",
       "      <td>91.595451</td>\n",
       "      <td>25.795297</td>\n",
       "      <td>20.864881</td>\n",
       "      <td>35.766469</td>\n",
       "      <td>6.078869</td>\n",
       "      <td>5.539674e+01</td>\n",
       "    </tr>\n",
       "    <tr>\n",
       "      <th>min</th>\n",
       "      <td>-54.800000</td>\n",
       "      <td>-179.170000</td>\n",
       "      <td>-11.340000</td>\n",
       "      <td>9.000000</td>\n",
       "      <td>0.000000</td>\n",
       "      <td>0.160000</td>\n",
       "      <td>1.585764e+09</td>\n",
       "    </tr>\n",
       "    <tr>\n",
       "      <th>25%</th>\n",
       "      <td>-8.077500</td>\n",
       "      <td>-64.627500</td>\n",
       "      <td>42.800000</td>\n",
       "      <td>55.000000</td>\n",
       "      <td>20.000000</td>\n",
       "      <td>4.525000</td>\n",
       "      <td>1.585764e+09</td>\n",
       "    </tr>\n",
       "    <tr>\n",
       "      <th>50%</th>\n",
       "      <td>23.630000</td>\n",
       "      <td>19.635000</td>\n",
       "      <td>64.940000</td>\n",
       "      <td>72.000000</td>\n",
       "      <td>57.000000</td>\n",
       "      <td>7.325000</td>\n",
       "      <td>1.585764e+09</td>\n",
       "    </tr>\n",
       "    <tr>\n",
       "      <th>75%</th>\n",
       "      <td>48.672500</td>\n",
       "      <td>97.350000</td>\n",
       "      <td>78.800000</td>\n",
       "      <td>83.000000</td>\n",
       "      <td>86.750000</td>\n",
       "      <td>11.410000</td>\n",
       "      <td>1.585764e+09</td>\n",
       "    </tr>\n",
       "    <tr>\n",
       "      <th>max</th>\n",
       "      <td>78.220000</td>\n",
       "      <td>179.320000</td>\n",
       "      <td>102.200000</td>\n",
       "      <td>100.000000</td>\n",
       "      <td>100.000000</td>\n",
       "      <td>46.080000</td>\n",
       "      <td>1.585764e+09</td>\n",
       "    </tr>\n",
       "  </tbody>\n",
       "</table>\n",
       "</div>"
      ],
      "text/plain": [
       "              Lat         Lng    Max Temp    Humidity  Cloudiness  Wind Speed  \\\n",
       "count  550.000000  550.000000  550.000000  550.000000  550.000000  550.000000   \n",
       "mean    19.973545   17.124400   58.331400   67.890909   52.141818    8.544800   \n",
       "std     33.284840   91.595451   25.795297   20.864881   35.766469    6.078869   \n",
       "min    -54.800000 -179.170000  -11.340000    9.000000    0.000000    0.160000   \n",
       "25%     -8.077500  -64.627500   42.800000   55.000000   20.000000    4.525000   \n",
       "50%     23.630000   19.635000   64.940000   72.000000   57.000000    7.325000   \n",
       "75%     48.672500   97.350000   78.800000   83.000000   86.750000   11.410000   \n",
       "max     78.220000  179.320000  102.200000  100.000000  100.000000   46.080000   \n",
       "\n",
       "               Date  \n",
       "count  5.500000e+02  \n",
       "mean   1.585764e+09  \n",
       "std    5.539674e+01  \n",
       "min    1.585764e+09  \n",
       "25%    1.585764e+09  \n",
       "50%    1.585764e+09  \n",
       "75%    1.585764e+09  \n",
       "max    1.585764e+09  "
      ]
     },
     "execution_count": 6,
     "metadata": {},
     "output_type": "execute_result"
    }
   ],
   "source": []
  },
  {
   "cell_type": "code",
   "execution_count": 7,
   "metadata": {},
   "outputs": [
    {
     "data": {
      "text/plain": [
       "Int64Index([], dtype='int64')"
      ]
     },
     "execution_count": 7,
     "metadata": {},
     "output_type": "execute_result"
    }
   ],
   "source": [
    "#  Get the indices of cities that have humidity over 100%.\n"
   ]
  },
  {
   "cell_type": "code",
   "execution_count": 8,
   "metadata": {},
   "outputs": [
    {
     "data": {
      "text/html": [
       "<div>\n",
       "<style scoped>\n",
       "    .dataframe tbody tr th:only-of-type {\n",
       "        vertical-align: middle;\n",
       "    }\n",
       "\n",
       "    .dataframe tbody tr th {\n",
       "        vertical-align: top;\n",
       "    }\n",
       "\n",
       "    .dataframe thead th {\n",
       "        text-align: right;\n",
       "    }\n",
       "</style>\n",
       "<table border=\"1\" class=\"dataframe\">\n",
       "  <thead>\n",
       "    <tr style=\"text-align: right;\">\n",
       "      <th></th>\n",
       "      <th>City</th>\n",
       "      <th>Lat</th>\n",
       "      <th>Lng</th>\n",
       "      <th>Max Temp</th>\n",
       "      <th>Humidity</th>\n",
       "      <th>Cloudiness</th>\n",
       "      <th>Wind Speed</th>\n",
       "      <th>Country</th>\n",
       "      <th>Date</th>\n",
       "    </tr>\n",
       "  </thead>\n",
       "  <tbody>\n",
       "    <tr>\n",
       "      <th>0</th>\n",
       "      <td>pimentel</td>\n",
       "      <td>-6.84</td>\n",
       "      <td>-79.93</td>\n",
       "      <td>66.20</td>\n",
       "      <td>29</td>\n",
       "      <td>75</td>\n",
       "      <td>5.82</td>\n",
       "      <td>PE</td>\n",
       "      <td>1585764415</td>\n",
       "    </tr>\n",
       "    <tr>\n",
       "      <th>1</th>\n",
       "      <td>victoria</td>\n",
       "      <td>22.29</td>\n",
       "      <td>114.16</td>\n",
       "      <td>69.01</td>\n",
       "      <td>88</td>\n",
       "      <td>40</td>\n",
       "      <td>18.34</td>\n",
       "      <td>HK</td>\n",
       "      <td>1585764288</td>\n",
       "    </tr>\n",
       "    <tr>\n",
       "      <th>2</th>\n",
       "      <td>padang</td>\n",
       "      <td>-0.95</td>\n",
       "      <td>100.35</td>\n",
       "      <td>79.90</td>\n",
       "      <td>75</td>\n",
       "      <td>99</td>\n",
       "      <td>1.63</td>\n",
       "      <td>ID</td>\n",
       "      <td>1585764115</td>\n",
       "    </tr>\n",
       "    <tr>\n",
       "      <th>3</th>\n",
       "      <td>hasaki</td>\n",
       "      <td>35.73</td>\n",
       "      <td>140.83</td>\n",
       "      <td>55.00</td>\n",
       "      <td>100</td>\n",
       "      <td>75</td>\n",
       "      <td>4.70</td>\n",
       "      <td>JP</td>\n",
       "      <td>1585764415</td>\n",
       "    </tr>\n",
       "    <tr>\n",
       "      <th>4</th>\n",
       "      <td>kahului</td>\n",
       "      <td>20.89</td>\n",
       "      <td>-156.47</td>\n",
       "      <td>70.00</td>\n",
       "      <td>88</td>\n",
       "      <td>1</td>\n",
       "      <td>7.63</td>\n",
       "      <td>US</td>\n",
       "      <td>1585764415</td>\n",
       "    </tr>\n",
       "  </tbody>\n",
       "</table>\n",
       "</div>"
      ],
      "text/plain": [
       "       City    Lat     Lng  Max Temp  Humidity  Cloudiness  Wind Speed  \\\n",
       "0  pimentel  -6.84  -79.93     66.20        29          75        5.82   \n",
       "1  victoria  22.29  114.16     69.01        88          40       18.34   \n",
       "2    padang  -0.95  100.35     79.90        75          99        1.63   \n",
       "3    hasaki  35.73  140.83     55.00       100          75        4.70   \n",
       "4   kahului  20.89 -156.47     70.00        88           1        7.63   \n",
       "\n",
       "  Country        Date  \n",
       "0      PE  1585764415  \n",
       "1      HK  1585764288  \n",
       "2      ID  1585764115  \n",
       "3      JP  1585764415  \n",
       "4      US  1585764415  "
      ]
     },
     "execution_count": 8,
     "metadata": {},
     "output_type": "execute_result"
    }
   ],
   "source": [
    "# Make a new DataFrame equal to the city data to drop all humidity outliers by index.\n",
    "# Passing \"inplace=False\" will make a copy of the city_data DataFrame, which we call \"clean_city_data\".\n"
   ]
  },
  {
   "cell_type": "code",
   "execution_count": 9,
   "metadata": {},
   "outputs": [],
   "source": [
    "# Extract relevant fields from the data frame\n",
    "\n",
    "\n",
    "# Export the City_Data into a csv\n"
   ]
  },
  {
   "cell_type": "markdown",
   "metadata": {},
   "source": [
    "## Plotting the Data\n",
    "* Use proper labeling of the plots using plot titles (including date of analysis) and axes labels.\n",
    "* Save the plotted figures as .pngs."
   ]
  },
  {
   "cell_type": "markdown",
   "metadata": {},
   "source": [
    "## Latitude vs. Temperature Plot"
   ]
  },
  {
   "cell_type": "code",
   "execution_count": 13,
   "metadata": {
    "scrolled": true
   },
   "outputs": [
    {
     "data": {
      "image/png": "[encoded data removed]",
      "text/plain": [
       "<Figure size 432x288 with 1 Axes>"
      ]
     },
     "metadata": {
      "needs_background": "light"
     },
     "output_type": "display_data"
    }
   ],
   "source": [
    "# Scatter Plot\n",
    "plt.scatter(weather_df[\"Lat\"], weather_df[\"Max Temp\"], s=15, c=\"red\", edgecolors=\"black\")\n",
    "plt.title(\"City Latitude vs. Max Temperature (04/22/20)\")\n",
    "plt.xlabel(\"Latitude\")\n",
    "plt.ylabel(\"Max Temperature (F)\")\n",
    "plt.grid(True)\n",
    "plt.savefig(\"Lat_vs_Max_Temp.png\")\n",
    "plt.show()"
   ]
  },
  {
   "cell_type": "markdown",
   "metadata": {},
   "source": [
    "## Latitude vs. Humidity Plot"
   ]
  },
  {
   "cell_type": "code",
   "execution_count": 14,
   "metadata": {},
   "outputs": [
    {
     "data": {
      "image/png": "[encoded data removed]",
      "text/plain": [
       "<Figure size 432x288 with 1 Axes>"
      ]
     },
     "metadata": {
      "needs_background": "light"
     },
     "output_type": "display_data"
    }
   ],
   "source": [
    "# Scatter Plot\n",
    "plt.scatter(weather_df[\"Lat\"], weather_df[\"Humidity\"], s=15, c=\"red\", edgecolors=\"black\")\n",
    "plt.title(\"City Latitude vs. Humidity (04/22/20)\")\n",
    "plt.xlabel(\"Latitude\")\n",
    "plt.ylabel(\"Humidity (%)\")\n",
    "plt.grid(True)\n",
    "plt.savefig(\"Lat_vs_Humidity.png\")\n",
    "plt.show()"
   ]
  },
  {
   "cell_type": "markdown",
   "metadata": {},
   "source": [
    "## Latitude vs. Cloudiness Plot"
   ]
  },
  {
   "cell_type": "code",
   "execution_count": 12,
   "metadata": {},
   "outputs": [
    {
     "data": {
      "image/png": "[encoded data removed]",
      "text/plain": [
       "<Figure size 432x288 with 1 Axes>"
      ]
     },
     "metadata": {
      "needs_background": "light"
     },
     "output_type": "display_data"
    }
   ],
   "source": [
    "# Scatter Plot\n",
    "plt.scatter(weather_df[\"Lat\"], weather_df[\"Cloudiness\"], s=15, c=\"red\", edgecolors=\"black\")\n",
    "plt.title(\"City Latitude vs. Cloudiness (04/22/20)\")\n",
    "plt.xlabel(\"Latitude\")\n",
    "plt.ylabel(\"Cloudiness (%)\")\n",
    "plt.grid(True)\n",
    "plt.savefig(\"Lat_vs_Cloudiness.png\")\n",
    "plt.show()"
   ]
  },
  {
   "cell_type": "markdown",
   "metadata": {},
   "source": [
    "## Latitude vs. Wind Speed Plot"
   ]
  },
  {
   "cell_type": "code",
   "execution_count": 15,
   "metadata": {},
   "outputs": [
    {
     "data": {
      "image/png": "[encoded data removed]",
      "text/plain": [
       "<Figure size 432x288 with 1 Axes>"
      ]
     },
     "metadata": {
      "needs_background": "light"
     },
     "output_type": "display_data"
    }
   ],
   "source": [
    "# Scatter Plot\n",
    "plt.scatter(weather_df[\"Lat\"], weather_df[\"Wind Speed\"], s=15, c=\"red\", edgecolors=\"black\")\n",
    "plt.title(\"City Latitude vs. Wind Speed (04/22/20)\")\n",
    "plt.xlabel(\"Latitude\")\n",
    "plt.ylabel(\"Wind Speed (mph)\")\n",
    "plt.grid(True)\n",
    "plt.savefig(\"Lat_vs_Wind.png\")\n",
    "plt.show()"
   ]
  },
  {
   "cell_type": "markdown",
   "metadata": {},
   "source": [
    "## Linear Regression"
   ]
  },
  {
   "cell_type": "code",
   "execution_count": 14,
   "metadata": {},
   "outputs": [],
   "source": [
    "# OPTIONAL: Create a function to create Linear Regression plots"
   ]
  },
  {
   "cell_type": "code",
   "execution_count": 16,
   "metadata": {},
   "outputs": [
    {
     "data": {
      "text/html": [
       "<div>\n",
       "<style scoped>\n",
       "    .dataframe tbody tr th:only-of-type {\n",
       "        vertical-align: middle;\n",
       "    }\n",
       "\n",
       "    .dataframe tbody tr th {\n",
       "        vertical-align: top;\n",
       "    }\n",
       "\n",
       "    .dataframe thead th {\n",
       "        text-align: right;\n",
       "    }\n",
       "</style>\n",
       "<table border=\"1\" class=\"dataframe\">\n",
       "  <thead>\n",
       "    <tr style=\"text-align: right;\">\n",
       "      <th></th>\n",
       "      <th>City</th>\n",
       "      <th>Cloudiness</th>\n",
       "      <th>Country</th>\n",
       "      <th>Date</th>\n",
       "      <th>Humidity</th>\n",
       "      <th>Lat</th>\n",
       "      <th>Lng</th>\n",
       "      <th>Max Temp</th>\n",
       "      <th>Wind Speed</th>\n",
       "    </tr>\n",
       "  </thead>\n",
       "  <tbody>\n",
       "    <tr>\n",
       "      <th>5</th>\n",
       "      <td>husavik</td>\n",
       "      <td>90</td>\n",
       "      <td>IS</td>\n",
       "      <td>1594592385</td>\n",
       "      <td>81</td>\n",
       "      <td>66.04</td>\n",
       "      <td>-17.34</td>\n",
       "      <td>53.60</td>\n",
       "      <td>5.82</td>\n",
       "    </tr>\n",
       "    <tr>\n",
       "      <th>7</th>\n",
       "      <td>eskil</td>\n",
       "      <td>0</td>\n",
       "      <td>TR</td>\n",
       "      <td>1594592921</td>\n",
       "      <td>51</td>\n",
       "      <td>38.40</td>\n",
       "      <td>33.41</td>\n",
       "      <td>72.36</td>\n",
       "      <td>9.17</td>\n",
       "    </tr>\n",
       "    <tr>\n",
       "      <th>10</th>\n",
       "      <td>jamestown</td>\n",
       "      <td>1</td>\n",
       "      <td>US</td>\n",
       "      <td>1594592921</td>\n",
       "      <td>73</td>\n",
       "      <td>42.10</td>\n",
       "      <td>-79.24</td>\n",
       "      <td>73.99</td>\n",
       "      <td>10.29</td>\n",
       "    </tr>\n",
       "    <tr>\n",
       "      <th>14</th>\n",
       "      <td>yellowknife</td>\n",
       "      <td>75</td>\n",
       "      <td>CA</td>\n",
       "      <td>1594592682</td>\n",
       "      <td>63</td>\n",
       "      <td>62.46</td>\n",
       "      <td>-114.35</td>\n",
       "      <td>68.00</td>\n",
       "      <td>8.05</td>\n",
       "    </tr>\n",
       "    <tr>\n",
       "      <th>15</th>\n",
       "      <td>kapaa</td>\n",
       "      <td>20</td>\n",
       "      <td>US</td>\n",
       "      <td>1594592922</td>\n",
       "      <td>69</td>\n",
       "      <td>22.08</td>\n",
       "      <td>-159.32</td>\n",
       "      <td>82.40</td>\n",
       "      <td>18.34</td>\n",
       "    </tr>\n",
       "  </tbody>\n",
       "</table>\n",
       "</div>"
      ],
      "text/plain": [
       "           City  Cloudiness Country        Date  Humidity    Lat     Lng  \\\n",
       "5       husavik          90      IS  1594592385        81  66.04  -17.34   \n",
       "7         eskil           0      TR  1594592921        51  38.40   33.41   \n",
       "10    jamestown           1      US  1594592921        73  42.10  -79.24   \n",
       "14  yellowknife          75      CA  1594592682        63  62.46 -114.35   \n",
       "15        kapaa          20      US  1594592922        69  22.08 -159.32   \n",
       "\n",
       "    Max Temp  Wind Speed  \n",
       "5      53.60        5.82  \n",
       "7      72.36        9.17  \n",
       "10     73.99       10.29  \n",
       "14     68.00        8.05  \n",
       "15     82.40       18.34  "
      ]
     },
     "execution_count": 16,
     "metadata": {},
     "output_type": "execute_result"
    }
   ],
   "source": [
    "# Create Northern and Southern Hemisphere DataFrames\n",
    "# Create Northern and Southern Hemisphere DataFrames\n",
    "north_df = weather_df.loc[weather_df[\"Lat\"]>=0.01]\n",
    "south_df = weather_df.loc[weather_df[\"Lat\"]<=-0.01]\n",
    "north_df.head()"
   ]
  },
  {
   "cell_type": "markdown",
   "metadata": {},
   "source": [
    "####  Northern Hemisphere - Max Temp vs. Latitude Linear Regression"
   ]
  },
  {
   "cell_type": "code",
   "execution_count": 17,
   "metadata": {},
   "outputs": [
    {
     "name": "stdout",
     "output_type": "stream",
     "text": [
      "The r-squared is: 0.4684987038087156\n"
     ]
    },
    {
     "data": {
      "image/png": "[encoded data removed]",
      "text/plain": [
       "<Figure size 432x288 with 1 Axes>"
      ]
     },
     "metadata": {
      "needs_background": "light"
     },
     "output_type": "display_data"
    }
   ],
   "source": [
    "# Add the linear regression equation and line to plot\n",
    "x_values = north_df[\"Lat\"]\n",
    "y_values = north_df[\"Max Temp\"]\n",
    "(slope, intercept, rvalue, pvalue, stderr) = linregress(x_values, y_values)\n",
    "regress_values = x_values * slope + intercept\n",
    "line_eq = \"y = \" + str(round(slope,2)) + \"x + \" + str(round(intercept,2))\n",
    "plt.scatter(x_values,y_values)\n",
    "plt.plot(x_values,regress_values,\"r-\")\n",
    "plt.annotate(line_eq,(0,10),fontsize=15,color=\"red\")\n",
    "plt.xlabel(\"Latitude\")\n",
    "plt.ylabel(\"Max Temp\")\n",
    "plt.savefig(\"Lat_vs_Max_Temp_North.png\")\n",
    "print(f\"The r-squared is: {rvalue**2}\")\n",
    "plt.show()"
   ]
  },
  {
   "cell_type": "markdown",
   "metadata": {},
   "source": [
    "####  Southern Hemisphere - Max Temp vs. Latitude Linear Regression"
   ]
  },
  {
   "cell_type": "code",
   "execution_count": 18,
   "metadata": {},
   "outputs": [
    {
     "name": "stdout",
     "output_type": "stream",
     "text": [
      "The r-squared is: 0.6766548542777635\n"
     ]
    },
    {
     "data": {
      "image/png": "[encoded data removed]",
      "text/plain": [
       "<Figure size 432x288 with 1 Axes>"
      ]
     },
     "metadata": {
      "needs_background": "light"
     },
     "output_type": "display_data"
    }
   ],
   "source": [
    "# Add the linear regression equation and line to plot\n",
    "x_values = south_df[\"Lat\"]\n",
    "y_values = south_df[\"Max Temp\"]\n",
    "(slope, intercept, rvalue, pvalue, stderr) = linregress(x_values, y_values)\n",
    "regress_values = x_values * slope + intercept\n",
    "line_eq = \"y = \" + str(round(slope,2)) + \"x + \" + str(round(intercept,2))\n",
    "plt.scatter(x_values,y_values)\n",
    "plt.plot(x_values,regress_values,\"r-\")\n",
    "plt.annotate(line_eq,(-30,45),fontsize=15,color=\"red\")\n",
    "plt.xlabel(\"Latitude\")\n",
    "plt.ylabel(\"Max Temp\")\n",
    "plt.savefig(\"Lat_vs_Max_Temp_South.png\")\n",
    "print(f\"The r-squared is: {rvalue**2}\")\n",
    "plt.show()"
   ]
  },
  {
   "cell_type": "markdown",
   "metadata": {},
   "source": [
    "####  Northern Hemisphere - Humidity (%) vs. Latitude Linear Regression"
   ]
  },
  {
   "cell_type": "code",
   "execution_count": 19,
   "metadata": {},
   "outputs": [
    {
     "name": "stdout",
     "output_type": "stream",
     "text": [
      "The r-squared is: 0.0007540529560339131\n"
     ]
    },
    {
     "data": {
      "image/png": "[encoded data removed]",
      "text/plain": [
       "<Figure size 432x288 with 1 Axes>"
      ]
     },
     "metadata": {
      "needs_background": "light"
     },
     "output_type": "display_data"
    }
   ],
   "source": [
    "# Add the linear regression equation and line to plot\n",
    "x_values = north_df[\"Lat\"]\n",
    "y_values = north_df[\"Humidity\"]\n",
    "(slope, intercept, rvalue, pvalue, stderr) = linregress(x_values, y_values)\n",
    "regress_values = x_values * slope + intercept\n",
    "line_eq = \"y = \" + str(round(slope,2)) + \"x + \" + str(round(intercept,2))\n",
    "plt.scatter(x_values,y_values)\n",
    "plt.plot(x_values,regress_values,\"r-\")\n",
    "plt.annotate(line_eq,(45,10),fontsize=15,color=\"red\")\n",
    "plt.xlabel(\"Latitude\")\n",
    "plt.ylabel(\"Humidity (%)\")\n",
    "plt.savefig(\"Lat_vs_Humidity_North.png\")\n",
    "print(f\"The r-squared is: {rvalue**2}\")\n",
    "plt.show()"
   ]
  },
  {
   "cell_type": "markdown",
   "metadata": {},
   "source": [
    "####  Southern Hemisphere - Humidity (%) vs. Latitude Linear Regression"
   ]
  },
  {
   "cell_type": "code",
   "execution_count": 20,
   "metadata": {},
   "outputs": [
    {
     "name": "stdout",
     "output_type": "stream",
     "text": [
      "The r-squared is: 0.0012229479401471316\n"
     ]
    },
    {
     "data": {
      "image/png": "[encoded data removed]",
      "text/plain": [
       "<Figure size 432x288 with 1 Axes>"
      ]
     },
     "metadata": {
      "needs_background": "light"
     },
     "output_type": "display_data"
    }
   ],
   "source": [
    "# Add the linear regression equation and line to plot\n",
    "x_values = south_df[\"Lat\"]\n",
    "y_values = south_df[\"Humidity\"]\n",
    "(slope, intercept, rvalue, pvalue, stderr) = linregress(x_values, y_values)\n",
    "regress_values = x_values * slope + intercept\n",
    "line_eq = \"y = \" + str(round(slope,2)) + \"x + \" + str(round(intercept,2))\n",
    "plt.scatter(x_values,y_values)\n",
    "plt.plot(x_values,regress_values,\"r-\")\n",
    "plt.annotate(line_eq,(-25,7),fontsize=15,color=\"red\")\n",
    "plt.ylim(0,120)\n",
    "plt.xlabel(\"Latitude\")\n",
    "plt.ylabel(\"Humidity (%)\")\n",
    "plt.savefig(\"Lat_vs_Humidity_South.png\")\n",
    "print(f\"The r-squared is: {rvalue**2}\")\n",
    "plt.show()"
   ]
  },
  {
   "cell_type": "markdown",
   "metadata": {},
   "source": [
    "####  Northern Hemisphere - Cloudiness (%) vs. Latitude Linear Regression"
   ]
  },
  {
   "cell_type": "code",
   "execution_count": 21,
   "metadata": {},
   "outputs": [
    {
     "name": "stdout",
     "output_type": "stream",
     "text": [
      "The r-squared is: 0.00044795747345931057\n"
     ]
    },
    {
     "data": {
      "image/png": "[encoded data removed]",
      "text/plain": [
       "<Figure size 432x288 with 1 Axes>"
      ]
     },
     "metadata": {
      "needs_background": "light"
     },
     "output_type": "display_data"
    }
   ],
   "source": [
    "# Add the linear regression equation and line to plot\n",
    "x_values = north_df[\"Lat\"]\n",
    "y_values = north_df[\"Cloudiness\"]\n",
    "(slope, intercept, rvalue, pvalue, stderr) = linregress(x_values, y_values)\n",
    "regress_values = x_values * slope + intercept\n",
    "line_eq = \"y = \" + str(round(slope,2)) + \"x + \" + str(round(intercept,2))\n",
    "plt.scatter(x_values,y_values)\n",
    "plt.plot(x_values,regress_values,\"r-\")\n",
    "plt.annotate(line_eq,(0,110),fontsize=15,color=\"red\")\n",
    "plt.ylim(-5,120)\n",
    "plt.xlabel(\"Latitude\")\n",
    "plt.ylabel(\"Cloudiness (%)\")\n",
    "plt.savefig(\"Lat_vs_Cloudiness_North.png\")\n",
    "print(f\"The r-squared is: {rvalue**2}\")\n",
    "plt.show()"
   ]
  },
  {
   "cell_type": "markdown",
   "metadata": {},
   "source": [
    "####  Southern Hemisphere - Cloudiness (%) vs. Latitude Linear Regression"
   ]
  },
  {
   "cell_type": "code",
   "execution_count": 22,
   "metadata": {},
   "outputs": [
    {
     "name": "stdout",
     "output_type": "stream",
     "text": [
      "The r-squared is: 0.043679588352732654\n"
     ]
    },
    {
     "data": {
      "image/png": "[encoded data removed]",
      "text/plain": [
       "<Figure size 432x288 with 1 Axes>"
      ]
     },
     "metadata": {
      "needs_background": "light"
     },
     "output_type": "display_data"
    }
   ],
   "source": [
    "# Add the linear regression equation and line to plot\n",
    "x_values = south_df[\"Lat\"]\n",
    "y_values = south_df[\"Cloudiness\"]\n",
    "(slope, intercept, rvalue, pvalue, stderr) = linregress(x_values, y_values)\n",
    "regress_values = x_values * slope + intercept\n",
    "line_eq = \"y = \" + str(round(slope,2)) + \"x + \" + str(round(intercept,2))\n",
    "plt.scatter(x_values,y_values)\n",
    "plt.plot(x_values,regress_values,\"r-\")\n",
    "plt.annotate(line_eq,(-55,110),fontsize=15,color=\"red\")\n",
    "plt.ylim(-5,120)\n",
    "plt.xlabel(\"Latitude\")\n",
    "plt.ylabel(\"Cloudiness (%)\")\n",
    "plt.savefig(\"Lat_vs_Cloudiness_South.png\")\n",
    "print(f\"The r-squared is: {rvalue**2}\")\n",
    "plt.show()"
   ]
  },
  {
   "cell_type": "markdown",
   "metadata": {},
   "source": [
    "####  Northern Hemisphere - Wind Speed (mph) vs. Latitude Linear Regression"
   ]
  },
  {
   "cell_type": "code",
   "execution_count": 23,
   "metadata": {},
   "outputs": [
    {
     "name": "stdout",
     "output_type": "stream",
     "text": [
      "The r-squared is: 0.01564034601406723\n"
     ]
    },
    {
     "data": {
      "image/png": "[encoded data removed]",
      "text/plain": [
       "<Figure size 432x288 with 1 Axes>"
      ]
     },
     "metadata": {
      "needs_background": "light"
     },
     "output_type": "display_data"
    }
   ],
   "source": [
    "# Add the linear regression equation and line to plot\n",
    "x_values = north_df[\"Lat\"]\n",
    "y_values = north_df[\"Wind Speed\"]\n",
    "(slope, intercept, rvalue, pvalue, stderr) = linregress(x_values, y_values)\n",
    "regress_values = x_values * slope + intercept\n",
    "line_eq = \"y = \" + str(round(slope,2)) + \"x + \" + str(round(intercept,2))\n",
    "plt.scatter(x_values,y_values)\n",
    "plt.plot(x_values,regress_values,\"r-\")\n",
    "plt.annotate(line_eq,(0,40),fontsize=15,color=\"red\")\n",
    "plt.xlabel(\"Latitude\")\n",
    "plt.ylabel(\"Wind Speed (mph)\")\n",
    "plt.savefig(\"Lat_vs_Wind_North.png\")\n",
    "print(f\"The r-squared is: {rvalue**2}\")\n",
    "plt.show()"
   ]
  },
  {
   "cell_type": "markdown",
   "metadata": {},
   "source": [
    "####  Southern Hemisphere - Wind Speed (mph) vs. Latitude Linear Regression"
   ]
  },
  {
   "cell_type": "code",
   "execution_count": 24,
   "metadata": {},
   "outputs": [
    {
     "name": "stdout",
     "output_type": "stream",
     "text": [
      "The r-squared is: 0.02848173389960903\n"
     ]
    },
    {
     "data": {
      "image/png": "[encoded data removed]",
      "text/plain": [
       "<Figure size 432x288 with 1 Axes>"
      ]
     },
     "metadata": {
      "needs_background": "light"
     },
     "output_type": "display_data"
    }
   ],
   "source": [
    "# Add the linear regression equation and line to plot\n",
    "x_values = south_df[\"Lat\"]\n",
    "y_values = south_df[\"Wind Speed\"]\n",
    "(slope, intercept, rvalue, pvalue, stderr) = linregress(x_values, y_values)\n",
    "regress_values = x_values * slope + intercept\n",
    "line_eq = \"y = \" + str(round(slope,2)) + \"x + \" + str(round(intercept,2))\n",
    "plt.scatter(x_values,y_values)\n",
    "plt.plot(x_values,regress_values,\"r-\")\n",
    "plt.annotate(line_eq,(-22,19),fontsize=15,color=\"red\")\n",
    "plt.xlabel(\"Latitude\")\n",
    "plt.ylabel(\"Wind Speed (mph)\")\n",
    "plt.savefig(\"Lat_vs_Wind_South.png\")\n",
    "print(f\"The r-squared is: {rvalue**2}\")\n",
    "plt.show()"
   ]
  },
  {
   "cell_type": "code",
   "execution_count": null,
   "metadata": {},
   "outputs": [],
   "source": []
  }
 ],
 "metadata": {
  "anaconda-cloud": {},
  "kernel_info": {
   "name": "python3"
  },
  "kernelspec": {
   "display_name": "Python [conda env:PythonData] *",
   "language": "python",
   "name": "conda-env-PythonData-py"
  },
  "language_info": {
   "codemirror_mode": {
    "name": "ipython",
    "version": 3
   },
   "file_extension": ".py",
   "mimetype": "text/x-python",
   "name": "python",
   "nbconvert_exporter": "python",
   "pygments_lexer": "ipython3",
   "version": "3.6.10"
  },
  "latex_envs": {
   "LaTeX_envs_menu_present": true,
   "autoclose": false,
   "autocomplete": true,
   "bibliofile": "biblio.bib",
   "cite_by": "apalike",
   "current_citInitial": 1,
   "eqLabelWithNumbers": true,
   "eqNumInitial": 1,
   "hotkeys": {
    "equation": "Ctrl-E",
    "itemize": "Ctrl-I"
   },
   "labels_anchors": false,
   "latex_user_defs": false,
   "report_style_numbering": false,
   "user_envs_cfg": false
  },
  "nteract": {
   "version": "0.12.3"
  }
 },
 "nbformat": 4,
 "nbformat_minor": 2
}
