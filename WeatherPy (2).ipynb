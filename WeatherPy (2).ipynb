{
 "cells": [
  {
   "cell_type": "markdown",
   "metadata": {},
   "source": [
    "# WeatherPy\n",
    "----\n",
    "\n",
    "#### Note\n",
    "* Instructions have been included for each segment. You do not have to follow them exactly, but they are included to help you think through the steps."
   ]
  },
  {
   "cell_type": "code",
   "execution_count": 6,
   "metadata": {
    "scrolled": true
   },
   "outputs": [],
   "source": [
    "# Dependencies and Setup\n",
    "import matplotlib.pyplot as plt\n",
    "import pandas as pd\n",
    "import numpy as np\n",
    "import requests\n",
    "import time\n",
    "from scipy.stats import linregress\n",
    "\n",
    "# Import API key\n",
    "from api_keys import api_key\n",
    "\n",
    "# Incorporated citipy to determine city based on latitude and longitude\n",
    "from citipy import citipy\n",
    "\n",
    "# Output File (CSV)\n",
    "output_data_file = \"output_data/cities.csv\"\n",
    "\n",
    "# Range of latitudes and longitudes\n",
    "lat_range = (-90, 90)\n",
    "lng_range = (-180, 180)"
   ]
  },
  {
   "cell_type": "markdown",
   "metadata": {},
   "source": [
    "## Generate Cities List"
   ]
  },
  {
   "cell_type": "code",
   "execution_count": 7,
   "metadata": {},
   "outputs": [
    {
     "data": {
      "text/plain": [
       "615"
      ]
     },
     "execution_count": 7,
     "metadata": {},
     "output_type": "execute_result"
    }
   ],
   "source": [
    "# List for holding lat_lngs and cities\n",
    "lat_lngs = []\n",
    "cities = []\n",
    "\n",
    "# Create a set of random lat and lng combinations\n",
    "lats = np.random.uniform(lat_range[0], lat_range[1], size=1500)\n",
    "lngs = np.random.uniform(lng_range[0], lng_range[1], size=1500)\n",
    "lat_lngs = zip(lats, lngs)\n",
    "\n",
    "# Identify nearest city for each lat, lng combination\n",
    "for lat_lng in lat_lngs:\n",
    "    city = citipy.nearest_city(lat_lng[0], lat_lng[1]).city_name\n",
    "    \n",
    "    # If the city is unique, then add it to a our cities list\n",
    "    if city not in cities:\n",
    "        cities.append(city)\n",
    "\n",
    "# Print the city count to confirm sufficient count\n",
    "len(cities)"
   ]
  },
  {
   "cell_type": "markdown",
   "metadata": {},
   "source": [
    "### Perform API Calls\n",
    "* Perform a weather check on each city using a series of successive API calls.\n",
    "* Include a print log of each city as it'sbeing processed (with the city number and city name).\n"
   ]
  },
  {
   "cell_type": "code",
   "execution_count": 8,
   "metadata": {},
   "outputs": [
    {
     "name": "stdout",
     "output_type": "stream",
     "text": [
      "No city found here, skipping to next city\n",
      "Processing Record 1 of Set 1 | hilo\n",
      "Processing Record 2 of Set 1 | tual\n",
      "Processing Record 3 of Set 1 | winslow\n",
      "Processing Record 4 of Set 1 | hasaki\n",
      "Processing Record 5 of Set 1 | puerto narino\n",
      "Processing Record 6 of Set 1 | ghazipur\n",
      "Processing Record 7 of Set 1 | ushuaia\n",
      "Processing Record 8 of Set 1 | kushmurun\n",
      "Processing Record 9 of Set 1 | najran\n",
      "Processing Record 10 of Set 1 | mataura\n",
      "Processing Record 11 of Set 1 | price\n",
      "Processing Record 12 of Set 1 | awbari\n",
      "Processing Record 13 of Set 1 | yulara\n",
      "Processing Record 14 of Set 1 | hithadhoo\n",
      "Processing Record 15 of Set 1 | rikitea\n",
      "Processing Record 16 of Set 1 | bekasi\n",
      "Processing Record 17 of Set 1 | isangel\n",
      "Processing Record 18 of Set 1 | umm kaddadah\n",
      "Processing Record 19 of Set 1 | qaanaaq\n",
      "Processing Record 20 of Set 1 | nizhneangarsk\n",
      "Processing Record 21 of Set 1 | punta arenas\n",
      "Processing Record 22 of Set 1 | iqaluit\n",
      "Processing Record 23 of Set 1 | antofagasta\n",
      "Processing Record 24 of Set 1 | chimoio\n",
      "Processing Record 25 of Set 1 | bubaque\n",
      "No city found here, skipping to next city\n",
      "Processing Record 26 of Set 1 | bengkulu\n",
      "Processing Record 27 of Set 1 | ribeira grande\n",
      "Processing Record 28 of Set 1 | loreto\n",
      "Processing Record 29 of Set 1 | quatre cocos\n",
      "No city found here, skipping to next city\n",
      "Processing Record 30 of Set 1 | provideniya\n",
      "Processing Record 31 of Set 1 | severo-kurilsk\n",
      "Processing Record 32 of Set 1 | kuhdasht\n",
      "Processing Record 33 of Set 1 | hobart\n",
      "Processing Record 34 of Set 1 | paita\n",
      "Processing Record 35 of Set 1 | puerto ayora\n",
      "Processing Record 36 of Set 1 | sargatskoye\n",
      "Processing Record 37 of Set 1 | qualiano\n",
      "Processing Record 38 of Set 1 | busselton\n",
      "Processing Record 39 of Set 1 | voyvozh\n",
      "Processing Record 40 of Set 1 | yellowknife\n",
      "Processing Record 41 of Set 1 | san jose\n",
      "Processing Record 42 of Set 1 | atuona\n",
      "Processing Record 43 of Set 1 | bluff\n",
      "Processing Record 44 of Set 1 | east london\n",
      "Processing Record 45 of Set 1 | pevek\n",
      "Processing Record 46 of Set 1 | bethel\n",
      "Processing Record 47 of Set 1 | san patricio\n",
      "Processing Record 48 of Set 1 | port alfred\n",
      "Processing Record 49 of Set 1 | neiafu\n",
      "Processing Record 50 of Set 1 | itoman\n",
      "Processing Record 0 of Set 2 | tuktoyaktuk\n",
      "Processing Record 1 of Set 2 | butembo\n",
      "Processing Record 2 of Set 2 | boke\n",
      "Processing Record 3 of Set 2 | flinders\n",
      "Processing Record 4 of Set 2 | kang\n",
      "Processing Record 5 of Set 2 | albany\n",
      "Processing Record 6 of Set 2 | nioro\n",
      "No city found here, skipping to next city\n",
      "Processing Record 7 of Set 2 | upernavik\n",
      "Processing Record 8 of Set 2 | cidreira\n",
      "Processing Record 9 of Set 2 | split\n",
      "Processing Record 10 of Set 2 | husavik\n",
      "Processing Record 11 of Set 2 | takoradi\n",
      "Processing Record 12 of Set 2 | batsfjord\n",
      "Processing Record 13 of Set 2 | galesong\n",
      "Processing Record 14 of Set 2 | katsuura\n",
      "No city found here, skipping to next city\n",
      "Processing Record 15 of Set 2 | sao filipe\n",
      "Processing Record 16 of Set 2 | sylvan lake\n",
      "Processing Record 17 of Set 2 | cabo san lucas\n",
      "Processing Record 18 of Set 2 | fagersta\n",
      "Processing Record 19 of Set 2 | susangerd\n",
      "Processing Record 20 of Set 2 | vaini\n",
      "Processing Record 21 of Set 2 | kodiak\n",
      "Processing Record 22 of Set 2 | bredasdorp\n",
      "Processing Record 23 of Set 2 | tasiilaq\n",
      "Processing Record 24 of Set 2 | thompson\n",
      "Processing Record 25 of Set 2 | kapaa\n",
      "Processing Record 26 of Set 2 | menongue\n",
      "Processing Record 27 of Set 2 | sampit\n",
      "Processing Record 28 of Set 2 | cape town\n",
      "Processing Record 29 of Set 2 | aklavik\n",
      "Processing Record 30 of Set 2 | kaitangata\n",
      "No city found here, skipping to next city\n",
      "Processing Record 31 of Set 2 | brusque\n",
      "No city found here, skipping to next city\n",
      "Processing Record 32 of Set 2 | lata\n",
      "Processing Record 33 of Set 2 | jamnagar\n",
      "Processing Record 34 of Set 2 | labelle\n",
      "No city found here, skipping to next city\n",
      "Processing Record 35 of Set 2 | longyearbyen\n",
      "Processing Record 36 of Set 2 | paamiut\n",
      "Processing Record 37 of Set 2 | barrow\n",
      "Processing Record 38 of Set 2 | saint-marc-des-carrieres\n",
      "Processing Record 39 of Set 2 | torbay\n",
      "Processing Record 40 of Set 2 | carnarvon\n",
      "Processing Record 41 of Set 2 | touros\n",
      "Processing Record 42 of Set 2 | ambilobe\n",
      "Processing Record 43 of Set 2 | alofi\n",
      "Processing Record 44 of Set 2 | nikolayevka\n",
      "Processing Record 45 of Set 2 | dikson\n",
      "Processing Record 46 of Set 2 | bam\n",
      "Processing Record 47 of Set 2 | leningradskiy\n",
      "Processing Record 48 of Set 2 | maningrida\n",
      "Processing Record 49 of Set 2 | avila\n",
      "Processing Record 50 of Set 2 | ancud\n",
      "Processing Record 0 of Set 3 | luderitz\n",
      "Processing Record 1 of Set 3 | laredo\n",
      "Processing Record 2 of Set 3 | vao\n",
      "Processing Record 3 of Set 3 | hovd\n",
      "Processing Record 4 of Set 3 | hohhot\n",
      "Processing Record 5 of Set 3 | karlskrona\n",
      "Processing Record 6 of Set 3 | amapa\n",
      "Processing Record 7 of Set 3 | quang ngai\n",
      "Processing Record 8 of Set 3 | magomeni\n",
      "No city found here, skipping to next city\n",
      "Processing Record 9 of Set 3 | salta\n",
      "Processing Record 10 of Set 3 | kralendijk\n",
      "Processing Record 11 of Set 3 | samana\n",
      "Processing Record 12 of Set 3 | oktyabrskiy\n",
      "Processing Record 13 of Set 3 | broken hill\n",
      "Processing Record 14 of Set 3 | bukama\n",
      "No city found here, skipping to next city\n",
      "Processing Record 15 of Set 3 | hermanus\n",
      "No city found here, skipping to next city\n",
      "Processing Record 16 of Set 3 | new norfolk\n",
      "No city found here, skipping to next city\n",
      "Processing Record 17 of Set 3 | vanino\n",
      "Processing Record 18 of Set 3 | airai\n",
      "Processing Record 19 of Set 3 | barcelos\n",
      "Processing Record 20 of Set 3 | georgetown\n",
      "Processing Record 21 of Set 3 | westport\n",
      "Processing Record 22 of Set 3 | adrar\n",
      "Processing Record 23 of Set 3 | saint-philippe\n",
      "Processing Record 24 of Set 3 | coihaique\n",
      "Processing Record 25 of Set 3 | muisne\n",
      "Processing Record 26 of Set 3 | tres picos\n",
      "Processing Record 27 of Set 3 | jamestown\n",
      "Processing Record 28 of Set 3 | kandrian\n",
      "Processing Record 29 of Set 3 | moyale\n",
      "Processing Record 30 of Set 3 | lagoa\n",
      "Processing Record 31 of Set 3 | smithers\n",
      "Processing Record 32 of Set 3 | avarua\n",
      "Processing Record 33 of Set 3 | coquimbo\n",
      "Processing Record 34 of Set 3 | fairbanks\n",
      "Processing Record 35 of Set 3 | pontianak\n",
      "Processing Record 36 of Set 3 | fortuna\n",
      "Processing Record 37 of Set 3 | itaueira\n",
      "Processing Record 38 of Set 3 | abu samrah\n",
      "Processing Record 39 of Set 3 | yatou\n",
      "Processing Record 40 of Set 3 | sao domingos\n",
      "Processing Record 41 of Set 3 | camacha\n",
      "Processing Record 42 of Set 3 | yarim\n",
      "Processing Record 43 of Set 3 | loiza\n",
      "Processing Record 44 of Set 3 | klyuchi\n",
      "Processing Record 45 of Set 3 | saint-georges\n",
      "Processing Record 46 of Set 3 | mar del plata\n",
      "Processing Record 47 of Set 3 | ponta do sol\n",
      "Processing Record 48 of Set 3 | sotouboua\n",
      "No city found here, skipping to next city\n",
      "Processing Record 49 of Set 3 | kazerun\n",
      "No city found here, skipping to next city\n",
      "Processing Record 50 of Set 3 | lively\n",
      "Processing Record 0 of Set 4 | campoverde\n",
      "Processing Record 1 of Set 4 | nouakchott\n",
      "Processing Record 2 of Set 4 | kavaratti\n",
      "Processing Record 3 of Set 4 | mahebourg\n",
      "Processing Record 4 of Set 4 | pasighat\n",
      "Processing Record 5 of Set 4 | point pedro\n",
      "No city found here, skipping to next city\n",
      "Processing Record 6 of Set 4 | acapulco\n",
      "Processing Record 7 of Set 4 | khatanga\n",
      "Processing Record 8 of Set 4 | inta\n",
      "Processing Record 9 of Set 4 | narsaq\n",
      "Processing Record 10 of Set 4 | uyemskiy\n",
      "Processing Record 11 of Set 4 | dedza\n",
      "Processing Record 12 of Set 4 | vila\n",
      "Processing Record 13 of Set 4 | anloga\n",
      "Processing Record 14 of Set 4 | gold coast\n",
      "Processing Record 15 of Set 4 | alexander city\n",
      "Processing Record 16 of Set 4 | humberto de campos\n",
      "Processing Record 17 of Set 4 | tuatapere\n",
      "Processing Record 18 of Set 4 | hobyo\n",
      "Processing Record 19 of Set 4 | san cristobal\n",
      "Processing Record 20 of Set 4 | nhulunbuy\n",
      "Processing Record 21 of Set 4 | geraldton\n",
      "Processing Record 22 of Set 4 | olinda\n",
      "Processing Record 23 of Set 4 | nikolskoye\n",
      "Processing Record 24 of Set 4 | sioux lookout\n",
      "Processing Record 25 of Set 4 | tigre\n",
      "Processing Record 26 of Set 4 | poum\n",
      "Processing Record 27 of Set 4 | port hardy\n",
      "Processing Record 28 of Set 4 | boa vista\n",
      "Processing Record 29 of Set 4 | dodge city\n",
      "Processing Record 30 of Set 4 | vanavara\n",
      "Processing Record 31 of Set 4 | souillac\n",
      "Processing Record 32 of Set 4 | evensk\n",
      "Processing Record 33 of Set 4 | den helder\n",
      "Processing Record 34 of Set 4 | damghan\n",
      "Processing Record 35 of Set 4 | saint anthony\n",
      "Processing Record 36 of Set 4 | nanortalik\n",
      "No city found here, skipping to next city\n",
      "Processing Record 37 of Set 4 | bathsheba\n",
      "Processing Record 38 of Set 4 | coahuayana\n",
      "Processing Record 39 of Set 4 | sitka\n",
      "Processing Record 40 of Set 4 | tiksi\n",
      "Processing Record 41 of Set 4 | seaforth\n",
      "Processing Record 42 of Set 4 | brae\n",
      "Processing Record 43 of Set 4 | wilmington\n",
      "Processing Record 44 of Set 4 | salalah\n",
      "Processing Record 45 of Set 4 | half moon bay\n",
      "No city found here, skipping to next city\n",
      "Processing Record 46 of Set 4 | pangnirtung\n",
      "Processing Record 47 of Set 4 | esperance\n",
      "No city found here, skipping to next city\n",
      "Processing Record 48 of Set 4 | uspenka\n",
      "Processing Record 49 of Set 4 | arraial do cabo\n",
      "No city found here, skipping to next city\n",
      "Processing Record 50 of Set 4 | saint george\n",
      "Processing Record 0 of Set 5 | puerto madryn\n",
      "Processing Record 1 of Set 5 | anadyr\n",
      "Processing Record 2 of Set 5 | deputatskiy\n",
      "Processing Record 3 of Set 5 | killybegs\n",
      "Processing Record 4 of Set 5 | vostok\n",
      "Processing Record 5 of Set 5 | kamaishi\n",
      "Processing Record 6 of Set 5 | orbe\n",
      "Processing Record 7 of Set 5 | vernon\n",
      "No city found here, skipping to next city\n",
      "Processing Record 8 of Set 5 | kerema\n",
      "Processing Record 9 of Set 5 | marawi\n",
      "Processing Record 10 of Set 5 | zaria\n",
      "Processing Record 11 of Set 5 | cherskiy\n",
      "Processing Record 12 of Set 5 | batetskiy\n",
      "Processing Record 13 of Set 5 | shakhtinsk\n",
      "Processing Record 14 of Set 5 | port lincoln\n",
      "Processing Record 15 of Set 5 | ode\n",
      "Processing Record 16 of Set 5 | ahuimanu\n",
      "Processing Record 17 of Set 5 | lompoc\n",
      "Processing Record 18 of Set 5 | castro\n",
      "Processing Record 19 of Set 5 | santarem\n",
      "Processing Record 20 of Set 5 | dingle\n",
      "Processing Record 21 of Set 5 | isheyevka\n",
      "Processing Record 22 of Set 5 | komsomolskiy\n",
      "Processing Record 23 of Set 5 | bambous virieux\n",
      "Processing Record 24 of Set 5 | tucuma\n",
      "No city found here, skipping to next city\n",
      "Processing Record 25 of Set 5 | talnakh\n",
      "Processing Record 26 of Set 5 | cayenne\n",
      "Processing Record 27 of Set 5 | ilulissat\n",
      "No city found here, skipping to next city\n",
      "Processing Record 28 of Set 5 | grand gaube\n",
      "Processing Record 29 of Set 5 | mont-dore\n",
      "Processing Record 30 of Set 5 | charlottetown\n",
      "Processing Record 31 of Set 5 | saint-pierre\n",
      "Processing Record 32 of Set 5 | joao pinheiro\n",
      "Processing Record 33 of Set 5 | karangampel\n",
      "Processing Record 34 of Set 5 | the pas\n",
      "Processing Record 35 of Set 5 | rantepao\n",
      "Processing Record 36 of Set 5 | harindanga\n",
      "Processing Record 37 of Set 5 | mirnyy\n",
      "Processing Record 38 of Set 5 | lodja\n",
      "No city found here, skipping to next city\n",
      "Processing Record 39 of Set 5 | tigbao\n",
      "No city found here, skipping to next city\n",
      "Processing Record 40 of Set 5 | santa maria\n",
      "Processing Record 41 of Set 5 | dana point\n",
      "Processing Record 42 of Set 5 | chuy\n",
      "Processing Record 43 of Set 5 | mount gambier\n",
      "Processing Record 44 of Set 5 | sibolga\n",
      "Processing Record 45 of Set 5 | kantunilkin\n",
      "Processing Record 46 of Set 5 | sorland\n",
      "Processing Record 47 of Set 5 | buala\n",
      "Processing Record 48 of Set 5 | san ciro de acosta\n",
      "Processing Record 49 of Set 5 | sativasur\n",
      "Processing Record 50 of Set 5 | atambua\n",
      "Processing Record 0 of Set 6 | marion\n",
      "Processing Record 1 of Set 6 | kirakira\n",
      "Processing Record 2 of Set 6 | raudeberg\n",
      "Processing Record 3 of Set 6 | asau\n",
      "Processing Record 4 of Set 6 | wum\n",
      "Processing Record 5 of Set 6 | altay\n",
      "Processing Record 6 of Set 6 | port elizabeth\n",
      "No city found here, skipping to next city\n",
      "Processing Record 7 of Set 6 | tampakan\n",
      "Processing Record 8 of Set 6 | kuusamo\n",
      "Processing Record 9 of Set 6 | kruszwica\n",
      "Processing Record 10 of Set 6 | maryville\n",
      "Processing Record 11 of Set 6 | henties bay\n",
      "No city found here, skipping to next city\n",
      "Processing Record 12 of Set 6 | dunedin\n",
      "Processing Record 13 of Set 6 | avera\n",
      "Processing Record 14 of Set 6 | jumla\n",
      "Processing Record 15 of Set 6 | mehamn\n",
      "Processing Record 16 of Set 6 | say\n",
      "Processing Record 17 of Set 6 | tonantins\n",
      "Processing Record 18 of Set 6 | tselinnoye\n",
      "Processing Record 19 of Set 6 | aswan\n",
      "Processing Record 20 of Set 6 | san quintin\n",
      "Processing Record 21 of Set 6 | portland\n",
      "Processing Record 22 of Set 6 | saldanha\n",
      "Processing Record 23 of Set 6 | constitucion\n",
      "Processing Record 24 of Set 6 | sao gabriel da cachoeira\n",
      "Processing Record 25 of Set 6 | santa quiteria\n",
      "Processing Record 26 of Set 6 | ixtapa\n",
      "No city found here, skipping to next city\n",
      "Processing Record 27 of Set 6 | amarwara\n",
      "Processing Record 28 of Set 6 | victoria\n",
      "Processing Record 29 of Set 6 | chotesov\n",
      "Processing Record 30 of Set 6 | moissala\n",
      "No city found here, skipping to next city\n",
      "Processing Record 31 of Set 6 | beloha\n",
      "Processing Record 32 of Set 6 | springbok\n",
      "Processing Record 33 of Set 6 | kruisfontein\n",
      "Processing Record 34 of Set 6 | morondava\n",
      "Processing Record 35 of Set 6 | ankazobe\n",
      "Processing Record 36 of Set 6 | arman\n",
      "Processing Record 37 of Set 6 | tandil\n",
      "Processing Record 38 of Set 6 | pingliang\n",
      "Processing Record 39 of Set 6 | odweyne\n",
      "Processing Record 40 of Set 6 | vadso\n",
      "Processing Record 41 of Set 6 | lebu\n",
      "Processing Record 42 of Set 6 | tucuman\n",
      "Processing Record 43 of Set 6 | west wendover\n",
      "No city found here, skipping to next city\n",
      "Processing Record 44 of Set 6 | tevriz\n",
      "Processing Record 45 of Set 6 | tommot\n",
      "Processing Record 46 of Set 6 | presidencia roque saenz pena\n",
      "Processing Record 47 of Set 6 | chokurdakh\n",
      "Processing Record 48 of Set 6 | north bend\n",
      "Processing Record 49 of Set 6 | okhotsk\n",
      "Processing Record 50 of Set 6 | yar-sale\n",
      "Processing Record 0 of Set 7 | pawai\n",
      "Processing Record 1 of Set 7 | sabha\n",
      "No city found here, skipping to next city\n",
      "Processing Record 2 of Set 7 | pisco\n",
      "Processing Record 3 of Set 7 | amga\n",
      "Processing Record 4 of Set 7 | kenai\n",
      "Processing Record 5 of Set 7 | eyl\n",
      "Processing Record 6 of Set 7 | ugoofaaru\n",
      "Processing Record 7 of Set 7 | lisakovsk\n",
      "Processing Record 8 of Set 7 | shupiyan\n",
      "Processing Record 9 of Set 7 | raga\n",
      "Processing Record 10 of Set 7 | baykit\n",
      "Processing Record 11 of Set 7 | pedro ii\n",
      "Processing Record 12 of Set 7 | los llanos de aridane\n",
      "Processing Record 13 of Set 7 | santona\n",
      "No city found here, skipping to next city\n",
      "Processing Record 14 of Set 7 | sangar\n",
      "Processing Record 15 of Set 7 | ulaanbaatar\n",
      "Processing Record 16 of Set 7 | sibut\n",
      "Processing Record 17 of Set 7 | sur\n",
      "Processing Record 18 of Set 7 | steinbach\n",
      "Processing Record 19 of Set 7 | butaritari\n",
      "Processing Record 20 of Set 7 | akdepe\n",
      "Processing Record 21 of Set 7 | kahului\n",
      "Processing Record 22 of Set 7 | bhan\n",
      "Processing Record 23 of Set 7 | owando\n",
      "No city found here, skipping to next city\n",
      "Processing Record 24 of Set 7 | belaya gora\n",
      "No city found here, skipping to next city\n",
      "Processing Record 25 of Set 7 | iguape\n",
      "Processing Record 26 of Set 7 | chulym\n",
      "Processing Record 27 of Set 7 | faya\n",
      "Processing Record 28 of Set 7 | isabela\n",
      "Processing Record 29 of Set 7 | gayeri\n",
      "Processing Record 30 of Set 7 | balkanabat\n",
      "Processing Record 31 of Set 7 | melville\n",
      "Processing Record 32 of Set 7 | vestmannaeyjar\n",
      "Processing Record 33 of Set 7 | ostrovnoy\n",
      "Processing Record 34 of Set 7 | mizan teferi\n",
      "Processing Record 35 of Set 7 | kikwit\n",
      "Processing Record 36 of Set 7 | narrabri\n",
      "No city found here, skipping to next city\n",
      "Processing Record 37 of Set 7 | roma\n",
      "Processing Record 38 of Set 7 | trairi\n",
      "Processing Record 39 of Set 7 | papara\n",
      "Processing Record 40 of Set 7 | port moresby\n",
      "Processing Record 41 of Set 7 | lorengau\n",
      "No city found here, skipping to next city\n",
      "Processing Record 42 of Set 7 | bonthe\n",
      "Processing Record 43 of Set 7 | haguenau\n",
      "Processing Record 44 of Set 7 | nome\n",
      "Processing Record 45 of Set 7 | ust-nera\n",
      "Processing Record 46 of Set 7 | segezha\n",
      "No city found here, skipping to next city\n",
      "Processing Record 47 of Set 7 | guerrero negro\n",
      "Processing Record 48 of Set 7 | melfi\n",
      "Processing Record 49 of Set 7 | natitingou\n",
      "Processing Record 50 of Set 7 | salaga\n",
      "Processing Record 0 of Set 8 | zhuzhou\n",
      "No city found here, skipping to next city\n",
      "Processing Record 1 of Set 8 | kisangani\n",
      "No city found here, skipping to next city\n",
      "Processing Record 2 of Set 8 | mogzon\n",
      "Processing Record 3 of Set 8 | fujin\n",
      "Processing Record 4 of Set 8 | yelan\n",
      "Processing Record 5 of Set 8 | nazarovo\n",
      "Processing Record 6 of Set 8 | faanui\n",
      "Processing Record 7 of Set 8 | college\n",
      "Processing Record 8 of Set 8 | aksarka\n",
      "Processing Record 9 of Set 8 | vila franca do campo\n",
      "Processing Record 10 of Set 8 | koshurnikovo\n",
      "Processing Record 11 of Set 8 | northam\n",
      "Processing Record 12 of Set 8 | pedernales\n",
      "Processing Record 13 of Set 8 | alizai\n",
      "No city found here, skipping to next city\n",
      "Processing Record 14 of Set 8 | huarmey\n",
      "Processing Record 15 of Set 8 | hofn\n",
      "Processing Record 16 of Set 8 | aquiraz\n",
      "Processing Record 17 of Set 8 | pedro leopoldo\n",
      "Processing Record 18 of Set 8 | paulo afonso\n",
      "No city found here, skipping to next city\n",
      "Processing Record 19 of Set 8 | sisimiut\n",
      "Processing Record 20 of Set 8 | byron bay\n",
      "Processing Record 21 of Set 8 | khani\n",
      "Processing Record 22 of Set 8 | saint-francois\n",
      "Processing Record 23 of Set 8 | baoding\n",
      "Processing Record 24 of Set 8 | bilibino\n",
      "Processing Record 25 of Set 8 | hille\n",
      "Processing Record 26 of Set 8 | broome\n",
      "Processing Record 27 of Set 8 | inhambane\n",
      "Processing Record 28 of Set 8 | hikari\n",
      "No city found here, skipping to next city\n",
      "Processing Record 29 of Set 8 | oranjemund\n",
      "Processing Record 30 of Set 8 | batagay-alyta\n",
      "Processing Record 31 of Set 8 | opuwo\n",
      "Processing Record 32 of Set 8 | wasilla\n",
      "Processing Record 33 of Set 8 | clyde river\n",
      "Processing Record 34 of Set 8 | kavieng\n",
      "Processing Record 35 of Set 8 | eureka\n",
      "No city found here, skipping to next city\n",
      "Processing Record 36 of Set 8 | nouadhibou\n",
      "Processing Record 37 of Set 8 | peace river\n",
      "Processing Record 38 of Set 8 | matai\n",
      "Processing Record 39 of Set 8 | baglan\n",
      "Processing Record 40 of Set 8 | namibe\n",
      "Processing Record 41 of Set 8 | nantucket\n",
      "Processing Record 42 of Set 8 | caravelas\n",
      "Processing Record 43 of Set 8 | tabou\n",
      "Processing Record 44 of Set 8 | maceio\n",
      "Processing Record 45 of Set 8 | naze\n",
      "Processing Record 46 of Set 8 | klaksvik\n",
      "Processing Record 47 of Set 8 | kodinsk\n",
      "Processing Record 48 of Set 8 | noyabrsk\n",
      "Processing Record 49 of Set 8 | trinidad\n",
      "Processing Record 50 of Set 8 | waipawa\n",
      "Processing Record 0 of Set 9 | mabaruma\n",
      "Processing Record 1 of Set 9 | ingham\n",
      "Processing Record 2 of Set 9 | saskylakh\n",
      "Processing Record 3 of Set 9 | kuzino\n",
      "Processing Record 4 of Set 9 | chiredzi\n",
      "Processing Record 5 of Set 9 | feni\n",
      "Processing Record 6 of Set 9 | laela\n",
      "Processing Record 7 of Set 9 | moroni\n",
      "Processing Record 8 of Set 9 | santa isabel do rio negro\n",
      "Processing Record 9 of Set 9 | manta\n",
      "Processing Record 10 of Set 9 | serik\n",
      "Processing Record 11 of Set 9 | rio gallegos\n",
      "Processing Record 12 of Set 9 | anzio\n",
      "Processing Record 13 of Set 9 | kismayo\n",
      "Processing Record 14 of Set 9 | chagoda\n",
      "Processing Record 15 of Set 9 | chhabra\n",
      "Processing Record 16 of Set 9 | maniitsoq\n",
      "Processing Record 17 of Set 9 | nizhniy tsasuchey\n",
      "Processing Record 18 of Set 9 | bara\n",
      "Processing Record 19 of Set 9 | khilok\n",
      "Processing Record 20 of Set 9 | mayo\n",
      "Processing Record 21 of Set 9 | kutum\n",
      "Processing Record 22 of Set 9 | comodoro rivadavia\n",
      "Processing Record 23 of Set 9 | russkaya polyana\n",
      "Processing Record 24 of Set 9 | apt\n",
      "Processing Record 25 of Set 9 | kasongo-lunda\n",
      "Processing Record 26 of Set 9 | marsh harbour\n",
      "Processing Record 27 of Set 9 | marang\n",
      "Processing Record 28 of Set 9 | haines junction\n",
      "Processing Record 29 of Set 9 | manicore\n",
      "No city found here, skipping to next city\n",
      "Processing Record 30 of Set 9 | tecolutla\n",
      "Processing Record 31 of Set 9 | camacari\n",
      "Processing Record 32 of Set 9 | hay river\n",
      "Processing Record 33 of Set 9 | ceres\n",
      "Processing Record 34 of Set 9 | asasa\n",
      "No city found here, skipping to next city\n",
      "Processing Record 35 of Set 9 | suraabad\n",
      "Processing Record 36 of Set 9 | chapais\n",
      "Processing Record 37 of Set 9 | koumac\n",
      "Processing Record 38 of Set 9 | iquique\n",
      "Processing Record 39 of Set 9 | orastioara de sus\n",
      "Processing Record 40 of Set 9 | chokwe\n",
      "Processing Record 41 of Set 9 | kearney\n",
      "Processing Record 42 of Set 9 | nemuro\n",
      "Processing Record 43 of Set 9 | roald\n",
      "Processing Record 44 of Set 9 | rawson\n",
      "Processing Record 45 of Set 9 | chapaevsk\n",
      "Processing Record 46 of Set 9 | tigzirt\n",
      "Processing Record 47 of Set 9 | kununurra\n",
      "Processing Record 48 of Set 9 | pacaembu\n",
      "Processing Record 49 of Set 9 | waihi beach\n",
      "Processing Record 50 of Set 9 | bagan\n",
      "No city found here, skipping to next city\n",
      "Processing Record 0 of Set 10 | colares\n",
      "Processing Record 1 of Set 10 | soyo\n",
      "Processing Record 2 of Set 10 | udachnyy\n",
      "Processing Record 3 of Set 10 | jiayuguan\n",
      "No city found here, skipping to next city\n",
      "No city found here, skipping to next city\n",
      "Processing Record 4 of Set 10 | wanaka\n",
      "Processing Record 5 of Set 10 | rio grande\n",
      "Processing Record 6 of Set 10 | fuerte olimpo\n",
      "Processing Record 7 of Set 10 | alice springs\n",
      "Processing Record 8 of Set 10 | chilca\n",
      "Processing Record 9 of Set 10 | suez\n",
      "Processing Record 10 of Set 10 | padang\n",
      "Processing Record 11 of Set 10 | murgab\n",
      "Processing Record 12 of Set 10 | korla\n",
      "No city found here, skipping to next city\n",
      "Processing Record 13 of Set 10 | yerbogachen\n",
      "Processing Record 14 of Set 10 | bud\n",
      "Processing Record 15 of Set 10 | buraydah\n",
      "Processing Record 16 of Set 10 | akyab\n",
      "Processing Record 17 of Set 10 | pacific grove\n",
      "Processing Record 18 of Set 10 | palu\n",
      "Processing Record 19 of Set 10 | olden\n",
      "Processing Record 20 of Set 10 | balikpapan\n",
      "Processing Record 21 of Set 10 | norman wells\n",
      "Processing Record 22 of Set 10 | bayan\n",
      "Processing Record 23 of Set 10 | sorong\n",
      "No city found here, skipping to next city\n",
      "Processing Record 24 of Set 10 | orissaare\n",
      "Processing Record 25 of Set 10 | nelson bay\n",
      "Processing Record 26 of Set 10 | greenfield\n",
      "Processing Record 27 of Set 10 | salo\n",
      "Processing Record 28 of Set 10 | zhireken\n",
      "Processing Record 29 of Set 10 | cassilandia\n",
      "Processing Record 30 of Set 10 | killarney\n",
      "Processing Record 31 of Set 10 | palmer\n",
      "Processing Record 32 of Set 10 | tura\n",
      "Processing Record 33 of Set 10 | muros\n",
      "Processing Record 34 of Set 10 | luau\n",
      "Processing Record 35 of Set 10 | ulladulla\n",
      "Processing Record 36 of Set 10 | japura\n",
      "Processing Record 37 of Set 10 | pimenta bueno\n",
      "Processing Record 38 of Set 10 | alta floresta\n",
      "Processing Record 39 of Set 10 | terrasini\n",
      "Processing Record 40 of Set 10 | te anau\n",
      "Processing Record 41 of Set 10 | cavalcante\n",
      "Processing Record 42 of Set 10 | baoqing\n",
      "Processing Record 43 of Set 10 | vardo\n",
      "Processing Record 44 of Set 10 | tukan\n",
      "Processing Record 45 of Set 10 | landeck\n",
      "Processing Record 46 of Set 10 | balugaon\n",
      "Processing Record 47 of Set 10 | ewa beach\n",
      "Processing Record 48 of Set 10 | sao domingos do maranhao\n",
      "Processing Record 49 of Set 10 | pangody\n",
      "Processing Record 50 of Set 10 | tucupita\n",
      "Processing Record 0 of Set 11 | vila do maio\n",
      "Processing Record 1 of Set 11 | coruripe\n",
      "Processing Record 2 of Set 11 | tautira\n",
      "Processing Record 3 of Set 11 | urussu\n",
      "No city found here, skipping to next city\n",
      "Processing Record 4 of Set 11 | dondo\n",
      "Processing Record 5 of Set 11 | canelones\n",
      "Processing Record 6 of Set 11 | bahia de caraquez\n",
      "Processing Record 7 of Set 11 | strezhevoy\n",
      "Processing Record 8 of Set 11 | payo\n",
      "Processing Record 9 of Set 11 | palauig\n",
      "Processing Record 10 of Set 11 | brownsville\n",
      "Processing Record 11 of Set 11 | veraval\n",
      "Processing Record 12 of Set 11 | sao luis do quitunde\n",
      "Processing Record 13 of Set 11 | voh\n",
      "No city found here, skipping to next city\n",
      "Processing Record 14 of Set 11 | zeya\n",
      "Processing Record 15 of Set 11 | manzhouli\n",
      "No city found here, skipping to next city\n",
      "Processing Record 16 of Set 11 | tigil\n",
      "Processing Record 17 of Set 11 | huilong\n",
      "Processing Record 18 of Set 11 | goma\n",
      "Processing Record 19 of Set 11 | salmas\n",
      "Processing Record 20 of Set 11 | lubbock\n",
      "Processing Record 21 of Set 11 | scarborough\n",
      "Processing Record 22 of Set 11 | sosnogorsk\n",
      "Processing Record 23 of Set 11 | gat\n",
      "No city found here, skipping to next city\n",
      "Processing Record 24 of Set 11 | tevaitoa\n",
      "Processing Record 25 of Set 11 | labuhan\n",
      "Processing Record 26 of Set 11 | kampot\n",
      "Processing Record 27 of Set 11 | shirokiy\n",
      "Processing Record 28 of Set 11 | plettenberg bay\n",
      "Processing Record 29 of Set 11 | timbiqui\n",
      "Processing Record 30 of Set 11 | barao de melgaco\n",
      "Processing Record 31 of Set 11 | aykhal\n",
      "Processing Record 32 of Set 11 | piripiri\n",
      "Processing Record 33 of Set 11 | sarandi\n",
      "Processing Record 34 of Set 11 | guarapari\n",
      "Processing Record 35 of Set 11 | terrace\n",
      "Processing Record 36 of Set 11 | bada\n",
      "Processing Record 37 of Set 11 | lethem\n",
      "Processing Record 38 of Set 11 | hamilton\n",
      "Processing Record 39 of Set 11 | bida\n",
      "Processing Record 40 of Set 11 | belle glade\n",
      "Processing Record 41 of Set 11 | mikhaylovka\n",
      "Processing Record 42 of Set 11 | hare bay\n",
      "Processing Record 43 of Set 11 | talaya\n",
      "Processing Record 44 of Set 11 | yumen\n",
      "Processing Record 45 of Set 11 | ponta delgada\n",
      "Processing Record 46 of Set 11 | askiz\n",
      "Processing Record 47 of Set 11 | sabla\n",
      "Processing Record 48 of Set 11 | arlit\n",
      "Processing Record 49 of Set 11 | kunming\n",
      "Processing Record 50 of Set 11 | ratnagiri\n",
      "Processing Record 0 of Set 12 | rocha\n",
      "No city found here, skipping to next city\n",
      "-------------------------\n",
      "Data Retrieval Complete\n",
      "-------------------------\n"
     ]
    }
   ],
   "source": [
    "# API url and units\n",
    "url = \"http://api.openweathermap.org/data/2.5/weather?\"\n",
    "units = \"imperial\"\n",
    "\n",
    "# URL used for query\n",
    "query_url = url + \"appid=\" + api_key + \"&units=\" + units + \"&q=\"\n",
    "\n",
    "# Loop to gather weather data\n",
    "set_count = 1\n",
    "record_count = 1\n",
    "weather_data = {\"City\":[],\"Cloudiness\":[],\"Country\":[],\"Date\":[],\"Humidity\":[],\"Lat\":[],\"Lng\":[],\"Max Temp\":[],\"Wind Speed\": []}\n",
    "for city in cities:\n",
    "    weather_response = requests.get(query_url + city)\n",
    "    weather_response_json = weather_response.json()\n",
    "    \n",
    "    if weather_response.status_code == 200:\n",
    "        weather_data[\"City\"].append(city)\n",
    "        weather_data[\"Cloudiness\"].append(weather_response_json['clouds']['all'])\n",
    "        weather_data[\"Country\"].append(weather_response_json['sys']['country'])\n",
    "        weather_data[\"Date\"].append(weather_response_json['dt'])\n",
    "        weather_data[\"Humidity\"].append(weather_response_json['main']['humidity'])\n",
    "        weather_data[\"Lat\"].append(weather_response_json['coord']['lat'])\n",
    "        weather_data[\"Lng\"].append(weather_response_json['coord']['lon'])\n",
    "        weather_data[\"Max Temp\"].append(weather_response_json['main']['temp_max'])\n",
    "        weather_data[\"Wind Speed\"].append(weather_response_json['wind']['speed'])\n",
    "        if record_count <= 50:\n",
    "            print(f\"Processing Record {record_count} of Set {set_count} | {city}\")\n",
    "            record_count += 1 \n",
    "        else:\n",
    "            record_count = 0\n",
    "            set_count += 1\n",
    "            print(f\"Processing Record {record_count} of Set {set_count} | {city}\")\n",
    "            record_count += 1\n",
    "    else:\n",
    "        print(\"No city found here, skipping to next city\")\n",
    "print(\"-------------------------\")\n",
    "print(\"Data Retrieval Complete\")\n",
    "print(\"-------------------------\")\n",
    "        "
   ]
  },
  {
   "cell_type": "markdown",
   "metadata": {},
   "source": [
    "### Convert Raw Data to DataFrame\n",
    "* Export the city data into a .csv.\n",
    "* Display the DataFrame"
   ]
  },
  {
   "cell_type": "code",
   "execution_count": 9,
   "metadata": {},
   "outputs": [],
   "source": [
    "weather_df = pd.DataFrame(weather_data)\n",
    "weather_df.to_csv(\"weather_df.csv\", index=False)"
   ]
  },
  {
   "cell_type": "code",
   "execution_count": 10,
   "metadata": {},
   "outputs": [
    {
     "data": {
      "text/html": [
       "<div>\n",
       "<style scoped>\n",
       "    .dataframe tbody tr th:only-of-type {\n",
       "        vertical-align: middle;\n",
       "    }\n",
       "\n",
       "    .dataframe tbody tr th {\n",
       "        vertical-align: top;\n",
       "    }\n",
       "\n",
       "    .dataframe thead th {\n",
       "        text-align: right;\n",
       "    }\n",
       "</style>\n",
       "<table border=\"1\" class=\"dataframe\">\n",
       "  <thead>\n",
       "    <tr style=\"text-align: right;\">\n",
       "      <th></th>\n",
       "      <th>City</th>\n",
       "      <th>Cloudiness</th>\n",
       "      <th>Country</th>\n",
       "      <th>Date</th>\n",
       "      <th>Humidity</th>\n",
       "      <th>Lat</th>\n",
       "      <th>Lng</th>\n",
       "      <th>Max Temp</th>\n",
       "      <th>Wind Speed</th>\n",
       "    </tr>\n",
       "  </thead>\n",
       "  <tbody>\n",
       "    <tr>\n",
       "      <th>0</th>\n",
       "      <td>hilo</td>\n",
       "      <td>90</td>\n",
       "      <td>US</td>\n",
       "      <td>1594747282</td>\n",
       "      <td>88</td>\n",
       "      <td>19.73</td>\n",
       "      <td>-155.09</td>\n",
       "      <td>73.40</td>\n",
       "      <td>4.70</td>\n",
       "    </tr>\n",
       "    <tr>\n",
       "      <th>1</th>\n",
       "      <td>tual</td>\n",
       "      <td>100</td>\n",
       "      <td>ID</td>\n",
       "      <td>1594747282</td>\n",
       "      <td>86</td>\n",
       "      <td>-5.67</td>\n",
       "      <td>132.75</td>\n",
       "      <td>79.14</td>\n",
       "      <td>20.18</td>\n",
       "    </tr>\n",
       "    <tr>\n",
       "      <th>2</th>\n",
       "      <td>winslow</td>\n",
       "      <td>1</td>\n",
       "      <td>US</td>\n",
       "      <td>1594747283</td>\n",
       "      <td>27</td>\n",
       "      <td>35.02</td>\n",
       "      <td>-110.70</td>\n",
       "      <td>87.80</td>\n",
       "      <td>9.17</td>\n",
       "    </tr>\n",
       "    <tr>\n",
       "      <th>3</th>\n",
       "      <td>hasaki</td>\n",
       "      <td>75</td>\n",
       "      <td>JP</td>\n",
       "      <td>1594747135</td>\n",
       "      <td>94</td>\n",
       "      <td>35.73</td>\n",
       "      <td>140.83</td>\n",
       "      <td>68.00</td>\n",
       "      <td>8.05</td>\n",
       "    </tr>\n",
       "    <tr>\n",
       "      <th>4</th>\n",
       "      <td>puerto narino</td>\n",
       "      <td>75</td>\n",
       "      <td>CO</td>\n",
       "      <td>1594747283</td>\n",
       "      <td>74</td>\n",
       "      <td>-3.77</td>\n",
       "      <td>-70.38</td>\n",
       "      <td>86.00</td>\n",
       "      <td>4.70</td>\n",
       "    </tr>\n",
       "  </tbody>\n",
       "</table>\n",
       "</div>"
      ],
      "text/plain": [
       "            City  Cloudiness Country        Date  Humidity    Lat     Lng  \\\n",
       "0           hilo          90      US  1594747282        88  19.73 -155.09   \n",
       "1           tual         100      ID  1594747282        86  -5.67  132.75   \n",
       "2        winslow           1      US  1594747283        27  35.02 -110.70   \n",
       "3         hasaki          75      JP  1594747135        94  35.73  140.83   \n",
       "4  puerto narino          75      CO  1594747283        74  -3.77  -70.38   \n",
       "\n",
       "   Max Temp  Wind Speed  \n",
       "0     73.40        4.70  \n",
       "1     79.14       20.18  \n",
       "2     87.80        9.17  \n",
       "3     68.00        8.05  \n",
       "4     86.00        4.70  "
      ]
     },
     "execution_count": 10,
     "metadata": {},
     "output_type": "execute_result"
    }
   ],
   "source": [
    "weather_df.head()"
   ]
  },
  {
   "cell_type": "markdown",
   "metadata": {},
   "source": [
    "## Inspect the data and remove the cities where the humidity > 100%.\n",
    "----\n",
    "Skip this step if there are no cities that have humidity > 100%. "
   ]
  },
  {
   "cell_type": "code",
   "execution_count": 11,
   "metadata": {},
   "outputs": [],
   "source": [
    "#### I HAVE NO CITIES THAT QUALIFY FOR THIS EXERCISE"
   ]
  },
  {
   "cell_type": "code",
   "execution_count": 12,
   "metadata": {},
   "outputs": [],
   "source": [
    "#  Get the indices of cities that have humidity over 100%.\n",
    "#### I HAVE NO CITIES THAT QUALIFY FOR THIS EXERCISE"
   ]
  },
  {
   "cell_type": "code",
   "execution_count": 13,
   "metadata": {},
   "outputs": [],
   "source": [
    "# Make a new DataFrame equal to the city data to drop all humidity outliers by index.\n",
    "# Passing \"inplace=False\" will make a copy of the city_data DataFrame, which we call \"clean_city_data\".\n",
    "#### I HAVE NO CITIES THAT QUALIFY FOR THIS EXERCISE"
   ]
  },
  {
   "cell_type": "code",
   "execution_count": 14,
   "metadata": {},
   "outputs": [],
   "source": [
    "# Extract relevant fields from the data frame\n",
    "#### I HAVE NO CITIES THAT QUALIFY FOR THIS EXERCISE\n",
    "\n",
    "# Export the City_Data into a csv\n"
   ]
  },
  {
   "cell_type": "markdown",
   "metadata": {},
   "source": [
    "## Plotting the Data\n",
    "* Use proper labeling of the plots using plot titles (including date of analysis) and axes labels.\n",
    "* Save the plotted figures as .pngs."
   ]
  },
  {
   "cell_type": "markdown",
   "metadata": {},
   "source": [
    "## Latitude vs. Temperature Plot"
   ]
  },
  {
   "cell_type": "code",
   "execution_count": 16,
   "metadata": {
    "scrolled": true
   },
   "outputs": [
    {
     "data": {
      "image/png": "[encoded data removed]",
      "text/plain": [
       "<Figure size 432x288 with 1 Axes>"
      ]
     },
     "metadata": {
      "needs_background": "light"
     },
     "output_type": "display_data"
    }
   ],
   "source": [
    "\n",
    "# Scatter Plot\n",
    "plt.scatter(weather_df[\"Lat\"], weather_df[\"Max Temp\"], s=15, c=\"red\", edgecolors=\"black\")\n",
    "plt.title(\"City Latitude vs. Max Temperature (07/13/20)\")\n",
    "plt.xlabel(\"Latitude\")\n",
    "plt.ylabel(\"Max Temperature (F)\")\n",
    "plt.grid(True)\n",
    "plt.savefig(\"Lat_vs_Max_Temp.png\")\n",
    "plt.show()"
   ]
  },
  {
   "cell_type": "markdown",
   "metadata": {},
   "source": [
    "## Latitude vs. Humidity Plot"
   ]
  },
  {
   "cell_type": "code",
   "execution_count": 17,
   "metadata": {},
   "outputs": [
    {
     "data": {
      "image/png": "[encoded data removed]",
      "text/plain": [
       "<Figure size 432x288 with 1 Axes>"
      ]
     },
     "metadata": {
      "needs_background": "light"
     },
     "output_type": "display_data"
    }
   ],
   "source": [
    "\n",
    "# Scatter Plot\n",
    "plt.scatter(weather_df[\"Lat\"], weather_df[\"Humidity\"], s=15, c=\"red\", edgecolors=\"black\")\n",
    "plt.title(\"City Latitude vs. Humidity (07/13/20)\")\n",
    "plt.xlabel(\"Latitude\")\n",
    "plt.ylabel(\"Humidity (%)\")\n",
    "plt.grid(True)\n",
    "plt.savefig(\"Lat_vs_Humidity.png\")\n",
    "plt.show()"
   ]
  },
  {
   "cell_type": "markdown",
   "metadata": {},
   "source": [
    "## Latitude vs. Cloudiness Plot"
   ]
  },
  {
   "cell_type": "code",
   "execution_count": 18,
   "metadata": {},
   "outputs": [
    {
     "data": {
      "image/png": "[encoded data removed]",
      "text/plain": [
       "<Figure size 432x288 with 1 Axes>"
      ]
     },
     "metadata": {
      "needs_background": "light"
     },
     "output_type": "display_data"
    }
   ],
   "source": [
    "# Scatter Plot\n",
    "plt.scatter(weather_df[\"Lat\"], weather_df[\"Cloudiness\"], s=15, c=\"red\", edgecolors=\"black\")\n",
    "plt.title(\"City Latitude vs. Cloudiness (07/13/20)\")\n",
    "plt.xlabel(\"Latitude\")\n",
    "plt.ylabel(\"Cloudiness (%)\")\n",
    "plt.grid(True)\n",
    "plt.savefig(\"Lat_vs_Cloudiness.png\")\n",
    "plt.show()"
   ]
  },
  {
   "cell_type": "markdown",
   "metadata": {},
   "source": [
    "## Latitude vs. Wind Speed Plot"
   ]
  },
  {
   "cell_type": "code",
   "execution_count": 19,
   "metadata": {},
   "outputs": [
    {
     "data": {
      "image/png": "[encoded data removed]",
      "text/plain": [
       "<Figure size 432x288 with 1 Axes>"
      ]
     },
     "metadata": {
      "needs_background": "light"
     },
     "output_type": "display_data"
    }
   ],
   "source": [
    "# Scatter Plot\n",
    "plt.scatter(weather_df[\"Lat\"], weather_df[\"Wind Speed\"], s=15, c=\"red\", edgecolors=\"black\")\n",
    "plt.title(\"City Latitude vs. Wind Speed (07/13/20)\")\n",
    "plt.xlabel(\"Latitude\")\n",
    "plt.ylabel(\"Wind Speed (mph)\")\n",
    "plt.grid(True)\n",
    "plt.savefig(\"Lat_vs_Wind.png\")\n",
    "plt.show()"
   ]
  },
  {
   "cell_type": "markdown",
   "metadata": {},
   "source": [
    "## Linear Regression"
   ]
  },
  {
   "cell_type": "code",
   "execution_count": 14,
   "metadata": {},
   "outputs": [],
   "source": [
    "# OPTIONAL: Create a function to create Linear Regression plots"
   ]
  },
  {
   "cell_type": "code",
   "execution_count": 14,
   "metadata": {},
   "outputs": [
    {
     "data": {
      "text/html": [
       "<div>\n",
       "<style scoped>\n",
       "    .dataframe tbody tr th:only-of-type {\n",
       "        vertical-align: middle;\n",
       "    }\n",
       "\n",
       "    .dataframe tbody tr th {\n",
       "        vertical-align: top;\n",
       "    }\n",
       "\n",
       "    .dataframe thead th {\n",
       "        text-align: right;\n",
       "    }\n",
       "</style>\n",
       "<table border=\"1\" class=\"dataframe\">\n",
       "  <thead>\n",
       "    <tr style=\"text-align: right;\">\n",
       "      <th></th>\n",
       "      <th>City</th>\n",
       "      <th>Cloudiness</th>\n",
       "      <th>Country</th>\n",
       "      <th>Date</th>\n",
       "      <th>Humidity</th>\n",
       "      <th>Lat</th>\n",
       "      <th>Lng</th>\n",
       "      <th>Max Temp</th>\n",
       "      <th>Wind Speed</th>\n",
       "    </tr>\n",
       "  </thead>\n",
       "  <tbody>\n",
       "    <tr>\n",
       "      <th>1</th>\n",
       "      <td>nikolskoye</td>\n",
       "      <td>0</td>\n",
       "      <td>RU</td>\n",
       "      <td>1594606763</td>\n",
       "      <td>87</td>\n",
       "      <td>59.70</td>\n",
       "      <td>30.79</td>\n",
       "      <td>52.00</td>\n",
       "      <td>2.24</td>\n",
       "    </tr>\n",
       "    <tr>\n",
       "      <th>2</th>\n",
       "      <td>iqaluit</td>\n",
       "      <td>75</td>\n",
       "      <td>CA</td>\n",
       "      <td>1594606756</td>\n",
       "      <td>76</td>\n",
       "      <td>63.75</td>\n",
       "      <td>-68.51</td>\n",
       "      <td>53.60</td>\n",
       "      <td>9.17</td>\n",
       "    </tr>\n",
       "    <tr>\n",
       "      <th>4</th>\n",
       "      <td>ust-karsk</td>\n",
       "      <td>55</td>\n",
       "      <td>RU</td>\n",
       "      <td>1594606764</td>\n",
       "      <td>27</td>\n",
       "      <td>52.70</td>\n",
       "      <td>118.81</td>\n",
       "      <td>92.57</td>\n",
       "      <td>1.41</td>\n",
       "    </tr>\n",
       "    <tr>\n",
       "      <th>5</th>\n",
       "      <td>mehamn</td>\n",
       "      <td>0</td>\n",
       "      <td>NO</td>\n",
       "      <td>1594606764</td>\n",
       "      <td>81</td>\n",
       "      <td>71.04</td>\n",
       "      <td>27.85</td>\n",
       "      <td>48.22</td>\n",
       "      <td>4.05</td>\n",
       "    </tr>\n",
       "    <tr>\n",
       "      <th>7</th>\n",
       "      <td>chingirlau</td>\n",
       "      <td>100</td>\n",
       "      <td>KZ</td>\n",
       "      <td>1594606764</td>\n",
       "      <td>51</td>\n",
       "      <td>51.09</td>\n",
       "      <td>54.08</td>\n",
       "      <td>78.60</td>\n",
       "      <td>8.46</td>\n",
       "    </tr>\n",
       "  </tbody>\n",
       "</table>\n",
       "</div>"
      ],
      "text/plain": [
       "         City  Cloudiness Country        Date  Humidity    Lat     Lng  \\\n",
       "1  nikolskoye           0      RU  1594606763        87  59.70   30.79   \n",
       "2     iqaluit          75      CA  1594606756        76  63.75  -68.51   \n",
       "4   ust-karsk          55      RU  1594606764        27  52.70  118.81   \n",
       "5      mehamn           0      NO  1594606764        81  71.04   27.85   \n",
       "7  chingirlau         100      KZ  1594606764        51  51.09   54.08   \n",
       "\n",
       "   Max Temp  Wind Speed  \n",
       "1     52.00        2.24  \n",
       "2     53.60        9.17  \n",
       "4     92.57        1.41  \n",
       "5     48.22        4.05  \n",
       "7     78.60        8.46  "
      ]
     },
     "execution_count": 14,
     "metadata": {},
     "output_type": "execute_result"
    }
   ],
   "source": [
    "# Create Northern and Southern Hemisphere DataFrames\n",
    "north_df = weather_df.loc[weather_df[\"Lat\"]>=0.01]\n",
    "south_df = weather_df.loc[weather_df[\"Lat\"]<=-0.01]\n",
    "north_df.head()"
   ]
  },
  {
   "cell_type": "markdown",
   "metadata": {},
   "source": [
    "####  Northern Hemisphere - Max Temp vs. Latitude Linear Regression"
   ]
  },
  {
   "cell_type": "code",
   "execution_count": 15,
   "metadata": {},
   "outputs": [
    {
     "name": "stdout",
     "output_type": "stream",
     "text": [
      "The r-squared is: 0.402654133026821\n"
     ]
    },
    {
     "data": {
      "image/png": "[encoded data removed]",
      "text/plain": [
       "<Figure size 432x288 with 1 Axes>"
      ]
     },
     "metadata": {
      "needs_background": "light"
     },
     "output_type": "display_data"
    }
   ],
   "source": [
    "# Add the linear regression equation and line to plot\n",
    "x_values = north_df[\"Lat\"]\n",
    "y_values = north_df[\"Max Temp\"]\n",
    "(slope, intercept, rvalue, pvalue, stderr) = linregress(x_values, y_values)\n",
    "regress_values = x_values * slope + intercept\n",
    "line_eq = \"y = \" + str(round(slope,2)) + \"x + \" + str(round(intercept,2))\n",
    "plt.scatter(x_values,y_values)\n",
    "plt.plot(x_values,regress_values,\"r-\")\n",
    "plt.annotate(line_eq,(0,10),fontsize=15,color=\"red\")\n",
    "plt.xlabel(\"Latitude\")\n",
    "plt.ylabel(\"Max Temp\")\n",
    "plt.savefig(\"Lat_vs_Max_Temp_North.png\")\n",
    "print(f\"The r-squared is: {rvalue**2}\")\n",
    "plt.show()"
   ]
  },
  {
   "cell_type": "markdown",
   "metadata": {},
   "source": [
    "####  Southern Hemisphere - Max Temp vs. Latitude Linear Regression"
   ]
  },
  {
   "cell_type": "code",
   "execution_count": 16,
   "metadata": {},
   "outputs": [
    {
     "name": "stdout",
     "output_type": "stream",
     "text": [
      "The r-squared is: 0.5951673989791016\n"
     ]
    },
    {
     "data": {
      "image/png": "[encoded data removed]",
      "text/plain": [
       "<Figure size 432x288 with 1 Axes>"
      ]
     },
     "metadata": {
      "needs_background": "light"
     },
     "output_type": "display_data"
    }
   ],
   "source": [
    "# Add the linear regression equation and line to plot\n",
    "x_values = south_df[\"Lat\"]\n",
    "y_values = south_df[\"Max Temp\"]\n",
    "(slope, intercept, rvalue, pvalue, stderr) = linregress(x_values, y_values)\n",
    "regress_values = x_values * slope + intercept\n",
    "line_eq = \"y = \" + str(round(slope,2)) + \"x + \" + str(round(intercept,2))\n",
    "plt.scatter(x_values,y_values)\n",
    "plt.plot(x_values,regress_values,\"r-\")\n",
    "plt.annotate(line_eq,(-30,45),fontsize=15,color=\"red\")\n",
    "plt.xlabel(\"Latitude\")\n",
    "plt.ylabel(\"Max Temp\")\n",
    "plt.savefig(\"Lat_vs_Max_Temp_South.png\")\n",
    "print(f\"The r-squared is: {rvalue**2}\")\n",
    "plt.show()"
   ]
  },
  {
   "cell_type": "markdown",
   "metadata": {},
   "source": [
    "####  Northern Hemisphere - Humidity (%) vs. Latitude Linear Regression"
   ]
  },
  {
   "cell_type": "code",
   "execution_count": 17,
   "metadata": {},
   "outputs": [
    {
     "name": "stdout",
     "output_type": "stream",
     "text": [
      "The r-squared is: 0.0040310246380732264\n"
     ]
    },
    {
     "data": {
      "image/png": "[encoded data removed]",
      "text/plain": [
       "<Figure size 432x288 with 1 Axes>"
      ]
     },
     "metadata": {
      "needs_background": "light"
     },
     "output_type": "display_data"
    }
   ],
   "source": [
    "# Add the linear regression equation and line to plot\n",
    "x_values = north_df[\"Lat\"]\n",
    "y_values = north_df[\"Humidity\"]\n",
    "(slope, intercept, rvalue, pvalue, stderr) = linregress(x_values, y_values)\n",
    "regress_values = x_values * slope + intercept\n",
    "line_eq = \"y = \" + str(round(slope,2)) + \"x + \" + str(round(intercept,2))\n",
    "plt.scatter(x_values,y_values)\n",
    "plt.plot(x_values,regress_values,\"r-\")\n",
    "plt.annotate(line_eq,(45,10),fontsize=15,color=\"red\")\n",
    "plt.xlabel(\"Latitude\")\n",
    "plt.ylabel(\"Humidity (%)\")\n",
    "plt.savefig(\"Lat_vs_Humidity_North.png\")\n",
    "print(f\"The r-squared is: {rvalue**2}\")\n",
    "plt.show()"
   ]
  },
  {
   "cell_type": "markdown",
   "metadata": {},
   "source": [
    "####  Southern Hemisphere - Humidity (%) vs. Latitude Linear Regression"
   ]
  },
  {
   "cell_type": "code",
   "execution_count": 18,
   "metadata": {},
   "outputs": [
    {
     "name": "stdout",
     "output_type": "stream",
     "text": [
      "The r-squared is: 0.019202482287096822\n"
     ]
    },
    {
     "data": {
      "image/png": "[encoded data removed]",
      "text/plain": [
       "<Figure size 432x288 with 1 Axes>"
      ]
     },
     "metadata": {
      "needs_background": "light"
     },
     "output_type": "display_data"
    }
   ],
   "source": [
    "# Add the linear regression equation and line to plot\n",
    "x_values = south_df[\"Lat\"]\n",
    "y_values = south_df[\"Humidity\"]\n",
    "(slope, intercept, rvalue, pvalue, stderr) = linregress(x_values, y_values)\n",
    "regress_values = x_values * slope + intercept\n",
    "line_eq = \"y = \" + str(round(slope,2)) + \"x + \" + str(round(intercept,2))\n",
    "plt.scatter(x_values,y_values)\n",
    "plt.plot(x_values,regress_values,\"r-\")\n",
    "plt.annotate(line_eq,(-25,7),fontsize=15,color=\"red\")\n",
    "plt.ylim(0,120)\n",
    "plt.xlabel(\"Latitude\")\n",
    "plt.ylabel(\"Humidity (%)\")\n",
    "plt.savefig(\"Lat_vs_Humidity_South.png\")\n",
    "print(f\"The r-squared is: {rvalue**2}\")\n",
    "plt.show()"
   ]
  },
  {
   "cell_type": "markdown",
   "metadata": {},
   "source": [
    "####  Northern Hemisphere - Cloudiness (%) vs. Latitude Linear Regression"
   ]
  },
  {
   "cell_type": "code",
   "execution_count": 19,
   "metadata": {},
   "outputs": [
    {
     "name": "stdout",
     "output_type": "stream",
     "text": [
      "The r-squared is: 0.0003626088778564356\n"
     ]
    },
    {
     "data": {
      "image/png": "[encoded data removed]",
      "text/plain": [
       "<Figure size 432x288 with 1 Axes>"
      ]
     },
     "metadata": {
      "needs_background": "light"
     },
     "output_type": "display_data"
    }
   ],
   "source": [
    "\n",
    "# Add the linear regression equation and line to plot\n",
    "x_values = north_df[\"Lat\"]\n",
    "y_values = north_df[\"Cloudiness\"]\n",
    "(slope, intercept, rvalue, pvalue, stderr) = linregress(x_values, y_values)\n",
    "regress_values = x_values * slope + intercept\n",
    "line_eq = \"y = \" + str(round(slope,2)) + \"x + \" + str(round(intercept,2))\n",
    "plt.scatter(x_values,y_values)\n",
    "plt.plot(x_values,regress_values,\"r-\")\n",
    "plt.annotate(line_eq,(0,110),fontsize=15,color=\"red\")\n",
    "plt.ylim(-5,120)\n",
    "plt.xlabel(\"Latitude\")\n",
    "plt.ylabel(\"Cloudiness (%)\")\n",
    "plt.savefig(\"Lat_vs_Cloudiness_North.png\")\n",
    "print(f\"The r-squared is: {rvalue**2}\")\n",
    "plt.show()"
   ]
  },
  {
   "cell_type": "markdown",
   "metadata": {},
   "source": [
    "####  Southern Hemisphere - Cloudiness (%) vs. Latitude Linear Regression"
   ]
  },
  {
   "cell_type": "code",
   "execution_count": 20,
   "metadata": {},
   "outputs": [
    {
     "name": "stdout",
     "output_type": "stream",
     "text": [
      "The r-squared is: 0.034454424566134734\n"
     ]
    },
    {
     "data": {
      "image/png": "[encoded data removed]",
      "text/plain": [
       "<Figure size 432x288 with 1 Axes>"
      ]
     },
     "metadata": {
      "needs_background": "light"
     },
     "output_type": "display_data"
    }
   ],
   "source": [
    "# Add the linear regression equation and line to plot\n",
    "x_values = south_df[\"Lat\"]\n",
    "y_values = south_df[\"Cloudiness\"]\n",
    "(slope, intercept, rvalue, pvalue, stderr) = linregress(x_values, y_values)\n",
    "regress_values = x_values * slope + intercept\n",
    "line_eq = \"y = \" + str(round(slope,2)) + \"x + \" + str(round(intercept,2))\n",
    "plt.scatter(x_values,y_values)\n",
    "plt.plot(x_values,regress_values,\"r-\")\n",
    "plt.annotate(line_eq,(-55,110),fontsize=15,color=\"red\")\n",
    "plt.ylim(-5,120)\n",
    "plt.xlabel(\"Latitude\")\n",
    "plt.ylabel(\"Cloudiness (%)\")\n",
    "plt.savefig(\"Lat_vs_Cloudiness_South.png\")\n",
    "print(f\"The r-squared is: {rvalue**2}\")\n",
    "plt.show()"
   ]
  },
  {
   "cell_type": "markdown",
   "metadata": {},
   "source": [
    "####  Northern Hemisphere - Wind Speed (mph) vs. Latitude Linear Regression"
   ]
  },
  {
   "cell_type": "code",
   "execution_count": 21,
   "metadata": {},
   "outputs": [
    {
     "name": "stdout",
     "output_type": "stream",
     "text": [
      "The r-squared is: 0.002746439808673691\n"
     ]
    },
    {
     "data": {
      "image/png": "[encoded data removed]",
      "text/plain": [
       "<Figure size 432x288 with 1 Axes>"
      ]
     },
     "metadata": {
      "needs_background": "light"
     },
     "output_type": "display_data"
    }
   ],
   "source": [
    "# Add the linear regression equation and line to plot\n",
    "x_values = north_df[\"Lat\"]\n",
    "y_values = north_df[\"Wind Speed\"]\n",
    "(slope, intercept, rvalue, pvalue, stderr) = linregress(x_values, y_values)\n",
    "regress_values = x_values * slope + intercept\n",
    "line_eq = \"y = \" + str(round(slope,2)) + \"x + \" + str(round(intercept,2))\n",
    "plt.scatter(x_values,y_values)\n",
    "plt.plot(x_values,regress_values,\"r-\")\n",
    "plt.annotate(line_eq,(0,40),fontsize=15,color=\"red\")\n",
    "plt.xlabel(\"Latitude\")\n",
    "plt.ylabel(\"Wind Speed (mph)\")\n",
    "plt.savefig(\"Lat_vs_Wind_North.png\")\n",
    "print(f\"The r-squared is: {rvalue**2}\")\n",
    "plt.show()"
   ]
  },
  {
   "cell_type": "markdown",
   "metadata": {},
   "source": [
    "####  Southern Hemisphere - Wind Speed (mph) vs. Latitude Linear Regression"
   ]
  },
  {
   "cell_type": "code",
   "execution_count": 22,
   "metadata": {},
   "outputs": [
    {
     "name": "stdout",
     "output_type": "stream",
     "text": [
      "The r-squared is: 0.022034183949232695\n"
     ]
    },
    {
     "data": {
      "image/png": "[encoded data removed]",
      "text/plain": [
       "<Figure size 432x288 with 1 Axes>"
      ]
     },
     "metadata": {
      "needs_background": "light"
     },
     "output_type": "display_data"
    }
   ],
   "source": [
    "# Add the linear regression equation and line to plot\n",
    "x_values = south_df[\"Lat\"]\n",
    "y_values = south_df[\"Wind Speed\"]\n",
    "(slope, intercept, rvalue, pvalue, stderr) = linregress(x_values, y_values)\n",
    "regress_values = x_values * slope + intercept\n",
    "line_eq = \"y = \" + str(round(slope,2)) + \"x + \" + str(round(intercept,2))\n",
    "plt.scatter(x_values,y_values)\n",
    "plt.plot(x_values,regress_values,\"r-\")\n",
    "plt.annotate(line_eq,(-22,19),fontsize=15,color=\"red\")\n",
    "plt.xlabel(\"Latitude\")\n",
    "plt.ylabel(\"Wind Speed (mph)\")\n",
    "plt.savefig(\"Lat_vs_Wind_South.png\")\n",
    "print(f\"The r-squared is: {rvalue**2}\")\n",
    "plt.show()"
   ]
  },
  {
   "cell_type": "code",
   "execution_count": null,
   "metadata": {},
   "outputs": [],
   "source": []
  }
 ],
 "metadata": {
  "anaconda-cloud": {},
  "kernel_info": {
   "name": "python3"
  },
  "kernelspec": {
   "display_name": "Python [conda env:PythonData] *",
   "language": "python",
   "name": "conda-env-PythonData-py"
  },
  "language_info": {
   "codemirror_mode": {
    "name": "ipython",
    "version": 3
   },
   "file_extension": ".py",
   "mimetype": "text/x-python",
   "name": "python",
   "nbconvert_exporter": "python",
   "pygments_lexer": "ipython3",
   "version": "3.6.10"
  },
  "latex_envs": {
   "LaTeX_envs_menu_present": true,
   "autoclose": false,
   "autocomplete": true,
   "bibliofile": "biblio.bib",
   "cite_by": "apalike",
   "current_citInitial": 1,
   "eqLabelWithNumbers": true,
   "eqNumInitial": 1,
   "hotkeys": {
    "equation": "Ctrl-E",
    "itemize": "Ctrl-I"
   },
   "labels_anchors": false,
   "latex_user_defs": false,
   "report_style_numbering": false,
   "user_envs_cfg": false
  },
  "nteract": {
   "version": "0.12.3"
  }
 },
 "nbformat": 4,
 "nbformat_minor": 2
}
